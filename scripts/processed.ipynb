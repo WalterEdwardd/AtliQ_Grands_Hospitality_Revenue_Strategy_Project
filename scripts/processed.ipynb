{
 "cells": [
  {
   "cell_type": "markdown",
   "metadata": {},
   "source": [
    "# **Walter Ed.**\n",
    "# **Data Cleaning for AtliQ Grands_Hospitality Revenue Improvement Project**"
   ]
  },
  {
   "cell_type": "markdown",
   "metadata": {},
   "source": [
    "## Purpose of the Notebook\n",
    "\n",
    "This notebook cleans the data to prepare it for analysis, ensuring the dataset is accurate, complete, and ready for the next steps."
   ]
  },
  {
   "cell_type": "markdown",
   "metadata": {},
   "source": [
    "## Data Overview\n",
    "### 1. \"dim_hotels\" DataFrame\n",
    "**Key Details**: This dataset contains all the information about the property. There are 25 rows, 4 columns.\n",
    "\n",
    "### 2. \"dim_rooms\" DataFrame\n",
    "**Key Details**: This dataset contains all the information about the room in property. There are 4 rows, 2 columns.\n",
    "\n",
    "### 3. \"dim_date\" DataFrame\n",
    "**Key Details**: This dataset contains the dates at daily, monthly level and week numbers of the year. There are 92 rows, 4 columns.\n",
    "\n",
    "### 4. \"fact_aggregated_bookings\" DataFrame\n",
    "**Key Details**: This dataset contains the information about the aggregated bookings. There are 9200 rows, 5 columns.\n",
    "\n",
    "### 5. \"fact_bookings\" DataFrame\n",
    "**Key Details**: This dataset contains the information about the bookings. There are 134590 rows, 12 columns."
   ]
  },
  {
   "cell_type": "markdown",
   "metadata": {},
   "source": [
    "## Key Steps in the Data Cleaning Process\n",
    "\n",
    "1. Gather basic information about the data\n",
    "2. Rename columns:\n",
    "    - Standardize column names to snake_case format, correcting any that do not follow the convention.\n",
    "3. Gather descriptive statistics about the data\n",
    "4. Check Data Types\n",
    "Check data types and convert them to the correct format if necessary.\n",
    "5.\tClean Text Data\n",
    "    - Remove spaces at the beginning and end of the string\n",
    "    - Convert text to lowcase or uppercase, optional.\n",
    "6. Check Primary Key Columns\n",
    "    - Verify the integrity of primary keys to ensure uniqueness and prevent duplicates.\n",
    "7. Check Missing Values\n",
    "    - Check for null values and handle them appropriately.\n",
    "8. Check Duplicate Values\n",
    "    - Check for duplicate records and remove them if necessary.\n",
    "9. Check Unique Values\n",
    "10. Check Foreign Key Columns\n",
    "    - Check for foreign key integrity to ensure proper relationships between tables.\n",
    "11.\tCheck for Outliers\n",
    "    - Check for outliers and handle them appropriately.\n",
    "12. Data Validity Check\n",
    "    - Check the validity of the data to ensure it meets business rules and expected logic.\n",
    "13.\tSorting data"
   ]
  },
  {
   "cell_type": "markdown",
   "metadata": {},
   "source": [
    "## Expected Outcome\n",
    "\n",
    "Upon completion, the data will be in a consistent format, with no missing values or outliers, and ready for in-depth analysis.\n",
    "\n",
    "> **Note**: Detailed steps and explanations for the code are provided below.\n"
   ]
  },
  {
   "cell_type": "markdown",
   "metadata": {},
   "source": [
    "## Step 1. Imports\n",
    "\n",
    "*   Import packages\n",
    "*   Load dataset"
   ]
  },
  {
   "cell_type": "markdown",
   "metadata": {},
   "source": [
    "### Import Packages"
   ]
  },
  {
   "cell_type": "code",
   "execution_count": 136,
   "metadata": {},
   "outputs": [],
   "source": [
    "# Import packages\n",
    "## For data manipulation\n",
    "import numpy as np\n",
    "import pandas as pd\n",
    "## For date and time manipulation\n",
    "import datetime as dt\n",
    "## For data visualization\n",
    "import seaborn as sns\n",
    "import matplotlib.pyplot as plt\n",
    "%matplotlib inline\n",
    "# For displaying all of the columns in DataFrames\n",
    "pd.set_option('display.max_columns', None)"
   ]
  },
  {
   "cell_type": "markdown",
   "metadata": {},
   "source": [
    "### Load Data"
   ]
  },
  {
   "cell_type": "code",
   "execution_count": 137,
   "metadata": {},
   "outputs": [],
   "source": [
    "# Import dim_hotels\n",
    "dim_hotels = pd.read_csv(\"C:/Users/PC/Downloads/AtliQ_Grands_Hospitality_Revenue_Strategy_Project/data/raw/dim_hotels.csv\")\n",
    "# Import dim_rooms\n",
    "dim_rooms = pd.read_csv(\"C:/Users/PC/Downloads/AtliQ_Grands_Hospitality_Revenue_Strategy_Project/data/raw/dim_rooms.csv\")\n",
    "# Import dim_date\n",
    "dim_date = pd.read_csv(\"C:/Users/PC/Downloads/AtliQ_Grands_Hospitality_Revenue_Strategy_Project/data/raw/dim_date.csv\")\n",
    "# Import fact_order_lines\n",
    "fact_bookings = pd.read_csv(\"C:/Users/PC/Downloads/AtliQ_Grands_Hospitality_Revenue_Strategy_Project/data/raw/fact_bookings.csv\")\n",
    "# Import fact_aggregated_bookings\n",
    "fact_aggregated_bookings = pd.read_csv(\"C:/Users/PC/Downloads/AtliQ_Grands_Hospitality_Revenue_Strategy_Project/data/raw/fact_aggregated_bookings.csv\")"
   ]
  },
  {
   "cell_type": "markdown",
   "metadata": {},
   "source": [
    "## Step 2. Data Exploration (Initial EDA and Data Cleaning)\n",
    "\n",
    "- Understand dataset and variables\n",
    "- Data Cleaning (Data Normalization)"
   ]
  },
  {
   "cell_type": "markdown",
   "metadata": {},
   "source": [
    "### \"dim_hotels\" DataFrame\n",
    "**Key Details**: This dataset contains all the information about the property. There are 25 rows, 4 columns, and these variables: \n",
    "\n",
    "Variable    |   Description| \n",
    "-----|-----|\n",
    "property_id|This column represents the Unique ID for each of the hotels.\n",
    "property_name|This column represents the name of each hotel.\n",
    "category|This column determines which class [Luxury, Business] a particular hotel/property belongs to. \n",
    "city|This column represents where the particular hotel/property resides in."
   ]
  },
  {
   "cell_type": "markdown",
   "metadata": {},
   "source": [
    "#### Gather Basic Information About The Data"
   ]
  },
  {
   "cell_type": "code",
   "execution_count": 138,
   "metadata": {},
   "outputs": [
    {
     "name": "stdout",
     "output_type": "stream",
     "text": [
      "<class 'pandas.core.frame.DataFrame'>\n",
      "RangeIndex: 25 entries, 0 to 24\n",
      "Data columns (total 4 columns):\n",
      " #   Column         Non-Null Count  Dtype \n",
      "---  ------         --------------  ----- \n",
      " 0   property_id    25 non-null     int64 \n",
      " 1   property_name  25 non-null     object\n",
      " 2   category       25 non-null     object\n",
      " 3   city           25 non-null     object\n",
      "dtypes: int64(1), object(3)\n",
      "memory usage: 932.0+ bytes\n"
     ]
    }
   ],
   "source": [
    "# gather basic information about the data\n",
    "dim_hotels.info()"
   ]
  },
  {
   "cell_type": "code",
   "execution_count": 139,
   "metadata": {},
   "outputs": [
    {
     "data": {
      "text/html": [
       "<div>\n",
       "<style scoped>\n",
       "    .dataframe tbody tr th:only-of-type {\n",
       "        vertical-align: middle;\n",
       "    }\n",
       "\n",
       "    .dataframe tbody tr th {\n",
       "        vertical-align: top;\n",
       "    }\n",
       "\n",
       "    .dataframe thead th {\n",
       "        text-align: right;\n",
       "    }\n",
       "</style>\n",
       "<table border=\"1\" class=\"dataframe\">\n",
       "  <thead>\n",
       "    <tr style=\"text-align: right;\">\n",
       "      <th></th>\n",
       "      <th>property_id</th>\n",
       "      <th>property_name</th>\n",
       "      <th>category</th>\n",
       "      <th>city</th>\n",
       "    </tr>\n",
       "  </thead>\n",
       "  <tbody>\n",
       "    <tr>\n",
       "      <th>0</th>\n",
       "      <td>16558</td>\n",
       "      <td>Atliq Grands</td>\n",
       "      <td>Luxury</td>\n",
       "      <td>Delhi</td>\n",
       "    </tr>\n",
       "  </tbody>\n",
       "</table>\n",
       "</div>"
      ],
      "text/plain": [
       "   property_id property_name category   city\n",
       "0        16558  Atliq Grands   Luxury  Delhi"
      ]
     },
     "execution_count": 139,
     "metadata": {},
     "output_type": "execute_result"
    }
   ],
   "source": [
    "# top records\n",
    "dim_hotels.head(1)"
   ]
  },
  {
   "cell_type": "code",
   "execution_count": 140,
   "metadata": {},
   "outputs": [
    {
     "data": {
      "text/html": [
       "<div>\n",
       "<style scoped>\n",
       "    .dataframe tbody tr th:only-of-type {\n",
       "        vertical-align: middle;\n",
       "    }\n",
       "\n",
       "    .dataframe tbody tr th {\n",
       "        vertical-align: top;\n",
       "    }\n",
       "\n",
       "    .dataframe thead th {\n",
       "        text-align: right;\n",
       "    }\n",
       "</style>\n",
       "<table border=\"1\" class=\"dataframe\">\n",
       "  <thead>\n",
       "    <tr style=\"text-align: right;\">\n",
       "      <th></th>\n",
       "      <th>property_id</th>\n",
       "      <th>property_name</th>\n",
       "      <th>category</th>\n",
       "      <th>city</th>\n",
       "    </tr>\n",
       "  </thead>\n",
       "  <tbody>\n",
       "    <tr>\n",
       "      <th>24</th>\n",
       "      <td>17564</td>\n",
       "      <td>Atliq Seasons</td>\n",
       "      <td>Business</td>\n",
       "      <td>Mumbai</td>\n",
       "    </tr>\n",
       "  </tbody>\n",
       "</table>\n",
       "</div>"
      ],
      "text/plain": [
       "    property_id  property_name  category    city\n",
       "24        17564  Atliq Seasons  Business  Mumbai"
      ]
     },
     "execution_count": 140,
     "metadata": {},
     "output_type": "execute_result"
    }
   ],
   "source": [
    "# last records\n",
    "dim_hotels.tail(1)"
   ]
  },
  {
   "cell_type": "markdown",
   "metadata": {},
   "source": [
    "#### Rename Columns"
   ]
  },
  {
   "cell_type": "code",
   "execution_count": 141,
   "metadata": {},
   "outputs": [
    {
     "data": {
      "text/plain": [
       "Index(['property_id', 'property_name', 'category', 'city'], dtype='object')"
      ]
     },
     "execution_count": 141,
     "metadata": {},
     "output_type": "execute_result"
    }
   ],
   "source": [
    "# display all columns names\n",
    "dim_hotels.columns"
   ]
  },
  {
   "cell_type": "markdown",
   "metadata": {},
   "source": [
    "**Comment:**\n",
    "Column names are already standardized to `snake_case` and do not require further modification."
   ]
  },
  {
   "cell_type": "markdown",
   "metadata": {},
   "source": [
    "#### Gather Descriptive Statistics About The Data"
   ]
  },
  {
   "cell_type": "code",
   "execution_count": 142,
   "metadata": {},
   "outputs": [
    {
     "data": {
      "text/html": [
       "<div>\n",
       "<style scoped>\n",
       "    .dataframe tbody tr th:only-of-type {\n",
       "        vertical-align: middle;\n",
       "    }\n",
       "\n",
       "    .dataframe tbody tr th {\n",
       "        vertical-align: top;\n",
       "    }\n",
       "\n",
       "    .dataframe thead th {\n",
       "        text-align: right;\n",
       "    }\n",
       "</style>\n",
       "<table border=\"1\" class=\"dataframe\">\n",
       "  <thead>\n",
       "    <tr style=\"text-align: right;\">\n",
       "      <th></th>\n",
       "      <th>count</th>\n",
       "      <th>mean</th>\n",
       "      <th>std</th>\n",
       "      <th>min</th>\n",
       "      <th>25%</th>\n",
       "      <th>50%</th>\n",
       "      <th>75%</th>\n",
       "      <th>max</th>\n",
       "    </tr>\n",
       "  </thead>\n",
       "  <tbody>\n",
       "    <tr>\n",
       "      <th>property_id</th>\n",
       "      <td>25.0</td>\n",
       "      <td>18040.64</td>\n",
       "      <td>1122.436371</td>\n",
       "      <td>16558.0</td>\n",
       "      <td>17558.0</td>\n",
       "      <td>17564.0</td>\n",
       "      <td>18563.0</td>\n",
       "      <td>19563.0</td>\n",
       "    </tr>\n",
       "  </tbody>\n",
       "</table>\n",
       "</div>"
      ],
      "text/plain": [
       "             count      mean          std      min      25%      50%      75%  \\\n",
       "property_id   25.0  18040.64  1122.436371  16558.0  17558.0  17564.0  18563.0   \n",
       "\n",
       "                 max  \n",
       "property_id  19563.0  "
      ]
     },
     "execution_count": 142,
     "metadata": {},
     "output_type": "execute_result"
    }
   ],
   "source": [
    "# gather descriptive statistics about the data\n",
    "dim_hotels.describe().T"
   ]
  },
  {
   "cell_type": "markdown",
   "metadata": {},
   "source": [
    "#### Check Data Types"
   ]
  },
  {
   "cell_type": "code",
   "execution_count": 143,
   "metadata": {},
   "outputs": [
    {
     "data": {
      "text/plain": [
       "property_id       int64\n",
       "property_name    object\n",
       "category         object\n",
       "city             object\n",
       "dtype: object"
      ]
     },
     "execution_count": 143,
     "metadata": {},
     "output_type": "execute_result"
    }
   ],
   "source": [
    "# check for datatypes\n",
    "dim_hotels.dtypes"
   ]
  },
  {
   "cell_type": "markdown",
   "metadata": {},
   "source": [
    "**Comment:**\n",
    "All data types are correct; no modifications needed."
   ]
  },
  {
   "cell_type": "markdown",
   "metadata": {},
   "source": [
    "#### Clean Text Data"
   ]
  },
  {
   "cell_type": "code",
   "execution_count": 144,
   "metadata": {},
   "outputs": [],
   "source": [
    "# list of text columns to clean\n",
    "hotel_text_list = dim_hotels.select_dtypes(include='object').columns.tolist()\n",
    "\n",
    "# remove spaces at the beginning and end of the string\n",
    "dim_hotels[hotel_text_list] = dim_hotels[hotel_text_list].apply(lambda x: x.str.strip())\n",
    "\n",
    "# convert text to lowercase\n",
    "dim_hotels[hotel_text_list] = dim_hotels[hotel_text_list].apply(lambda x: x.str.lower())"
   ]
  },
  {
   "cell_type": "markdown",
   "metadata": {},
   "source": [
    "#### Check Primary Key Columns"
   ]
  },
  {
   "cell_type": "code",
   "execution_count": 145,
   "metadata": {},
   "outputs": [
    {
     "name": "stdout",
     "output_type": "stream",
     "text": [
      "The number of null values in the key identifier column is 0\n",
      "The number of duplicated values in the key identifier column 0\n",
      "The number of unique values in the key identifier column is 25\n",
      "[16558 16559 16560 16561 16562 16563 17558 17559 17560 17561 17562 17563\n",
      " 18558 18559 18560 18561 18562 18563 19558 19559 19560 19561 19562 19563\n",
      " 17564]\n"
     ]
    }
   ],
   "source": [
    "# check the number of null values in the key identifier column\n",
    "print(f\"The number of null values in the key identifier column is {dim_hotels['property_id'].isnull().sum()}\")\n",
    "# check the number of duplicated values in the key identifier column\n",
    "print(f\"The number of duplicated values in the key identifier column {dim_hotels['property_id'].duplicated().sum()}\")\n",
    "# check the unique values in the key identifier column\n",
    "print(f\"The number of unique values in the key identifier column is {dim_hotels['property_id'].unique().shape[0]}\")\n",
    "print(f\"{dim_hotels['property_id'].unique()}\")"
   ]
  },
  {
   "cell_type": "markdown",
   "metadata": {},
   "source": [
    "**Comment:**\n",
    "Key Identifier is valid, no modifications required."
   ]
  },
  {
   "cell_type": "markdown",
   "metadata": {},
   "source": [
    "#### Check Missing Values"
   ]
  },
  {
   "cell_type": "code",
   "execution_count": 146,
   "metadata": {},
   "outputs": [
    {
     "data": {
      "text/plain": [
       "property_id      0\n",
       "property_name    0\n",
       "category         0\n",
       "city             0\n",
       "dtype: int64"
      ]
     },
     "execution_count": 146,
     "metadata": {},
     "output_type": "execute_result"
    }
   ],
   "source": [
    "# check for missing values\n",
    "dim_hotels.isnull().sum()"
   ]
  },
  {
   "cell_type": "markdown",
   "metadata": {},
   "source": [
    "**Comment:**\n",
    "No null values found in the column, all values are present."
   ]
  },
  {
   "cell_type": "markdown",
   "metadata": {},
   "source": [
    "#### Check Duplicate Values"
   ]
  },
  {
   "cell_type": "code",
   "execution_count": 147,
   "metadata": {},
   "outputs": [
    {
     "data": {
      "text/plain": [
       "0"
      ]
     },
     "execution_count": 147,
     "metadata": {},
     "output_type": "execute_result"
    }
   ],
   "source": [
    "# check for duplicates values\n",
    "dim_hotels.duplicated().sum()"
   ]
  },
  {
   "cell_type": "markdown",
   "metadata": {},
   "source": [
    "**Comment:**\n",
    "No duplicate values found in the column, all entries are unique."
   ]
  },
  {
   "cell_type": "markdown",
   "metadata": {},
   "source": [
    "#### Check Unique Values"
   ]
  },
  {
   "cell_type": "code",
   "execution_count": 148,
   "metadata": {},
   "outputs": [
    {
     "data": {
      "text/plain": [
       "property_id      25\n",
       "property_name     7\n",
       "category          2\n",
       "city              4\n",
       "dtype: int64"
      ]
     },
     "execution_count": 148,
     "metadata": {},
     "output_type": "execute_result"
    }
   ],
   "source": [
    "# check for unique values\n",
    "dim_hotels.nunique()"
   ]
  },
  {
   "cell_type": "code",
   "execution_count": 149,
   "metadata": {},
   "outputs": [
    {
     "name": "stdout",
     "output_type": "stream",
     "text": [
      "The number of unique values in the column is 7\n",
      "['atliq grands' 'atliq exotica' 'atliq city' 'atliq blu' 'atliq bay'\n",
      " 'atliq palace' 'atliq seasons']\n"
     ]
    }
   ],
   "source": [
    "# check unique values in the column\n",
    "print(f\"The number of unique values in the column is {dim_hotels['property_name'].unique().shape[0]}\")\n",
    "print(f\"{dim_hotels['property_name'].unique()}\")"
   ]
  },
  {
   "cell_type": "code",
   "execution_count": 150,
   "metadata": {},
   "outputs": [
    {
     "name": "stdout",
     "output_type": "stream",
     "text": [
      "The number of unique values in the column is 2\n",
      "['luxury' 'business']\n"
     ]
    }
   ],
   "source": [
    "# check unique values in the column\n",
    "print(f\"The number of unique values in the column is {dim_hotels['category'].unique().shape[0]}\")\n",
    "print(f\"{dim_hotels['category'].unique()}\")"
   ]
  },
  {
   "cell_type": "code",
   "execution_count": 151,
   "metadata": {},
   "outputs": [
    {
     "name": "stdout",
     "output_type": "stream",
     "text": [
      "The number of unique values in the column is 4\n",
      "['delhi' 'mumbai' 'hyderabad' 'bangalore']\n"
     ]
    }
   ],
   "source": [
    "# check unique values in the column\n",
    "print(f\"The number of unique values in the column is {dim_hotels['city'].unique().shape[0]}\")\n",
    "print(f\"{dim_hotels['city'].unique()}\")"
   ]
  },
  {
   "cell_type": "markdown",
   "metadata": {},
   "source": [
    "#### Sort Data\n",
    "After cleaning your data, sorting is essential for easier analysis."
   ]
  },
  {
   "cell_type": "code",
   "execution_count": 152,
   "metadata": {},
   "outputs": [],
   "source": [
    "# Sort the DataFrame by the specified column\n",
    "dim_hotels = dim_hotels.sort_values(by=['property_id'], ascending=True).reset_index(drop=True)"
   ]
  },
  {
   "cell_type": "markdown",
   "metadata": {},
   "source": [
    "### \"dim_rooms\" DataFrame\n",
    "**Key Details**: This dataset contains all the information about the room in property. There are 4 rows, 2 columns, and these variables: \n",
    "\n",
    "Variable    |   Description| \n",
    "-----|-----|\n",
    "room_id|This column represents the type of room [RT1, RT2, RT3, RT4] in a hotel.\n",
    "room_class|This column represents to which class [Standard, Elite, Premium, Presidential] particular room type belongs.\n"
   ]
  },
  {
   "cell_type": "markdown",
   "metadata": {},
   "source": [
    "#### Gather Basic Information About the Data"
   ]
  },
  {
   "cell_type": "code",
   "execution_count": 153,
   "metadata": {},
   "outputs": [
    {
     "name": "stdout",
     "output_type": "stream",
     "text": [
      "<class 'pandas.core.frame.DataFrame'>\n",
      "RangeIndex: 4 entries, 0 to 3\n",
      "Data columns (total 2 columns):\n",
      " #   Column      Non-Null Count  Dtype \n",
      "---  ------      --------------  ----- \n",
      " 0   room_id     4 non-null      object\n",
      " 1   room_class  4 non-null      object\n",
      "dtypes: object(2)\n",
      "memory usage: 196.0+ bytes\n"
     ]
    }
   ],
   "source": [
    "# gather basic information about the data\n",
    "dim_rooms.info()"
   ]
  },
  {
   "cell_type": "code",
   "execution_count": 154,
   "metadata": {},
   "outputs": [
    {
     "data": {
      "text/html": [
       "<div>\n",
       "<style scoped>\n",
       "    .dataframe tbody tr th:only-of-type {\n",
       "        vertical-align: middle;\n",
       "    }\n",
       "\n",
       "    .dataframe tbody tr th {\n",
       "        vertical-align: top;\n",
       "    }\n",
       "\n",
       "    .dataframe thead th {\n",
       "        text-align: right;\n",
       "    }\n",
       "</style>\n",
       "<table border=\"1\" class=\"dataframe\">\n",
       "  <thead>\n",
       "    <tr style=\"text-align: right;\">\n",
       "      <th></th>\n",
       "      <th>room_id</th>\n",
       "      <th>room_class</th>\n",
       "    </tr>\n",
       "  </thead>\n",
       "  <tbody>\n",
       "    <tr>\n",
       "      <th>0</th>\n",
       "      <td>RT1</td>\n",
       "      <td>Standard</td>\n",
       "    </tr>\n",
       "    <tr>\n",
       "      <th>1</th>\n",
       "      <td>RT2</td>\n",
       "      <td>Elite</td>\n",
       "    </tr>\n",
       "    <tr>\n",
       "      <th>2</th>\n",
       "      <td>RT3</td>\n",
       "      <td>Premium</td>\n",
       "    </tr>\n",
       "    <tr>\n",
       "      <th>3</th>\n",
       "      <td>RT4</td>\n",
       "      <td>Presidential</td>\n",
       "    </tr>\n",
       "  </tbody>\n",
       "</table>\n",
       "</div>"
      ],
      "text/plain": [
       "  room_id    room_class\n",
       "0     RT1      Standard\n",
       "1     RT2         Elite\n",
       "2     RT3       Premium\n",
       "3     RT4  Presidential"
      ]
     },
     "execution_count": 154,
     "metadata": {},
     "output_type": "execute_result"
    }
   ],
   "source": [
    "# top record\n",
    "dim_rooms.head()"
   ]
  },
  {
   "cell_type": "markdown",
   "metadata": {},
   "source": [
    "#### Rename Columns"
   ]
  },
  {
   "cell_type": "code",
   "execution_count": 155,
   "metadata": {},
   "outputs": [
    {
     "data": {
      "text/plain": [
       "Index(['room_id', 'room_class'], dtype='object')"
      ]
     },
     "execution_count": 155,
     "metadata": {},
     "output_type": "execute_result"
    }
   ],
   "source": [
    "# display all column names\n",
    "dim_rooms.columns"
   ]
  },
  {
   "cell_type": "markdown",
   "metadata": {},
   "source": [
    "**Comment:**\n",
    "Column names are already standardized to `snake_case` and do not require further modification."
   ]
  },
  {
   "cell_type": "markdown",
   "metadata": {},
   "source": [
    "#### Gather Descriptive Statistics About The Data"
   ]
  },
  {
   "cell_type": "code",
   "execution_count": 156,
   "metadata": {},
   "outputs": [
    {
     "data": {
      "text/html": [
       "<div>\n",
       "<style scoped>\n",
       "    .dataframe tbody tr th:only-of-type {\n",
       "        vertical-align: middle;\n",
       "    }\n",
       "\n",
       "    .dataframe tbody tr th {\n",
       "        vertical-align: top;\n",
       "    }\n",
       "\n",
       "    .dataframe thead th {\n",
       "        text-align: right;\n",
       "    }\n",
       "</style>\n",
       "<table border=\"1\" class=\"dataframe\">\n",
       "  <thead>\n",
       "    <tr style=\"text-align: right;\">\n",
       "      <th></th>\n",
       "      <th>count</th>\n",
       "      <th>unique</th>\n",
       "      <th>top</th>\n",
       "      <th>freq</th>\n",
       "    </tr>\n",
       "  </thead>\n",
       "  <tbody>\n",
       "    <tr>\n",
       "      <th>room_id</th>\n",
       "      <td>4</td>\n",
       "      <td>4</td>\n",
       "      <td>RT1</td>\n",
       "      <td>1</td>\n",
       "    </tr>\n",
       "    <tr>\n",
       "      <th>room_class</th>\n",
       "      <td>4</td>\n",
       "      <td>4</td>\n",
       "      <td>Standard</td>\n",
       "      <td>1</td>\n",
       "    </tr>\n",
       "  </tbody>\n",
       "</table>\n",
       "</div>"
      ],
      "text/plain": [
       "           count unique       top freq\n",
       "room_id        4      4       RT1    1\n",
       "room_class     4      4  Standard    1"
      ]
     },
     "execution_count": 156,
     "metadata": {},
     "output_type": "execute_result"
    }
   ],
   "source": [
    "# gather descriptive statistics about the data\n",
    "dim_rooms.describe().T"
   ]
  },
  {
   "cell_type": "markdown",
   "metadata": {},
   "source": [
    "#### Check Data Types"
   ]
  },
  {
   "cell_type": "code",
   "execution_count": 157,
   "metadata": {},
   "outputs": [
    {
     "data": {
      "text/plain": [
       "room_id       object\n",
       "room_class    object\n",
       "dtype: object"
      ]
     },
     "execution_count": 157,
     "metadata": {},
     "output_type": "execute_result"
    }
   ],
   "source": [
    "# check for datatypes\n",
    "dim_rooms.dtypes"
   ]
  },
  {
   "cell_type": "markdown",
   "metadata": {},
   "source": [
    "**Comment:**\n",
    "All data types are correct; no modifications needed."
   ]
  },
  {
   "cell_type": "markdown",
   "metadata": {},
   "source": [
    "#### Clean Text Data"
   ]
  },
  {
   "cell_type": "code",
   "execution_count": 158,
   "metadata": {},
   "outputs": [],
   "source": [
    "# list of text columns to clean\n",
    "room_text_list = dim_rooms.select_dtypes(include='object').columns.tolist()\n",
    "\n",
    "# remove spaces at the beginning and end of the string\n",
    "dim_rooms[room_text_list] = dim_rooms[room_text_list].apply(lambda x: x.str.strip())\n",
    "\n",
    "# convert text to lowercase\n",
    "dim_rooms[room_text_list] = dim_rooms[room_text_list].apply(lambda x: x.str.lower())"
   ]
  },
  {
   "cell_type": "markdown",
   "metadata": {},
   "source": [
    "#### Check Primary Key Columns"
   ]
  },
  {
   "cell_type": "code",
   "execution_count": 159,
   "metadata": {},
   "outputs": [
    {
     "name": "stdout",
     "output_type": "stream",
     "text": [
      "The number of null values in the Key Identifier column is 0\n",
      "The number of duplicated values in the Key Identifier column is 0\n",
      "The number of unique values in the Key Identifier column is 4\n",
      "['rt1' 'rt2' 'rt3' 'rt4']\n"
     ]
    }
   ],
   "source": [
    "# check the number of null values in the key identifier column\n",
    "print(f\"The number of null values in the Key Identifier column is {dim_rooms['room_id'].isnull().sum()}\")\n",
    "# check the number of duplicated values in the key identifier column\n",
    "print(f\"The number of duplicated values in the Key Identifier column is {dim_rooms['room_id'].duplicated().sum()}\")\n",
    "# Check the unique values in the Key Identifier column\n",
    "print(f\"The number of unique values in the Key Identifier column is {dim_rooms['room_id'].unique().shape[0]}\")\n",
    "print(f\"{dim_rooms['room_id'].unique()}\")"
   ]
  },
  {
   "cell_type": "markdown",
   "metadata": {},
   "source": [
    "**Comment:**\n",
    "Key Identifier is valid, no modifications required."
   ]
  },
  {
   "cell_type": "markdown",
   "metadata": {},
   "source": [
    "#### Check Missing Values"
   ]
  },
  {
   "cell_type": "code",
   "execution_count": 160,
   "metadata": {},
   "outputs": [
    {
     "data": {
      "text/plain": [
       "room_id       0\n",
       "room_class    0\n",
       "dtype: int64"
      ]
     },
     "execution_count": 160,
     "metadata": {},
     "output_type": "execute_result"
    }
   ],
   "source": [
    "# check for missing values\n",
    "dim_rooms.isnull().sum()"
   ]
  },
  {
   "cell_type": "markdown",
   "metadata": {},
   "source": [
    "**Comment:**\n",
    "No null values found in the column, all values are present."
   ]
  },
  {
   "cell_type": "markdown",
   "metadata": {},
   "source": [
    "#### Check Duplicates Values"
   ]
  },
  {
   "cell_type": "code",
   "execution_count": 161,
   "metadata": {},
   "outputs": [
    {
     "data": {
      "text/plain": [
       "0"
      ]
     },
     "execution_count": 161,
     "metadata": {},
     "output_type": "execute_result"
    }
   ],
   "source": [
    "# check for duplicated values\n",
    "dim_rooms.duplicated().sum()"
   ]
  },
  {
   "cell_type": "markdown",
   "metadata": {},
   "source": [
    "**Comment:**\n",
    "No duplicate values found in the column, all entries are unique."
   ]
  },
  {
   "cell_type": "markdown",
   "metadata": {},
   "source": [
    "#### Check Unique Values"
   ]
  },
  {
   "cell_type": "code",
   "execution_count": 162,
   "metadata": {},
   "outputs": [
    {
     "data": {
      "text/plain": [
       "room_id       4\n",
       "room_class    4\n",
       "dtype: int64"
      ]
     },
     "execution_count": 162,
     "metadata": {},
     "output_type": "execute_result"
    }
   ],
   "source": [
    "# check for unique values\n",
    "dim_rooms.nunique()"
   ]
  },
  {
   "cell_type": "code",
   "execution_count": 163,
   "metadata": {},
   "outputs": [
    {
     "name": "stdout",
     "output_type": "stream",
     "text": [
      "The number of unique values in the column is 4\n",
      "['standard' 'elite' 'premium' 'presidential']\n"
     ]
    }
   ],
   "source": [
    "# check unique values in the column\n",
    "print(f\"The number of unique values in the column is {dim_rooms['room_class'].unique().shape[0]}\")\n",
    "print(f\"{dim_rooms['room_class'].unique()}\")"
   ]
  },
  {
   "cell_type": "markdown",
   "metadata": {},
   "source": [
    "#### Sort Data\n",
    "After cleaning your data, sorting is essential for easier analysis."
   ]
  },
  {
   "cell_type": "code",
   "execution_count": 164,
   "metadata": {},
   "outputs": [],
   "source": [
    "# Sort the DataFrame by the specified column\n",
    "dim_rooms = dim_rooms.sort_values(by=['room_id'], ascending=True).reset_index(drop=True)"
   ]
  },
  {
   "cell_type": "markdown",
   "metadata": {},
   "source": [
    "### \"fact_aggregated_bookings\" DataFrame\n",
    "**Key Details**: This dataset contains the information about the aggregated bookings. There are 9200 rows, 5 columns, and these variables: \n",
    "\n",
    "Variable    |   Description| \n",
    "-----|-----|\n",
    "property_id|This column represents the Unique ID for each of the hotels.\n",
    "check_in_date|This column represents all the check_in_dates of the customers.\n",
    "room_category|This column represents the type of room [RT1, RT2, RT3, RT4] in a hotel.\n",
    "successful_bookings|This column represents all the successful room bookings that happen for a particular room type in that hotel on that particular date.\n",
    "capacity|This column represents the maximum count of rooms available for a particular room type in that hotel on that particular date."
   ]
  },
  {
   "cell_type": "markdown",
   "metadata": {},
   "source": [
    "#### Gather Basic Information About The Data"
   ]
  },
  {
   "cell_type": "code",
   "execution_count": 165,
   "metadata": {},
   "outputs": [
    {
     "name": "stdout",
     "output_type": "stream",
     "text": [
      "<class 'pandas.core.frame.DataFrame'>\n",
      "RangeIndex: 9200 entries, 0 to 9199\n",
      "Data columns (total 5 columns):\n",
      " #   Column               Non-Null Count  Dtype \n",
      "---  ------               --------------  ----- \n",
      " 0   property_id          9200 non-null   int64 \n",
      " 1   check_in_date        9200 non-null   object\n",
      " 2   room_category        9200 non-null   object\n",
      " 3   successful_bookings  9200 non-null   int64 \n",
      " 4   capacity             9200 non-null   int64 \n",
      "dtypes: int64(3), object(2)\n",
      "memory usage: 359.5+ KB\n"
     ]
    }
   ],
   "source": [
    "# gather basic information about the data\n",
    "fact_aggregated_bookings.info()"
   ]
  },
  {
   "cell_type": "code",
   "execution_count": 166,
   "metadata": {},
   "outputs": [
    {
     "data": {
      "text/html": [
       "<div>\n",
       "<style scoped>\n",
       "    .dataframe tbody tr th:only-of-type {\n",
       "        vertical-align: middle;\n",
       "    }\n",
       "\n",
       "    .dataframe tbody tr th {\n",
       "        vertical-align: top;\n",
       "    }\n",
       "\n",
       "    .dataframe thead th {\n",
       "        text-align: right;\n",
       "    }\n",
       "</style>\n",
       "<table border=\"1\" class=\"dataframe\">\n",
       "  <thead>\n",
       "    <tr style=\"text-align: right;\">\n",
       "      <th></th>\n",
       "      <th>property_id</th>\n",
       "      <th>check_in_date</th>\n",
       "      <th>room_category</th>\n",
       "      <th>successful_bookings</th>\n",
       "      <th>capacity</th>\n",
       "    </tr>\n",
       "  </thead>\n",
       "  <tbody>\n",
       "    <tr>\n",
       "      <th>0</th>\n",
       "      <td>16559</td>\n",
       "      <td>01-May-22</td>\n",
       "      <td>RT1</td>\n",
       "      <td>25</td>\n",
       "      <td>30</td>\n",
       "    </tr>\n",
       "  </tbody>\n",
       "</table>\n",
       "</div>"
      ],
      "text/plain": [
       "   property_id check_in_date room_category  successful_bookings  capacity\n",
       "0        16559     01-May-22           RT1                   25        30"
      ]
     },
     "execution_count": 166,
     "metadata": {},
     "output_type": "execute_result"
    }
   ],
   "source": [
    "# top record\n",
    "fact_aggregated_bookings.head(1)"
   ]
  },
  {
   "cell_type": "code",
   "execution_count": 167,
   "metadata": {},
   "outputs": [
    {
     "data": {
      "text/html": [
       "<div>\n",
       "<style scoped>\n",
       "    .dataframe tbody tr th:only-of-type {\n",
       "        vertical-align: middle;\n",
       "    }\n",
       "\n",
       "    .dataframe tbody tr th {\n",
       "        vertical-align: top;\n",
       "    }\n",
       "\n",
       "    .dataframe thead th {\n",
       "        text-align: right;\n",
       "    }\n",
       "</style>\n",
       "<table border=\"1\" class=\"dataframe\">\n",
       "  <thead>\n",
       "    <tr style=\"text-align: right;\">\n",
       "      <th></th>\n",
       "      <th>property_id</th>\n",
       "      <th>check_in_date</th>\n",
       "      <th>room_category</th>\n",
       "      <th>successful_bookings</th>\n",
       "      <th>capacity</th>\n",
       "    </tr>\n",
       "  </thead>\n",
       "  <tbody>\n",
       "    <tr>\n",
       "      <th>9199</th>\n",
       "      <td>17561</td>\n",
       "      <td>31-Jul-22</td>\n",
       "      <td>RT4</td>\n",
       "      <td>3</td>\n",
       "      <td>4</td>\n",
       "    </tr>\n",
       "  </tbody>\n",
       "</table>\n",
       "</div>"
      ],
      "text/plain": [
       "      property_id check_in_date room_category  successful_bookings  capacity\n",
       "9199        17561     31-Jul-22           RT4                    3         4"
      ]
     },
     "execution_count": 167,
     "metadata": {},
     "output_type": "execute_result"
    }
   ],
   "source": [
    "# last record\n",
    "fact_aggregated_bookings.tail(1)"
   ]
  },
  {
   "cell_type": "markdown",
   "metadata": {},
   "source": [
    "#### Rename Columns"
   ]
  },
  {
   "cell_type": "code",
   "execution_count": 168,
   "metadata": {},
   "outputs": [
    {
     "data": {
      "text/plain": [
       "Index(['property_id', 'check_in_date', 'room_category', 'successful_bookings',\n",
       "       'capacity'],\n",
       "      dtype='object')"
      ]
     },
     "execution_count": 168,
     "metadata": {},
     "output_type": "execute_result"
    }
   ],
   "source": [
    "# display all column names\n",
    "fact_aggregated_bookings.columns"
   ]
  },
  {
   "cell_type": "markdown",
   "metadata": {},
   "source": [
    "**Comment:**\n",
    "Column names are already standardized to `snake_case` and do not require further modification."
   ]
  },
  {
   "cell_type": "markdown",
   "metadata": {},
   "source": [
    "#### Gather Descriptive Statistics About The Data"
   ]
  },
  {
   "cell_type": "code",
   "execution_count": 169,
   "metadata": {},
   "outputs": [
    {
     "data": {
      "text/html": [
       "<div>\n",
       "<style scoped>\n",
       "    .dataframe tbody tr th:only-of-type {\n",
       "        vertical-align: middle;\n",
       "    }\n",
       "\n",
       "    .dataframe tbody tr th {\n",
       "        vertical-align: top;\n",
       "    }\n",
       "\n",
       "    .dataframe thead th {\n",
       "        text-align: right;\n",
       "    }\n",
       "</style>\n",
       "<table border=\"1\" class=\"dataframe\">\n",
       "  <thead>\n",
       "    <tr style=\"text-align: right;\">\n",
       "      <th></th>\n",
       "      <th>count</th>\n",
       "      <th>mean</th>\n",
       "      <th>std</th>\n",
       "      <th>min</th>\n",
       "      <th>25%</th>\n",
       "      <th>50%</th>\n",
       "      <th>75%</th>\n",
       "      <th>max</th>\n",
       "    </tr>\n",
       "  </thead>\n",
       "  <tbody>\n",
       "    <tr>\n",
       "      <th>property_id</th>\n",
       "      <td>9200.0</td>\n",
       "      <td>18040.640000</td>\n",
       "      <td>1099.818325</td>\n",
       "      <td>16558.0</td>\n",
       "      <td>17558.0</td>\n",
       "      <td>17564.0</td>\n",
       "      <td>18563.0</td>\n",
       "      <td>19563.0</td>\n",
       "    </tr>\n",
       "    <tr>\n",
       "      <th>successful_bookings</th>\n",
       "      <td>9200.0</td>\n",
       "      <td>14.629348</td>\n",
       "      <td>7.591770</td>\n",
       "      <td>1.0</td>\n",
       "      <td>9.0</td>\n",
       "      <td>14.0</td>\n",
       "      <td>19.0</td>\n",
       "      <td>43.0</td>\n",
       "    </tr>\n",
       "    <tr>\n",
       "      <th>capacity</th>\n",
       "      <td>9200.0</td>\n",
       "      <td>25.280000</td>\n",
       "      <td>11.440971</td>\n",
       "      <td>3.0</td>\n",
       "      <td>18.0</td>\n",
       "      <td>25.0</td>\n",
       "      <td>34.0</td>\n",
       "      <td>50.0</td>\n",
       "    </tr>\n",
       "  </tbody>\n",
       "</table>\n",
       "</div>"
      ],
      "text/plain": [
       "                      count          mean          std      min      25%  \\\n",
       "property_id          9200.0  18040.640000  1099.818325  16558.0  17558.0   \n",
       "successful_bookings  9200.0     14.629348     7.591770      1.0      9.0   \n",
       "capacity             9200.0     25.280000    11.440971      3.0     18.0   \n",
       "\n",
       "                         50%      75%      max  \n",
       "property_id          17564.0  18563.0  19563.0  \n",
       "successful_bookings     14.0     19.0     43.0  \n",
       "capacity                25.0     34.0     50.0  "
      ]
     },
     "execution_count": 169,
     "metadata": {},
     "output_type": "execute_result"
    }
   ],
   "source": [
    "# gather descriptive statistics about the data\n",
    "fact_aggregated_bookings.describe().T"
   ]
  },
  {
   "cell_type": "markdown",
   "metadata": {},
   "source": [
    "#### Check Data Types"
   ]
  },
  {
   "cell_type": "code",
   "execution_count": 170,
   "metadata": {},
   "outputs": [
    {
     "data": {
      "text/plain": [
       "property_id             int64\n",
       "check_in_date          object\n",
       "room_category          object\n",
       "successful_bookings     int64\n",
       "capacity                int64\n",
       "dtype: object"
      ]
     },
     "execution_count": 170,
     "metadata": {},
     "output_type": "execute_result"
    }
   ],
   "source": [
    "# check for datatypes\n",
    "fact_aggregated_bookings.dtypes"
   ]
  },
  {
   "cell_type": "code",
   "execution_count": 171,
   "metadata": {},
   "outputs": [
    {
     "name": "stderr",
     "output_type": "stream",
     "text": [
      "C:\\Users\\PC\\AppData\\Local\\Temp\\ipykernel_14476\\2535851927.py:2: UserWarning: Could not infer format, so each element will be parsed individually, falling back to `dateutil`. To ensure parsing is consistent and as-expected, please specify a format.\n",
      "  fact_aggregated_bookings['check_in_date'] = pd.to_datetime(fact_aggregated_bookings['check_in_date'])\n"
     ]
    }
   ],
   "source": [
    "# transform object data types to date\n",
    "fact_aggregated_bookings['check_in_date'] = pd.to_datetime(fact_aggregated_bookings['check_in_date'])"
   ]
  },
  {
   "cell_type": "markdown",
   "metadata": {},
   "source": [
    "#### Clean Text Data"
   ]
  },
  {
   "cell_type": "code",
   "execution_count": 172,
   "metadata": {},
   "outputs": [],
   "source": [
    "# list of text columns to clean\n",
    "aggregate_text_list = fact_aggregated_bookings.select_dtypes(include='object').columns.tolist()\n",
    "\n",
    "# remove spaces at the beginning and end of the string\n",
    "fact_aggregated_bookings[aggregate_text_list] = fact_aggregated_bookings[aggregate_text_list].apply(lambda x: x.str.strip())\n",
    "\n",
    "# convert text to lowercase\n",
    "fact_aggregated_bookings[aggregate_text_list] = fact_aggregated_bookings[aggregate_text_list].apply(lambda x: x.str.lower())"
   ]
  },
  {
   "cell_type": "markdown",
   "metadata": {},
   "source": [
    "#### Check Missing Values"
   ]
  },
  {
   "cell_type": "code",
   "execution_count": 173,
   "metadata": {},
   "outputs": [
    {
     "data": {
      "text/plain": [
       "property_id            0\n",
       "check_in_date          0\n",
       "room_category          0\n",
       "successful_bookings    0\n",
       "capacity               0\n",
       "dtype: int64"
      ]
     },
     "execution_count": 173,
     "metadata": {},
     "output_type": "execute_result"
    }
   ],
   "source": [
    "# check for missing values\n",
    "fact_aggregated_bookings.isnull().sum()"
   ]
  },
  {
   "cell_type": "markdown",
   "metadata": {},
   "source": [
    "**Comment:**\n",
    "No null values found in the column, all values are present."
   ]
  },
  {
   "cell_type": "markdown",
   "metadata": {},
   "source": [
    "#### Check Duplicate Values"
   ]
  },
  {
   "cell_type": "code",
   "execution_count": 174,
   "metadata": {},
   "outputs": [
    {
     "data": {
      "text/plain": [
       "0"
      ]
     },
     "execution_count": 174,
     "metadata": {},
     "output_type": "execute_result"
    }
   ],
   "source": [
    "# check for duplicate values\n",
    "fact_aggregated_bookings.duplicated().sum()"
   ]
  },
  {
   "cell_type": "markdown",
   "metadata": {},
   "source": [
    "**Comment:**\n",
    "No duplicate values found in the column, all entries are unique."
   ]
  },
  {
   "cell_type": "markdown",
   "metadata": {},
   "source": [
    "#### Check Unique Values"
   ]
  },
  {
   "cell_type": "code",
   "execution_count": 175,
   "metadata": {},
   "outputs": [
    {
     "data": {
      "text/plain": [
       "property_id            25\n",
       "check_in_date          92\n",
       "room_category           4\n",
       "successful_bookings    42\n",
       "capacity               38\n",
       "dtype: int64"
      ]
     },
     "execution_count": 175,
     "metadata": {},
     "output_type": "execute_result"
    }
   ],
   "source": [
    "# check for unique values\n",
    "fact_aggregated_bookings.nunique()"
   ]
  },
  {
   "cell_type": "code",
   "execution_count": 176,
   "metadata": {},
   "outputs": [
    {
     "name": "stdout",
     "output_type": "stream",
     "text": [
      "The start check in date in fact_aggregated_bookings df is 2022-05-01 00:00:00\n",
      "The end check in date in fact_aggregated_bookings df is 2022-07-31 00:00:00\n",
      "No missing dates!\n"
     ]
    }
   ],
   "source": [
    "# Define the start and end date range\n",
    "fact_aggregated_check_in_min_date = fact_aggregated_bookings['check_in_date'].min()\n",
    "fact_aggregated_check_in_max_date = fact_aggregated_bookings['check_in_date'].max()\n",
    "\n",
    "print(f\"The start check in date in fact_aggregated_bookings df is {fact_aggregated_check_in_min_date}\")\n",
    "print(f\"The end check in date in fact_aggregated_bookings df is {fact_aggregated_check_in_max_date}\")\n",
    "\n",
    "\n",
    "# Create date range standards from min to max date\n",
    "fact_aggregated_check_in_date_range = pd.date_range(start=fact_aggregated_check_in_min_date, end=fact_aggregated_check_in_max_date)\n",
    "\n",
    "# find the missing date\n",
    "fact_aggregated_check_in_missing_date = set(fact_aggregated_check_in_date_range) - set(fact_aggregated_bookings['check_in_date'])\n",
    "\n",
    "# Kết quả\n",
    "if fact_aggregated_check_in_missing_date:\n",
    "    print(f\"Missing dates: {sorted(fact_aggregated_check_in_missing_date)}\")\n",
    "else:\n",
    "    print(\"No missing dates!\")"
   ]
  },
  {
   "cell_type": "markdown",
   "metadata": {},
   "source": [
    "#### Check Foreign Key Columns"
   ]
  },
  {
   "cell_type": "code",
   "execution_count": 177,
   "metadata": {},
   "outputs": [
    {
     "name": "stdout",
     "output_type": "stream",
     "text": [
      "Total property in fact_aggregated_bookings: 9200\n",
      "The number of unique property in fact_aggregated_bookings: 25\n",
      "------------------------------------------------------------\n",
      "Total property in dim_hotels: 25\n",
      "The number of unique property in dim_hotels: 25\n",
      "------------------------------------------------------------\n",
      "Number of unique property IDs only in fact_aggregated_bookings: 0\n",
      "set()\n",
      "------------------------------------------------------------\n",
      "Number of unique property IDs only in dim_hotels: 0\n",
      "set()\n"
     ]
    }
   ],
   "source": [
    "# Validate Data Completeness\n",
    "## Compare the number of property between the tables\n",
    "print(f\"Total property in fact_aggregated_bookings: {fact_aggregated_bookings['property_id'].count()}\")\n",
    "print(f\"The number of unique property in fact_aggregated_bookings: {fact_aggregated_bookings['property_id'].nunique()}\")\n",
    "\n",
    "print(\"--\"*30)\n",
    "\n",
    "print(f\"Total property in dim_hotels: {dim_hotels['property_id'].count()}\")\n",
    "print(f\"The number of unique property in dim_hotels: {dim_hotels['property_id'].nunique()}\")\n",
    "\n",
    "print(\"--\"*30)\n",
    "\n",
    "# Find property_id Present in One Table but Not in the Other\n",
    "# property_id in fact_aggregated_bookings but not in dim_hotels\n",
    "property_only_fact_aggregated = set(fact_aggregated_bookings['property_id']) - set(dim_hotels['property_id'])\n",
    "print(f\"Number of unique property IDs only in fact_aggregated_bookings: {len(property_only_fact_aggregated)}\")\n",
    "print(f\"{property_only_fact_aggregated}\")\n",
    "\n",
    "print(\"--\"*30)\n",
    "\n",
    "# property_id in dim_hotels but not in fact_aggregated_bookings\n",
    "property_only_dim_hotels = set(dim_hotels['property_id']) - set(fact_aggregated_bookings['property_id'])\n",
    "print(f\"Number of unique property IDs only in dim_hotels: {len(property_only_dim_hotels)}\")\n",
    "print(f\"{property_only_dim_hotels}\")"
   ]
  },
  {
   "cell_type": "code",
   "execution_count": 178,
   "metadata": {},
   "outputs": [
    {
     "name": "stdout",
     "output_type": "stream",
     "text": [
      "Total room in fact_aggregated_bookings: 9200\n",
      "The number of unique room in fact_aggregated_bookings: 4\n",
      "------------------------------------------------------------\n",
      "Total room in dim_rooms: 4\n",
      "The number of unique room in dim_rooms: 4\n",
      "------------------------------------------------------------\n",
      "Number of unique room category only in fact_aggregated_bookings: 0\n",
      "set()\n",
      "------------------------------------------------------------\n",
      "Number of unique room IDs only in dim_rooms: 0\n",
      "set()\n"
     ]
    }
   ],
   "source": [
    "# Validate Data Completeness\n",
    "## Compare the number of room between the tables\n",
    "print(f\"Total room in fact_aggregated_bookings: {fact_aggregated_bookings['room_category'].count()}\")\n",
    "print(f\"The number of unique room in fact_aggregated_bookings: {fact_aggregated_bookings['room_category'].nunique()}\")\n",
    "\n",
    "print(\"--\"*30)\n",
    "\n",
    "print(f\"Total room in dim_rooms: {dim_rooms['room_id'].count()}\")\n",
    "print(f\"The number of unique room in dim_rooms: {dim_rooms['room_id'].nunique()}\")\n",
    "\n",
    "print(\"--\"*30)\n",
    "\n",
    "# Find room_category (or room_id) Present in One Table but Not in the Other\n",
    "# room_category in fact_aggregated_bookings but not in dim_rooms\n",
    "room_only_fact_aggregated = set(fact_aggregated_bookings['room_category']) - set(dim_rooms['room_id'])\n",
    "print(f\"Number of unique room category only in fact_aggregated_bookings: {len(room_only_fact_aggregated)}\")\n",
    "print(f\"{room_only_fact_aggregated}\")\n",
    "\n",
    "print(\"--\"*30)\n",
    "\n",
    "# room_id in dim_rooms but not in fact_aggregated_bookings\n",
    "room_only_dim_rooms = set(dim_rooms['room_id']) - set(fact_aggregated_bookings['room_category'])\n",
    "print(f\"Number of unique room IDs only in dim_rooms: {len(room_only_dim_rooms)}\")\n",
    "print(f\"{room_only_dim_rooms}\")\n",
    "\n"
   ]
  },
  {
   "cell_type": "markdown",
   "metadata": {},
   "source": [
    "#### Outlier Detection"
   ]
  },
  {
   "cell_type": "code",
   "execution_count": 179,
   "metadata": {},
   "outputs": [],
   "source": [
    "# determine the number of rows containing outliers\n",
    "def check_outlier(df, column):\n",
    "    \"\"\"\n",
    "    Check and identify outliers in a specified column of a DataFrame.\n",
    "\n",
    "    Args:\n",
    "        df (pd.DataFrame): The DataFrame containing the data to be checked.\n",
    "        column (str): The name of the column in the DataFrame to check for outliers.\n",
    "\n",
    "    Returns:\n",
    "        pd.DataFrame: A DataFrame containing statistical indices, including:\n",
    "            - lower_bound (float): The lower limit to identify outliers.\n",
    "            - upper_bound (float): The upper limit to identify outliers.\n",
    "            - total_outliers (int): The total number of outlier values in the column.\n",
    "            - percent_outliers (float): The percentage of outlier values in the column.\n",
    "\n",
    "    Notes:\n",
    "        Outliers are identified based on the inter-quartile range (IQR) of the data.\n",
    "        Values falling outside the lower and upper thresholds are considered outliers.\n",
    "    \"\"\"\n",
    "\n",
    "    # Compute the 25th percentile values\n",
    "    Q1 = df[column].quantile(0.25)\n",
    "    # Compute the 75th percentile values\n",
    "    Q3 = df[column].quantile(0.75)\n",
    "    # Compute the inter-quartile range (IQR)\n",
    "    IQR = Q3 - Q1\n",
    "\n",
    "    # Define lower and upper thresholds to identify outliers\n",
    "    lower_limit = Q1 - 1.5 * IQR # Lower threshold\n",
    "    upper_limit = Q3 + 1.5 * IQR # Upper threshold\n",
    "\n",
    "    # Calculate the total row of data\n",
    "    total_row = df.shape[0]\n",
    "    # Calculate the total number of outliers\n",
    "    total_outlier = (df[df[column] > upper_limit].shape[0]) + (df[df[column] < lower_limit].shape[0])\n",
    "    # Calculate the percentage of outliers\n",
    "    percent_outlier = round(((df[df[column] > upper_limit].shape[0]) + (df[df[column] < lower_limit].shape[0])) / df.shape[0] * 100, 2)\n",
    "    \n",
    "    # Create a DataFrame containing statistical indices\n",
    "    result = pd.DataFrame({\n",
    "        'lower_bound': [lower_limit],\n",
    "        'upper_bound': [upper_limit],\n",
    "        'total_row': [total_row],\n",
    "        'outlier_row':[total_outlier],\n",
    "        'outliers_pct': [percent_outlier]\n",
    "    })\n",
    "\n",
    "    # returns the calculated values\n",
    "    return result"
   ]
  },
  {
   "cell_type": "markdown",
   "metadata": {},
   "source": [
    "##### \"successful_bookings\" Column"
   ]
  },
  {
   "cell_type": "code",
   "execution_count": 180,
   "metadata": {},
   "outputs": [
    {
     "data": {
      "image/png": "[encoded data removed]",
      "text/plain": [
       "<Figure size 1600x600 with 2 Axes>"
      ]
     },
     "metadata": {},
     "output_type": "display_data"
    },
    {
     "name": "stdout",
     "output_type": "stream",
     "text": [
      "The Skew of Successful Bookings Data is: 0.55\n"
     ]
    }
   ],
   "source": [
    "# Create a BoxPlot and HistPlot to visualize distribution of 'successful_bookings' and detect any outliers\n",
    "# set the size of chart\n",
    "plt.figure(figsize=(16,6))\n",
    "# first subplot by box plot\n",
    "plt.subplot(1,2,1)\n",
    "plt.grid()\n",
    "sns.boxplot(data=fact_aggregated_bookings, x='successful_bookings', color='#DC5F00')\n",
    "plt.title(\"Distribution by BoxPlot\")\n",
    "# second subplot by hist plot\n",
    "plt.subplot(1,2,2)\n",
    "plt.grid()\n",
    "sns.histplot(data=fact_aggregated_bookings, x='successful_bookings', color='#DC5F00')\n",
    "plt.title(\"Distribution by HistPlot\")\n",
    "# Display the chart\n",
    "plt.show()\n",
    "# Check the skewness of data in the \"ev_sold\" column\n",
    "print(f\"The Skew of Successful Bookings Data is: {round(fact_aggregated_bookings['successful_bookings'].skew(), 2)}\")"
   ]
  },
  {
   "cell_type": "markdown",
   "metadata": {},
   "source": [
    "**Comment:**\n",
    "The data shows a skew of 0.55, indicating a slightly skewed but acceptable distribution. So the data is considered suitable for further analysis."
   ]
  },
  {
   "cell_type": "code",
   "execution_count": 181,
   "metadata": {},
   "outputs": [
    {
     "name": "stdout",
     "output_type": "stream",
     "text": [
      "lower bound is -6.0\n",
      "upper bound is 34.0\n",
      "total row is 9200\n",
      "outlier row is 124\n",
      "percentage of successful bookings that are outliers is 1.35%\n"
     ]
    }
   ],
   "source": [
    "# check the outliers, find out the upper bound and lower bound of the \"successful_bookings\" column\n",
    "bounds_successful_bookings = check_outlier(fact_aggregated_bookings, 'successful_bookings')\n",
    "# print out the required information\n",
    "print(f\"lower bound is {bounds_successful_bookings['lower_bound'].values[0]}\")\n",
    "print(f\"upper bound is {bounds_successful_bookings['upper_bound'].values[0]}\")\n",
    "print(f\"total row is {bounds_successful_bookings['total_row'].values[0]}\")\n",
    "print(f\"outlier row is {bounds_successful_bookings['outlier_row'].values[0]}\")\n",
    "print(f\"percentage of successful bookings that are outliers is {bounds_successful_bookings['outliers_pct'].values[0]}%\")"
   ]
  },
  {
   "cell_type": "code",
   "execution_count": 182,
   "metadata": {},
   "outputs": [],
   "source": [
    "# filter rows with successful bookings greater than upper bound of successful bookings\n",
    "outliers_successful_bookings = fact_aggregated_bookings[fact_aggregated_bookings['successful_bookings']>bounds_successful_bookings['upper_bound'].values[0]]\n",
    "\n",
    "# Merge outliers_successful_bookings with dim_hotels table to get more property details\n",
    "outliers_property_successful_bookings = outliers_successful_bookings.merge(dim_hotels, how='left', on='property_id', validate='many_to_one')\n",
    "\n",
    "# merge outliers_property_successful_bookings with dim_rooms tables to get more room details\n",
    "outliers_full_successful_bookings = pd.merge(\n",
    "                                        outliers_property_successful_bookings,\n",
    "                                        dim_rooms,\n",
    "                                        left_on='room_category',\n",
    "                                        right_on='room_id',\n",
    "                                        validate='many_to_one'\n",
    ").drop(columns=['room_id','room_category'])\n",
    "# Extract the week number from the 'check_in_date' column and format it as \"w_week_number\"\n",
    "outliers_full_successful_bookings['week_no'] = outliers_full_successful_bookings['check_in_date'].dt.isocalendar().week.apply(lambda x: f\"w_{x}\")\n",
    "# Extract the day type from the 'check_in_date' column\n",
    "outliers_full_successful_bookings['day_type'] = outliers_full_successful_bookings['check_in_date'].dt.dayofweek.apply(lambda x: 'weekend' if x >= 5 else 'weekdays')"
   ]
  },
  {
   "cell_type": "markdown",
   "metadata": {},
   "source": [
    "**Notice:**\n",
    "BY CITY"
   ]
  },
  {
   "cell_type": "code",
   "execution_count": 183,
   "metadata": {},
   "outputs": [
    {
     "name": "stdout",
     "output_type": "stream",
     "text": [
      "The number of successful_bookings Outliers for city  delhi is  22\n",
      "The number of successful_bookings Outliers for city  hyderabad is  29\n",
      "The number of successful_bookings Outliers for city  mumbai is  61\n",
      "The number of successful_bookings Outliers for city  bangalore is  12\n"
     ]
    }
   ],
   "source": [
    "# count the outlier sold quantity values in each division\n",
    "for i in outliers_full_successful_bookings['city'].unique():\n",
    "    print(\"The number of successful_bookings Outliers for city \", i, \"is \",\n",
    "          str(outliers_full_successful_bookings[outliers_full_successful_bookings['city']==i]['city'].count())\n",
    "          )"
   ]
  },
  {
   "cell_type": "markdown",
   "metadata": {},
   "source": [
    "**Notice:**\n",
    "BY CATEGORY"
   ]
  },
  {
   "cell_type": "code",
   "execution_count": 184,
   "metadata": {},
   "outputs": [
    {
     "name": "stdout",
     "output_type": "stream",
     "text": [
      "The number of successful_bookings Outliers for category  business is  64\n",
      "The number of successful_bookings Outliers for category  luxury is  60\n"
     ]
    }
   ],
   "source": [
    "for i in outliers_full_successful_bookings['category'].unique():\n",
    "    print(\"The number of successful_bookings Outliers for category \", i, \"is \",\n",
    "          str(outliers_full_successful_bookings[outliers_full_successful_bookings['category']==i]['category'].count())\n",
    "          )"
   ]
  },
  {
   "cell_type": "markdown",
   "metadata": {},
   "source": [
    "**Notice:**\n",
    "BY PROPERTY NAME"
   ]
  },
  {
   "cell_type": "code",
   "execution_count": 185,
   "metadata": {},
   "outputs": [
    {
     "name": "stdout",
     "output_type": "stream",
     "text": [
      "The number of successful_bookings Outliers for property name  atliq palace is  42\n",
      "The number of successful_bookings Outliers for property name  atliq bay is  5\n",
      "The number of successful_bookings Outliers for property name  atliq grands is  13\n",
      "The number of successful_bookings Outliers for property name  atliq city is  22\n",
      "The number of successful_bookings Outliers for property name  atliq exotica is  25\n",
      "The number of successful_bookings Outliers for property name  atliq blu is  17\n"
     ]
    }
   ],
   "source": [
    "for i in outliers_full_successful_bookings['property_name'].unique():\n",
    "    print(\"The number of successful_bookings Outliers for property name \", i, \"is \",\n",
    "          str(outliers_full_successful_bookings[outliers_full_successful_bookings['property_name']==i]['property_name'].count())\n",
    "          )"
   ]
  },
  {
   "cell_type": "markdown",
   "metadata": {},
   "source": [
    "**Notice:**\n",
    "BY ROOM CLASS"
   ]
  },
  {
   "cell_type": "code",
   "execution_count": 186,
   "metadata": {},
   "outputs": [
    {
     "name": "stdout",
     "output_type": "stream",
     "text": [
      "The number of successful_bookings Outliers for property name  standard is  18\n",
      "The number of successful_bookings Outliers for property name  elite is  106\n"
     ]
    }
   ],
   "source": [
    "for i in outliers_full_successful_bookings['room_class'].unique():\n",
    "    print(\"The number of successful_bookings Outliers for property name \", i, \"is \",\n",
    "          str(outliers_full_successful_bookings[outliers_full_successful_bookings['room_class']==i]['room_class'].count())\n",
    "          )"
   ]
  },
  {
   "cell_type": "markdown",
   "metadata": {},
   "source": [
    "**Notice:**\n",
    "BY PROPERTY OVERVIEW"
   ]
  },
  {
   "cell_type": "code",
   "execution_count": 187,
   "metadata": {},
   "outputs": [
    {
     "data": {
      "text/html": [
       "<div>\n",
       "<style scoped>\n",
       "    .dataframe tbody tr th:only-of-type {\n",
       "        vertical-align: middle;\n",
       "    }\n",
       "\n",
       "    .dataframe tbody tr th {\n",
       "        vertical-align: top;\n",
       "    }\n",
       "\n",
       "    .dataframe thead th {\n",
       "        text-align: right;\n",
       "    }\n",
       "</style>\n",
       "<table border=\"1\" class=\"dataframe\">\n",
       "  <thead>\n",
       "    <tr style=\"text-align: right;\">\n",
       "      <th></th>\n",
       "      <th>city</th>\n",
       "      <th>category</th>\n",
       "      <th>property_name</th>\n",
       "      <th>room_class</th>\n",
       "      <th>count</th>\n",
       "    </tr>\n",
       "  </thead>\n",
       "  <tbody>\n",
       "    <tr>\n",
       "      <th>0</th>\n",
       "      <td>bangalore</td>\n",
       "      <td>business</td>\n",
       "      <td>atliq city</td>\n",
       "      <td>elite</td>\n",
       "      <td>6</td>\n",
       "    </tr>\n",
       "    <tr>\n",
       "      <th>1</th>\n",
       "      <td>bangalore</td>\n",
       "      <td>business</td>\n",
       "      <td>atliq palace</td>\n",
       "      <td>elite</td>\n",
       "      <td>2</td>\n",
       "    </tr>\n",
       "    <tr>\n",
       "      <th>2</th>\n",
       "      <td>bangalore</td>\n",
       "      <td>luxury</td>\n",
       "      <td>atliq blu</td>\n",
       "      <td>elite</td>\n",
       "      <td>4</td>\n",
       "    </tr>\n",
       "    <tr>\n",
       "      <th>3</th>\n",
       "      <td>delhi</td>\n",
       "      <td>business</td>\n",
       "      <td>atliq palace</td>\n",
       "      <td>elite</td>\n",
       "      <td>9</td>\n",
       "    </tr>\n",
       "    <tr>\n",
       "      <th>4</th>\n",
       "      <td>delhi</td>\n",
       "      <td>business</td>\n",
       "      <td>atliq palace</td>\n",
       "      <td>standard</td>\n",
       "      <td>13</td>\n",
       "    </tr>\n",
       "    <tr>\n",
       "      <th>5</th>\n",
       "      <td>hyderabad</td>\n",
       "      <td>business</td>\n",
       "      <td>atliq city</td>\n",
       "      <td>elite</td>\n",
       "      <td>13</td>\n",
       "    </tr>\n",
       "    <tr>\n",
       "      <th>6</th>\n",
       "      <td>hyderabad</td>\n",
       "      <td>luxury</td>\n",
       "      <td>atliq bay</td>\n",
       "      <td>standard</td>\n",
       "      <td>5</td>\n",
       "    </tr>\n",
       "    <tr>\n",
       "      <th>7</th>\n",
       "      <td>hyderabad</td>\n",
       "      <td>luxury</td>\n",
       "      <td>atliq blu</td>\n",
       "      <td>elite</td>\n",
       "      <td>11</td>\n",
       "    </tr>\n",
       "    <tr>\n",
       "      <th>8</th>\n",
       "      <td>mumbai</td>\n",
       "      <td>business</td>\n",
       "      <td>atliq city</td>\n",
       "      <td>elite</td>\n",
       "      <td>3</td>\n",
       "    </tr>\n",
       "    <tr>\n",
       "      <th>9</th>\n",
       "      <td>mumbai</td>\n",
       "      <td>business</td>\n",
       "      <td>atliq palace</td>\n",
       "      <td>elite</td>\n",
       "      <td>18</td>\n",
       "    </tr>\n",
       "    <tr>\n",
       "      <th>10</th>\n",
       "      <td>mumbai</td>\n",
       "      <td>luxury</td>\n",
       "      <td>atliq blu</td>\n",
       "      <td>elite</td>\n",
       "      <td>2</td>\n",
       "    </tr>\n",
       "    <tr>\n",
       "      <th>11</th>\n",
       "      <td>mumbai</td>\n",
       "      <td>luxury</td>\n",
       "      <td>atliq exotica</td>\n",
       "      <td>elite</td>\n",
       "      <td>25</td>\n",
       "    </tr>\n",
       "    <tr>\n",
       "      <th>12</th>\n",
       "      <td>mumbai</td>\n",
       "      <td>luxury</td>\n",
       "      <td>atliq grands</td>\n",
       "      <td>elite</td>\n",
       "      <td>13</td>\n",
       "    </tr>\n",
       "  </tbody>\n",
       "</table>\n",
       "</div>"
      ],
      "text/plain": [
       "         city  category  property_name room_class  count\n",
       "0   bangalore  business     atliq city      elite      6\n",
       "1   bangalore  business   atliq palace      elite      2\n",
       "2   bangalore    luxury      atliq blu      elite      4\n",
       "3       delhi  business   atliq palace      elite      9\n",
       "4       delhi  business   atliq palace   standard     13\n",
       "5   hyderabad  business     atliq city      elite     13\n",
       "6   hyderabad    luxury      atliq bay   standard      5\n",
       "7   hyderabad    luxury      atliq blu      elite     11\n",
       "8      mumbai  business     atliq city      elite      3\n",
       "9      mumbai  business   atliq palace      elite     18\n",
       "10     mumbai    luxury      atliq blu      elite      2\n",
       "11     mumbai    luxury  atliq exotica      elite     25\n",
       "12     mumbai    luxury   atliq grands      elite     13"
      ]
     },
     "metadata": {},
     "output_type": "display_data"
    }
   ],
   "source": [
    "display(outliers_full_successful_bookings.groupby(['city','category','property_name','room_class']).agg(count=('property_id','count')).reset_index())"
   ]
  },
  {
   "cell_type": "markdown",
   "metadata": {},
   "source": [
    "**Notice:**\n",
    "BY DAY TYPE"
   ]
  },
  {
   "cell_type": "code",
   "execution_count": 188,
   "metadata": {},
   "outputs": [
    {
     "name": "stdout",
     "output_type": "stream",
     "text": [
      "The number of successful_bookings Outliers for property name weekend is  124\n"
     ]
    }
   ],
   "source": [
    "for i in outliers_full_successful_bookings['day_type'].unique():\n",
    "    print(\"The number of successful_bookings Outliers for property name\", i, \"is \",\n",
    "          str(outliers_full_successful_bookings[outliers_full_successful_bookings['day_type']==i]['day_type'].count())\n",
    "          )"
   ]
  },
  {
   "cell_type": "markdown",
   "metadata": {},
   "source": [
    "**Notice:**\n",
    "BY WEEK NO"
   ]
  },
  {
   "cell_type": "code",
   "execution_count": 189,
   "metadata": {},
   "outputs": [
    {
     "data": {
      "image/png": "[encoded data removed]",
      "text/plain": [
       "<Figure size 1000x600 with 1 Axes>"
      ]
     },
     "metadata": {},
     "output_type": "display_data"
    }
   ],
   "source": [
    "# number of outliers groupby week_no\n",
    "data_for_present = outliers_full_successful_bookings.groupby('week_no').agg(\n",
    "    count=('property_id', 'count')\n",
    ").reset_index()\n",
    "\n",
    "# set figure size\n",
    "plt.figure(figsize=(10, 6))\n",
    "\n",
    "# plot line chart\n",
    "sns.lineplot(data=data_for_present, x='week_no', y='count', color='#DC5F00', linestyle='dashed', marker='o')\n",
    "\n",
    "# optimize\n",
    "plt.title(\"Number of Outliers by Week\", fontsize=16)\n",
    "plt.xlabel(\"Week Number\", fontsize=12)\n",
    "plt.ylabel(\"Number of Outliers\", fontsize=12)\n",
    "plt.ylim(0, data_for_present['count'].max()*1.2) # increase the y limit to have more space for annotations\n",
    "\n",
    "# Add Annotate\n",
    "for x, y in zip(data_for_present['week_no'], data_for_present['count']):\n",
    "    plt.text(x, y + 1, f\"{y}\",\n",
    "            ha='center', va='bottom', fontsize=10,\n",
    "             )\n",
    "\n",
    "# adjust layout\n",
    "plt.tight_layout()\n",
    "\n",
    "# show the plot\n",
    "plt.show()"
   ]
  },
  {
   "cell_type": "markdown",
   "metadata": {},
   "source": [
    "##### \"capacity\" Column"
   ]
  },
  {
   "cell_type": "code",
   "execution_count": 190,
   "metadata": {},
   "outputs": [
    {
     "data": {
      "image/png": "[encoded data removed]",
      "text/plain": [
       "<Figure size 1600x600 with 2 Axes>"
      ]
     },
     "metadata": {},
     "output_type": "display_data"
    },
    {
     "name": "stdout",
     "output_type": "stream",
     "text": [
      "The Skew of Sold Quantity Data is: 0.0\n"
     ]
    }
   ],
   "source": [
    "# Create a BoxPlot and HistPlot to visualize distribution of 'capacity' and detect any outliers\n",
    "# set the size of chart\n",
    "plt.figure(figsize=(16,6))\n",
    "# first subplot by box plot\n",
    "plt.subplot(1,2,1)\n",
    "plt.grid()\n",
    "sns.boxplot(data=fact_aggregated_bookings, x='capacity', color='#DC5F00')\n",
    "plt.title(\"Distribution by BoxPlot\")\n",
    "# second subplot by hist plot\n",
    "plt.subplot(1,2,2)\n",
    "plt.grid()\n",
    "sns.histplot(data=fact_aggregated_bookings, x='capacity', color='#DC5F00')\n",
    "plt.title(\"Distribution by HistPlot\")\n",
    "# Display the chart\n",
    "plt.show()\n",
    "# Check the skewness of data in the \"ev_sold\" column\n",
    "print(f\"The Skew of Sold Quantity Data is: {round(fact_aggregated_bookings['capacity'].skew(), 2)}\")"
   ]
  },
  {
   "cell_type": "markdown",
   "metadata": {},
   "source": [
    "**Comment:**\n",
    "The data shows a skew of 0. No Skew and No significant outliers were detected, so the data is considered suitable for further analysis."
   ]
  },
  {
   "cell_type": "markdown",
   "metadata": {},
   "source": [
    "#### Data Validity Check: Successful Bookings and Capacity"
   ]
  },
  {
   "cell_type": "code",
   "execution_count": 191,
   "metadata": {},
   "outputs": [
    {
     "name": "stdout",
     "output_type": "stream",
     "text": [
      "Empty DataFrame\n",
      "Columns: [property_id, check_in_date, room_category, successful_bookings, capacity]\n",
      "Index: []\n",
      "Status: No invalid rows!\n"
     ]
    }
   ],
   "source": [
    "# Check logical\n",
    "invalid_rows = fact_aggregated_bookings[fact_aggregated_bookings['successful_bookings'] > fact_aggregated_bookings['capacity']]\n",
    "\n",
    "# display invalid rows\n",
    "print(invalid_rows)\n",
    "\n",
    "# display overview\n",
    "if not invalid_rows.empty:\n",
    "    print(f\"Status: {len(invalid_rows)} rows that have number of successful bookings greater than number of capacity\")\n",
    "else:\n",
    "    print(\"Status: No invalid rows!\")"
   ]
  },
  {
   "cell_type": "markdown",
   "metadata": {},
   "source": [
    "#### Sort Data\n",
    "After cleaning your data, sorting is essential for easier analysis."
   ]
  },
  {
   "cell_type": "code",
   "execution_count": 192,
   "metadata": {},
   "outputs": [],
   "source": [
    "# Sort the DataFrame by the specified column\n",
    "fact_aggregated_bookings = fact_aggregated_bookings.sort_values(by=['check_in_date','property_id'], ascending=True).reset_index(drop=True)"
   ]
  },
  {
   "cell_type": "markdown",
   "metadata": {},
   "source": [
    "### \"fact_bookings\" DataFrame\n",
    "**Key Details**: This dataset contains the information about the bookings. There are 134590 rows, 12 columns, and these variables:\n",
    "\n",
    "Variable    |   Description| \n",
    "-----|-----|\n",
    "booking_id|This column represents the Unique Booking ID for each customer when they booked their rooms.\n",
    "property_id|This column represents the Unique ID for each of the hotels.\n",
    "booking_date|This column represents the date on which the customer booked their rooms.\n",
    "check_in_date|This column represents the date on which the customer check-in (entered) at the hotel.\n",
    "check_out_date|This column represents the date on which the customer check-out (left) of the hotel.\n",
    "no_guests|This column represents the number of guests who stayed in a particular room in that hotel.\n",
    "room_category|This column represents the type of room [RT1, RT2, RT3, RT4] in a hotel.\n",
    "booking_platform|This column represents in which way the customer booked his room.\n",
    "ratings_given|This column represents the ratings given by the customer for hotel services.\n",
    " booking_status|This column represents whether the customer cancelled his booking [Cancelled], successfully stayed in the hotel [Checked Out] or booked his room but not stayed in the hotel [No show].\n",
    " revenue_generated|This column represents the amount of money generated by the hotel from a particular customer.\n",
    " revenue_realized|This column represents the final amount of money that goes to the hotel based on booking status. If the booking status is cancelled, then 40% of the revenue generated is deducted and the remaining is refunded to the customer. If the booking status is Checked Out/No show, then full revenue generated will goes to hotels."
   ]
  },
  {
   "cell_type": "markdown",
   "metadata": {},
   "source": [
    "#### Gather Basic Information About The Data"
   ]
  },
  {
   "cell_type": "code",
   "execution_count": 193,
   "metadata": {},
   "outputs": [
    {
     "name": "stdout",
     "output_type": "stream",
     "text": [
      "<class 'pandas.core.frame.DataFrame'>\n",
      "RangeIndex: 134590 entries, 0 to 134589\n",
      "Data columns (total 12 columns):\n",
      " #   Column             Non-Null Count   Dtype  \n",
      "---  ------             --------------   -----  \n",
      " 0   booking_id         134590 non-null  object \n",
      " 1   property_id        134590 non-null  int64  \n",
      " 2   booking_date       134590 non-null  object \n",
      " 3   check_in_date      134590 non-null  object \n",
      " 4   checkout_date      134590 non-null  object \n",
      " 5   no_guests          134590 non-null  int64  \n",
      " 6   room_category      134590 non-null  object \n",
      " 7   booking_platform   134590 non-null  object \n",
      " 8   ratings_given      56683 non-null   float64\n",
      " 9   booking_status     134590 non-null  object \n",
      " 10  revenue_generated  134590 non-null  int64  \n",
      " 11  revenue_realized   134590 non-null  int64  \n",
      "dtypes: float64(1), int64(4), object(7)\n",
      "memory usage: 12.3+ MB\n"
     ]
    }
   ],
   "source": [
    "# Gather basic information about the data\n",
    "fact_bookings.info()"
   ]
  },
  {
   "cell_type": "code",
   "execution_count": 194,
   "metadata": {},
   "outputs": [
    {
     "data": {
      "text/html": [
       "<div>\n",
       "<style scoped>\n",
       "    .dataframe tbody tr th:only-of-type {\n",
       "        vertical-align: middle;\n",
       "    }\n",
       "\n",
       "    .dataframe tbody tr th {\n",
       "        vertical-align: top;\n",
       "    }\n",
       "\n",
       "    .dataframe thead th {\n",
       "        text-align: right;\n",
       "    }\n",
       "</style>\n",
       "<table border=\"1\" class=\"dataframe\">\n",
       "  <thead>\n",
       "    <tr style=\"text-align: right;\">\n",
       "      <th></th>\n",
       "      <th>booking_id</th>\n",
       "      <th>property_id</th>\n",
       "      <th>booking_date</th>\n",
       "      <th>check_in_date</th>\n",
       "      <th>checkout_date</th>\n",
       "      <th>no_guests</th>\n",
       "      <th>room_category</th>\n",
       "      <th>booking_platform</th>\n",
       "      <th>ratings_given</th>\n",
       "      <th>booking_status</th>\n",
       "      <th>revenue_generated</th>\n",
       "      <th>revenue_realized</th>\n",
       "    </tr>\n",
       "  </thead>\n",
       "  <tbody>\n",
       "    <tr>\n",
       "      <th>0</th>\n",
       "      <td>May012216558RT11</td>\n",
       "      <td>16558</td>\n",
       "      <td>2022-04-27</td>\n",
       "      <td>2022-05-01</td>\n",
       "      <td>2022-05-02</td>\n",
       "      <td>3</td>\n",
       "      <td>RT1</td>\n",
       "      <td>direct online</td>\n",
       "      <td>1.0</td>\n",
       "      <td>Checked Out</td>\n",
       "      <td>10010</td>\n",
       "      <td>10010</td>\n",
       "    </tr>\n",
       "  </tbody>\n",
       "</table>\n",
       "</div>"
      ],
      "text/plain": [
       "         booking_id  property_id booking_date check_in_date checkout_date  \\\n",
       "0  May012216558RT11        16558   2022-04-27    2022-05-01    2022-05-02   \n",
       "\n",
       "   no_guests room_category booking_platform  ratings_given booking_status  \\\n",
       "0          3           RT1    direct online            1.0    Checked Out   \n",
       "\n",
       "   revenue_generated  revenue_realized  \n",
       "0              10010             10010  "
      ]
     },
     "execution_count": 194,
     "metadata": {},
     "output_type": "execute_result"
    }
   ],
   "source": [
    "# top records\n",
    "fact_bookings.head(1)"
   ]
  },
  {
   "cell_type": "code",
   "execution_count": 195,
   "metadata": {},
   "outputs": [
    {
     "data": {
      "text/html": [
       "<div>\n",
       "<style scoped>\n",
       "    .dataframe tbody tr th:only-of-type {\n",
       "        vertical-align: middle;\n",
       "    }\n",
       "\n",
       "    .dataframe tbody tr th {\n",
       "        vertical-align: top;\n",
       "    }\n",
       "\n",
       "    .dataframe thead th {\n",
       "        text-align: right;\n",
       "    }\n",
       "</style>\n",
       "<table border=\"1\" class=\"dataframe\">\n",
       "  <thead>\n",
       "    <tr style=\"text-align: right;\">\n",
       "      <th></th>\n",
       "      <th>booking_id</th>\n",
       "      <th>property_id</th>\n",
       "      <th>booking_date</th>\n",
       "      <th>check_in_date</th>\n",
       "      <th>checkout_date</th>\n",
       "      <th>no_guests</th>\n",
       "      <th>room_category</th>\n",
       "      <th>booking_platform</th>\n",
       "      <th>ratings_given</th>\n",
       "      <th>booking_status</th>\n",
       "      <th>revenue_generated</th>\n",
       "      <th>revenue_realized</th>\n",
       "    </tr>\n",
       "  </thead>\n",
       "  <tbody>\n",
       "    <tr>\n",
       "      <th>134589</th>\n",
       "      <td>Jul312217564RT410</td>\n",
       "      <td>17564</td>\n",
       "      <td>2022-07-31</td>\n",
       "      <td>2022-07-31</td>\n",
       "      <td>2022-08-01</td>\n",
       "      <td>2</td>\n",
       "      <td>RT4</td>\n",
       "      <td>makeyourtrip</td>\n",
       "      <td>NaN</td>\n",
       "      <td>Cancelled</td>\n",
       "      <td>32300</td>\n",
       "      <td>12920</td>\n",
       "    </tr>\n",
       "  </tbody>\n",
       "</table>\n",
       "</div>"
      ],
      "text/plain": [
       "               booking_id  property_id booking_date check_in_date  \\\n",
       "134589  Jul312217564RT410        17564   2022-07-31    2022-07-31   \n",
       "\n",
       "       checkout_date  no_guests room_category booking_platform  ratings_given  \\\n",
       "134589    2022-08-01          2           RT4     makeyourtrip            NaN   \n",
       "\n",
       "       booking_status  revenue_generated  revenue_realized  \n",
       "134589      Cancelled              32300             12920  "
      ]
     },
     "execution_count": 195,
     "metadata": {},
     "output_type": "execute_result"
    }
   ],
   "source": [
    "# last records\n",
    "fact_bookings.tail(1)"
   ]
  },
  {
   "cell_type": "markdown",
   "metadata": {},
   "source": [
    "#### Rename Columns"
   ]
  },
  {
   "cell_type": "code",
   "execution_count": 196,
   "metadata": {},
   "outputs": [
    {
     "data": {
      "text/plain": [
       "Index(['booking_id', 'property_id', 'booking_date', 'check_in_date',\n",
       "       'checkout_date', 'no_guests', 'room_category', 'booking_platform',\n",
       "       'ratings_given', 'booking_status', 'revenue_generated',\n",
       "       'revenue_realized'],\n",
       "      dtype='object')"
      ]
     },
     "execution_count": 196,
     "metadata": {},
     "output_type": "execute_result"
    }
   ],
   "source": [
    "# display all columns name\n",
    "fact_bookings.columns"
   ]
  },
  {
   "cell_type": "code",
   "execution_count": 197,
   "metadata": {},
   "outputs": [],
   "source": [
    "# rename columns as needed\n",
    "fact_bookings.rename(columns={\n",
    "    'checkout_date':'check_out_date'\n",
    "}, inplace=True)"
   ]
  },
  {
   "cell_type": "markdown",
   "metadata": {},
   "source": [
    "#### Gather Descriptive Statistics About The Data"
   ]
  },
  {
   "cell_type": "code",
   "execution_count": 198,
   "metadata": {},
   "outputs": [
    {
     "data": {
      "text/html": [
       "<div>\n",
       "<style scoped>\n",
       "    .dataframe tbody tr th:only-of-type {\n",
       "        vertical-align: middle;\n",
       "    }\n",
       "\n",
       "    .dataframe tbody tr th {\n",
       "        vertical-align: top;\n",
       "    }\n",
       "\n",
       "    .dataframe thead th {\n",
       "        text-align: right;\n",
       "    }\n",
       "</style>\n",
       "<table border=\"1\" class=\"dataframe\">\n",
       "  <thead>\n",
       "    <tr style=\"text-align: right;\">\n",
       "      <th></th>\n",
       "      <th>count</th>\n",
       "      <th>mean</th>\n",
       "      <th>std</th>\n",
       "      <th>min</th>\n",
       "      <th>25%</th>\n",
       "      <th>50%</th>\n",
       "      <th>75%</th>\n",
       "      <th>max</th>\n",
       "    </tr>\n",
       "  </thead>\n",
       "  <tbody>\n",
       "    <tr>\n",
       "      <th>property_id</th>\n",
       "      <td>134590.0</td>\n",
       "      <td>18061.113493</td>\n",
       "      <td>1093.055847</td>\n",
       "      <td>16558.0</td>\n",
       "      <td>17558.0</td>\n",
       "      <td>17564.0</td>\n",
       "      <td>18563.0</td>\n",
       "      <td>19563.0</td>\n",
       "    </tr>\n",
       "    <tr>\n",
       "      <th>no_guests</th>\n",
       "      <td>134590.0</td>\n",
       "      <td>2.036808</td>\n",
       "      <td>1.031766</td>\n",
       "      <td>1.0</td>\n",
       "      <td>1.0</td>\n",
       "      <td>2.0</td>\n",
       "      <td>2.0</td>\n",
       "      <td>6.0</td>\n",
       "    </tr>\n",
       "    <tr>\n",
       "      <th>ratings_given</th>\n",
       "      <td>56683.0</td>\n",
       "      <td>3.619004</td>\n",
       "      <td>1.235009</td>\n",
       "      <td>1.0</td>\n",
       "      <td>3.0</td>\n",
       "      <td>4.0</td>\n",
       "      <td>5.0</td>\n",
       "      <td>5.0</td>\n",
       "    </tr>\n",
       "    <tr>\n",
       "      <th>revenue_generated</th>\n",
       "      <td>134590.0</td>\n",
       "      <td>14916.013188</td>\n",
       "      <td>6452.868072</td>\n",
       "      <td>6500.0</td>\n",
       "      <td>9900.0</td>\n",
       "      <td>13500.0</td>\n",
       "      <td>18000.0</td>\n",
       "      <td>45220.0</td>\n",
       "    </tr>\n",
       "    <tr>\n",
       "      <th>revenue_realized</th>\n",
       "      <td>134590.0</td>\n",
       "      <td>12696.123256</td>\n",
       "      <td>6928.108124</td>\n",
       "      <td>2600.0</td>\n",
       "      <td>7600.0</td>\n",
       "      <td>11700.0</td>\n",
       "      <td>15300.0</td>\n",
       "      <td>45220.0</td>\n",
       "    </tr>\n",
       "  </tbody>\n",
       "</table>\n",
       "</div>"
      ],
      "text/plain": [
       "                      count          mean          std      min      25%  \\\n",
       "property_id        134590.0  18061.113493  1093.055847  16558.0  17558.0   \n",
       "no_guests          134590.0      2.036808     1.031766      1.0      1.0   \n",
       "ratings_given       56683.0      3.619004     1.235009      1.0      3.0   \n",
       "revenue_generated  134590.0  14916.013188  6452.868072   6500.0   9900.0   \n",
       "revenue_realized   134590.0  12696.123256  6928.108124   2600.0   7600.0   \n",
       "\n",
       "                       50%      75%      max  \n",
       "property_id        17564.0  18563.0  19563.0  \n",
       "no_guests              2.0      2.0      6.0  \n",
       "ratings_given          4.0      5.0      5.0  \n",
       "revenue_generated  13500.0  18000.0  45220.0  \n",
       "revenue_realized   11700.0  15300.0  45220.0  "
      ]
     },
     "execution_count": 198,
     "metadata": {},
     "output_type": "execute_result"
    }
   ],
   "source": [
    "# gather descriptive statistics about the data\n",
    "fact_bookings.describe().T"
   ]
  },
  {
   "cell_type": "markdown",
   "metadata": {},
   "source": [
    "#### Check Data Types"
   ]
  },
  {
   "cell_type": "code",
   "execution_count": 199,
   "metadata": {},
   "outputs": [
    {
     "data": {
      "text/plain": [
       "booking_id            object\n",
       "property_id            int64\n",
       "booking_date          object\n",
       "check_in_date         object\n",
       "check_out_date        object\n",
       "no_guests              int64\n",
       "room_category         object\n",
       "booking_platform      object\n",
       "ratings_given        float64\n",
       "booking_status        object\n",
       "revenue_generated      int64\n",
       "revenue_realized       int64\n",
       "dtype: object"
      ]
     },
     "execution_count": 199,
     "metadata": {},
     "output_type": "execute_result"
    }
   ],
   "source": [
    "# check for datatypes\n",
    "fact_bookings.dtypes"
   ]
  },
  {
   "cell_type": "code",
   "execution_count": 200,
   "metadata": {},
   "outputs": [],
   "source": [
    "# transform object data types for date columns to date data types\n",
    "fact_bookings[['booking_date','check_in_date','check_out_date']] = fact_bookings[['booking_date','check_in_date','check_out_date']].apply(pd.to_datetime)"
   ]
  },
  {
   "cell_type": "markdown",
   "metadata": {},
   "source": [
    "#### Clean Text Data"
   ]
  },
  {
   "cell_type": "code",
   "execution_count": 201,
   "metadata": {},
   "outputs": [],
   "source": [
    "# list of text columns to clean\n",
    "booking_text_list = fact_bookings.select_dtypes(include='object').columns.tolist()\n",
    "\n",
    "# remove spaces at the beginning and end of the string\n",
    "fact_bookings[booking_text_list] = fact_bookings[booking_text_list].apply(lambda x: x.str.strip())\n",
    "\n",
    "# convert text to lowercase\n",
    "fact_bookings[booking_text_list] = fact_bookings[booking_text_list].apply(lambda x: x.str.lower())"
   ]
  },
  {
   "cell_type": "markdown",
   "metadata": {},
   "source": [
    "#### Check Primary Key Columns"
   ]
  },
  {
   "cell_type": "code",
   "execution_count": 202,
   "metadata": {},
   "outputs": [
    {
     "name": "stdout",
     "output_type": "stream",
     "text": [
      "The number of null values in the Key Identifier column is 0\n",
      "The number of duplicated values in the Key Identifier column is 0\n",
      "The number of unique values in the Key Identifier column is 134590\n",
      "['may012216558rt11' 'may012216558rt12' 'may012216558rt13' ...\n",
      " 'jul312217564rt48' 'jul312217564rt49' 'jul312217564rt410']\n"
     ]
    }
   ],
   "source": [
    "# check the number of null values in the key identifier column\n",
    "print(f\"The number of null values in the Key Identifier column is {fact_bookings['booking_id'].isnull().sum()}\")\n",
    "# check the number of duplicated values in the key identifier column\n",
    "print(f\"The number of duplicated values in the Key Identifier column is {fact_bookings['booking_id'].duplicated().sum()}\")\n",
    "# Check the unique values in the Key Identifier column\n",
    "print(f\"The number of unique values in the Key Identifier column is {fact_bookings['booking_id'].unique().shape[0]}\")\n",
    "print(f\"{fact_bookings['booking_id'].unique()}\")"
   ]
  },
  {
   "cell_type": "markdown",
   "metadata": {},
   "source": [
    "#### Check Missing Values"
   ]
  },
  {
   "cell_type": "code",
   "execution_count": 203,
   "metadata": {},
   "outputs": [
    {
     "data": {
      "text/plain": [
       "booking_id               0\n",
       "property_id              0\n",
       "booking_date             0\n",
       "check_in_date            0\n",
       "check_out_date           0\n",
       "no_guests                0\n",
       "room_category            0\n",
       "booking_platform         0\n",
       "ratings_given        77907\n",
       "booking_status           0\n",
       "revenue_generated        0\n",
       "revenue_realized         0\n",
       "dtype: int64"
      ]
     },
     "execution_count": 203,
     "metadata": {},
     "output_type": "execute_result"
    }
   ],
   "source": [
    "# check missing values\n",
    "fact_bookings.isnull().sum()"
   ]
  },
  {
   "cell_type": "code",
   "execution_count": 204,
   "metadata": {},
   "outputs": [
    {
     "name": "stdout",
     "output_type": "stream",
     "text": [
      "The percentage of null values in rating given columns is: 57.88%\n"
     ]
    }
   ],
   "source": [
    "# check the percentage of missing values\n",
    "print(f\"The percentage of null values in rating given columns is: {fact_bookings['ratings_given'].isnull().sum() / fact_bookings.shape[0] * 100 :.2f}%\")"
   ]
  },
  {
   "cell_type": "code",
   "execution_count": 205,
   "metadata": {},
   "outputs": [
    {
     "name": "stdout",
     "output_type": "stream",
     "text": [
      "The number of unique values in the column is 6\n",
      "[ 1. nan  5.  4.  3.  2.]\n"
     ]
    }
   ],
   "source": [
    "# check unique values in null column\n",
    "print(f\"The number of unique values in the column is {fact_bookings['ratings_given'].unique().shape[0]}\")\n",
    "print(f\"{fact_bookings['ratings_given'].unique()}\")"
   ]
  },
  {
   "cell_type": "code",
   "execution_count": 206,
   "metadata": {},
   "outputs": [
    {
     "data": {
      "text/html": [
       "<div>\n",
       "<style scoped>\n",
       "    .dataframe tbody tr th:only-of-type {\n",
       "        vertical-align: middle;\n",
       "    }\n",
       "\n",
       "    .dataframe tbody tr th {\n",
       "        vertical-align: top;\n",
       "    }\n",
       "\n",
       "    .dataframe thead th {\n",
       "        text-align: right;\n",
       "    }\n",
       "</style>\n",
       "<table border=\"1\" class=\"dataframe\">\n",
       "  <thead>\n",
       "    <tr style=\"text-align: right;\">\n",
       "      <th></th>\n",
       "      <th>booking_status</th>\n",
       "      <th>count</th>\n",
       "    </tr>\n",
       "  </thead>\n",
       "  <tbody>\n",
       "    <tr>\n",
       "      <th>0</th>\n",
       "      <td>cancelled</td>\n",
       "      <td>33420</td>\n",
       "    </tr>\n",
       "    <tr>\n",
       "      <th>1</th>\n",
       "      <td>checked out</td>\n",
       "      <td>37728</td>\n",
       "    </tr>\n",
       "    <tr>\n",
       "      <th>2</th>\n",
       "      <td>no show</td>\n",
       "      <td>6759</td>\n",
       "    </tr>\n",
       "  </tbody>\n",
       "</table>\n",
       "</div>"
      ],
      "text/plain": [
       "  booking_status  count\n",
       "0      cancelled  33420\n",
       "1    checked out  37728\n",
       "2        no show   6759"
      ]
     },
     "metadata": {},
     "output_type": "display_data"
    },
    {
     "name": "stdout",
     "output_type": "stream",
     "text": [
      "Total null values in ratings_given columns is 77907\n"
     ]
    }
   ],
   "source": [
    "# check null values in \"ratings_given\" related to \"bookings_status\" columns\n",
    "display(fact_bookings[fact_bookings['ratings_given'].isnull()].groupby(['booking_status']).agg(count=('booking_id','count')).reset_index())\n",
    "# display the number of null values in columns\n",
    "print(f\"Total null values in ratings_given columns is {fact_bookings['ratings_given'].isnull().sum()}\")"
   ]
  },
  {
   "cell_type": "markdown",
   "metadata": {},
   "source": [
    "**NOTE:**\n",
    "DATA ONLY BOOKING STATUS COLUMN IS IN 'CANCELLED' OR 'NO SHOW'"
   ]
  },
  {
   "cell_type": "code",
   "execution_count": 207,
   "metadata": {},
   "outputs": [
    {
     "data": {
      "text/html": [
       "<div>\n",
       "<style scoped>\n",
       "    .dataframe tbody tr th:only-of-type {\n",
       "        vertical-align: middle;\n",
       "    }\n",
       "\n",
       "    .dataframe tbody tr th {\n",
       "        vertical-align: top;\n",
       "    }\n",
       "\n",
       "    .dataframe thead th {\n",
       "        text-align: right;\n",
       "    }\n",
       "</style>\n",
       "<table border=\"1\" class=\"dataframe\">\n",
       "  <thead>\n",
       "    <tr style=\"text-align: right;\">\n",
       "      <th></th>\n",
       "      <th>booking_id</th>\n",
       "      <th>property_id</th>\n",
       "      <th>booking_date</th>\n",
       "      <th>check_in_date</th>\n",
       "      <th>check_out_date</th>\n",
       "      <th>no_guests</th>\n",
       "      <th>room_category</th>\n",
       "      <th>booking_platform</th>\n",
       "      <th>ratings_given</th>\n",
       "      <th>booking_status</th>\n",
       "      <th>revenue_generated</th>\n",
       "      <th>revenue_realized</th>\n",
       "    </tr>\n",
       "  </thead>\n",
       "  <tbody>\n",
       "    <tr>\n",
       "      <th>1</th>\n",
       "      <td>may012216558rt12</td>\n",
       "      <td>16558</td>\n",
       "      <td>2022-04-30</td>\n",
       "      <td>2022-05-01</td>\n",
       "      <td>2022-05-02</td>\n",
       "      <td>2</td>\n",
       "      <td>rt1</td>\n",
       "      <td>others</td>\n",
       "      <td>NaN</td>\n",
       "      <td>cancelled</td>\n",
       "      <td>9100</td>\n",
       "      <td>3640</td>\n",
       "    </tr>\n",
       "    <tr>\n",
       "      <th>3</th>\n",
       "      <td>may012216558rt14</td>\n",
       "      <td>16558</td>\n",
       "      <td>2022-04-28</td>\n",
       "      <td>2022-05-01</td>\n",
       "      <td>2022-05-02</td>\n",
       "      <td>2</td>\n",
       "      <td>rt1</td>\n",
       "      <td>others</td>\n",
       "      <td>NaN</td>\n",
       "      <td>cancelled</td>\n",
       "      <td>9100</td>\n",
       "      <td>3640</td>\n",
       "    </tr>\n",
       "    <tr>\n",
       "      <th>6</th>\n",
       "      <td>may012216558rt17</td>\n",
       "      <td>16558</td>\n",
       "      <td>2022-04-28</td>\n",
       "      <td>2022-05-01</td>\n",
       "      <td>2022-05-06</td>\n",
       "      <td>2</td>\n",
       "      <td>rt1</td>\n",
       "      <td>others</td>\n",
       "      <td>NaN</td>\n",
       "      <td>cancelled</td>\n",
       "      <td>9100</td>\n",
       "      <td>3640</td>\n",
       "    </tr>\n",
       "    <tr>\n",
       "      <th>7</th>\n",
       "      <td>may012216558rt18</td>\n",
       "      <td>16558</td>\n",
       "      <td>2022-04-26</td>\n",
       "      <td>2022-05-01</td>\n",
       "      <td>2022-05-03</td>\n",
       "      <td>2</td>\n",
       "      <td>rt1</td>\n",
       "      <td>logtrip</td>\n",
       "      <td>NaN</td>\n",
       "      <td>no show</td>\n",
       "      <td>9100</td>\n",
       "      <td>9100</td>\n",
       "    </tr>\n",
       "    <tr>\n",
       "      <th>13</th>\n",
       "      <td>may012216558rt114</td>\n",
       "      <td>16558</td>\n",
       "      <td>2022-04-30</td>\n",
       "      <td>2022-05-01</td>\n",
       "      <td>2022-05-05</td>\n",
       "      <td>1</td>\n",
       "      <td>rt1</td>\n",
       "      <td>logtrip</td>\n",
       "      <td>NaN</td>\n",
       "      <td>cancelled</td>\n",
       "      <td>9100</td>\n",
       "      <td>3640</td>\n",
       "    </tr>\n",
       "    <tr>\n",
       "      <th>...</th>\n",
       "      <td>...</td>\n",
       "      <td>...</td>\n",
       "      <td>...</td>\n",
       "      <td>...</td>\n",
       "      <td>...</td>\n",
       "      <td>...</td>\n",
       "      <td>...</td>\n",
       "      <td>...</td>\n",
       "      <td>...</td>\n",
       "      <td>...</td>\n",
       "      <td>...</td>\n",
       "      <td>...</td>\n",
       "    </tr>\n",
       "    <tr>\n",
       "      <th>134570</th>\n",
       "      <td>jul312217564rt32</td>\n",
       "      <td>17564</td>\n",
       "      <td>2022-07-31</td>\n",
       "      <td>2022-07-31</td>\n",
       "      <td>2022-08-03</td>\n",
       "      <td>4</td>\n",
       "      <td>rt3</td>\n",
       "      <td>journey</td>\n",
       "      <td>NaN</td>\n",
       "      <td>cancelled</td>\n",
       "      <td>24480</td>\n",
       "      <td>9792</td>\n",
       "    </tr>\n",
       "    <tr>\n",
       "      <th>134573</th>\n",
       "      <td>jul312217564rt35</td>\n",
       "      <td>17564</td>\n",
       "      <td>2022-07-31</td>\n",
       "      <td>2022-07-31</td>\n",
       "      <td>2022-08-01</td>\n",
       "      <td>2</td>\n",
       "      <td>rt3</td>\n",
       "      <td>direct online</td>\n",
       "      <td>NaN</td>\n",
       "      <td>no show</td>\n",
       "      <td>20400</td>\n",
       "      <td>20400</td>\n",
       "    </tr>\n",
       "    <tr>\n",
       "      <th>134583</th>\n",
       "      <td>jul312217564rt44</td>\n",
       "      <td>17564</td>\n",
       "      <td>2022-07-31</td>\n",
       "      <td>2022-07-31</td>\n",
       "      <td>2022-08-01</td>\n",
       "      <td>1</td>\n",
       "      <td>rt4</td>\n",
       "      <td>others</td>\n",
       "      <td>NaN</td>\n",
       "      <td>cancelled</td>\n",
       "      <td>32300</td>\n",
       "      <td>12920</td>\n",
       "    </tr>\n",
       "    <tr>\n",
       "      <th>134587</th>\n",
       "      <td>jul312217564rt48</td>\n",
       "      <td>17564</td>\n",
       "      <td>2022-07-30</td>\n",
       "      <td>2022-07-31</td>\n",
       "      <td>2022-08-02</td>\n",
       "      <td>1</td>\n",
       "      <td>rt4</td>\n",
       "      <td>tripster</td>\n",
       "      <td>NaN</td>\n",
       "      <td>cancelled</td>\n",
       "      <td>32300</td>\n",
       "      <td>12920</td>\n",
       "    </tr>\n",
       "    <tr>\n",
       "      <th>134589</th>\n",
       "      <td>jul312217564rt410</td>\n",
       "      <td>17564</td>\n",
       "      <td>2022-07-31</td>\n",
       "      <td>2022-07-31</td>\n",
       "      <td>2022-08-01</td>\n",
       "      <td>2</td>\n",
       "      <td>rt4</td>\n",
       "      <td>makeyourtrip</td>\n",
       "      <td>NaN</td>\n",
       "      <td>cancelled</td>\n",
       "      <td>32300</td>\n",
       "      <td>12920</td>\n",
       "    </tr>\n",
       "  </tbody>\n",
       "</table>\n",
       "<p>40179 rows × 12 columns</p>\n",
       "</div>"
      ],
      "text/plain": [
       "               booking_id  property_id booking_date check_in_date  \\\n",
       "1        may012216558rt12        16558   2022-04-30    2022-05-01   \n",
       "3        may012216558rt14        16558   2022-04-28    2022-05-01   \n",
       "6        may012216558rt17        16558   2022-04-28    2022-05-01   \n",
       "7        may012216558rt18        16558   2022-04-26    2022-05-01   \n",
       "13      may012216558rt114        16558   2022-04-30    2022-05-01   \n",
       "...                   ...          ...          ...           ...   \n",
       "134570   jul312217564rt32        17564   2022-07-31    2022-07-31   \n",
       "134573   jul312217564rt35        17564   2022-07-31    2022-07-31   \n",
       "134583   jul312217564rt44        17564   2022-07-31    2022-07-31   \n",
       "134587   jul312217564rt48        17564   2022-07-30    2022-07-31   \n",
       "134589  jul312217564rt410        17564   2022-07-31    2022-07-31   \n",
       "\n",
       "       check_out_date  no_guests room_category booking_platform  \\\n",
       "1          2022-05-02          2           rt1           others   \n",
       "3          2022-05-02          2           rt1           others   \n",
       "6          2022-05-06          2           rt1           others   \n",
       "7          2022-05-03          2           rt1          logtrip   \n",
       "13         2022-05-05          1           rt1          logtrip   \n",
       "...               ...        ...           ...              ...   \n",
       "134570     2022-08-03          4           rt3          journey   \n",
       "134573     2022-08-01          2           rt3    direct online   \n",
       "134583     2022-08-01          1           rt4           others   \n",
       "134587     2022-08-02          1           rt4         tripster   \n",
       "134589     2022-08-01          2           rt4     makeyourtrip   \n",
       "\n",
       "        ratings_given booking_status  revenue_generated  revenue_realized  \n",
       "1                 NaN      cancelled               9100              3640  \n",
       "3                 NaN      cancelled               9100              3640  \n",
       "6                 NaN      cancelled               9100              3640  \n",
       "7                 NaN        no show               9100              9100  \n",
       "13                NaN      cancelled               9100              3640  \n",
       "...               ...            ...                ...               ...  \n",
       "134570            NaN      cancelled              24480              9792  \n",
       "134573            NaN        no show              20400             20400  \n",
       "134583            NaN      cancelled              32300             12920  \n",
       "134587            NaN      cancelled              32300             12920  \n",
       "134589            NaN      cancelled              32300             12920  \n",
       "\n",
       "[40179 rows x 12 columns]"
      ]
     },
     "execution_count": 207,
     "metadata": {},
     "output_type": "execute_result"
    }
   ],
   "source": [
    "# check null values in ratings_given columns that have booking status is in \"cancelled\" or \"no show\"\n",
    "null_cancelled_no_show = fact_bookings.index[\n",
    "    (fact_bookings['ratings_given'].isnull()) &\n",
    "    (fact_bookings['booking_status'].isin(['cancelled', 'no show']))                                            \n",
    "                                             ].to_list()\n",
    "# display null values\n",
    "null_cancelled_no_show\n",
    "fact_bookings.loc[null_cancelled_no_show, ]"
   ]
  },
  {
   "cell_type": "code",
   "execution_count": 208,
   "metadata": {},
   "outputs": [],
   "source": [
    "# find row where column \"booking status\" has a value of \"cancelled\" or \"no show\" and column \"ratings_given\" has a value of NaN (null)\n",
    "# replace the NaN value in the \"ratings_given\" column of these rows to 0\n",
    "fact_bookings.loc[\n",
    "    (fact_bookings['ratings_given'].isnull()) &\n",
    "    (fact_bookings['booking_status'].isin(['cancelled', 'no show'])),\n",
    "    'ratings_given'\n",
    "] = 0"
   ]
  },
  {
   "cell_type": "code",
   "execution_count": 209,
   "metadata": {},
   "outputs": [
    {
     "data": {
      "text/html": [
       "<div>\n",
       "<style scoped>\n",
       "    .dataframe tbody tr th:only-of-type {\n",
       "        vertical-align: middle;\n",
       "    }\n",
       "\n",
       "    .dataframe tbody tr th {\n",
       "        vertical-align: top;\n",
       "    }\n",
       "\n",
       "    .dataframe thead th {\n",
       "        text-align: right;\n",
       "    }\n",
       "</style>\n",
       "<table border=\"1\" class=\"dataframe\">\n",
       "  <thead>\n",
       "    <tr style=\"text-align: right;\">\n",
       "      <th></th>\n",
       "      <th>booking_id</th>\n",
       "      <th>property_id</th>\n",
       "      <th>booking_date</th>\n",
       "      <th>check_in_date</th>\n",
       "      <th>check_out_date</th>\n",
       "      <th>no_guests</th>\n",
       "      <th>room_category</th>\n",
       "      <th>booking_platform</th>\n",
       "      <th>ratings_given</th>\n",
       "      <th>booking_status</th>\n",
       "      <th>revenue_generated</th>\n",
       "      <th>revenue_realized</th>\n",
       "    </tr>\n",
       "  </thead>\n",
       "  <tbody>\n",
       "    <tr>\n",
       "      <th>1</th>\n",
       "      <td>may012216558rt12</td>\n",
       "      <td>16558</td>\n",
       "      <td>2022-04-30</td>\n",
       "      <td>2022-05-01</td>\n",
       "      <td>2022-05-02</td>\n",
       "      <td>2</td>\n",
       "      <td>rt1</td>\n",
       "      <td>others</td>\n",
       "      <td>0.0</td>\n",
       "      <td>cancelled</td>\n",
       "      <td>9100</td>\n",
       "      <td>3640</td>\n",
       "    </tr>\n",
       "    <tr>\n",
       "      <th>3</th>\n",
       "      <td>may012216558rt14</td>\n",
       "      <td>16558</td>\n",
       "      <td>2022-04-28</td>\n",
       "      <td>2022-05-01</td>\n",
       "      <td>2022-05-02</td>\n",
       "      <td>2</td>\n",
       "      <td>rt1</td>\n",
       "      <td>others</td>\n",
       "      <td>0.0</td>\n",
       "      <td>cancelled</td>\n",
       "      <td>9100</td>\n",
       "      <td>3640</td>\n",
       "    </tr>\n",
       "    <tr>\n",
       "      <th>6</th>\n",
       "      <td>may012216558rt17</td>\n",
       "      <td>16558</td>\n",
       "      <td>2022-04-28</td>\n",
       "      <td>2022-05-01</td>\n",
       "      <td>2022-05-06</td>\n",
       "      <td>2</td>\n",
       "      <td>rt1</td>\n",
       "      <td>others</td>\n",
       "      <td>0.0</td>\n",
       "      <td>cancelled</td>\n",
       "      <td>9100</td>\n",
       "      <td>3640</td>\n",
       "    </tr>\n",
       "    <tr>\n",
       "      <th>7</th>\n",
       "      <td>may012216558rt18</td>\n",
       "      <td>16558</td>\n",
       "      <td>2022-04-26</td>\n",
       "      <td>2022-05-01</td>\n",
       "      <td>2022-05-03</td>\n",
       "      <td>2</td>\n",
       "      <td>rt1</td>\n",
       "      <td>logtrip</td>\n",
       "      <td>0.0</td>\n",
       "      <td>no show</td>\n",
       "      <td>9100</td>\n",
       "      <td>9100</td>\n",
       "    </tr>\n",
       "    <tr>\n",
       "      <th>13</th>\n",
       "      <td>may012216558rt114</td>\n",
       "      <td>16558</td>\n",
       "      <td>2022-04-30</td>\n",
       "      <td>2022-05-01</td>\n",
       "      <td>2022-05-05</td>\n",
       "      <td>1</td>\n",
       "      <td>rt1</td>\n",
       "      <td>logtrip</td>\n",
       "      <td>0.0</td>\n",
       "      <td>cancelled</td>\n",
       "      <td>9100</td>\n",
       "      <td>3640</td>\n",
       "    </tr>\n",
       "    <tr>\n",
       "      <th>...</th>\n",
       "      <td>...</td>\n",
       "      <td>...</td>\n",
       "      <td>...</td>\n",
       "      <td>...</td>\n",
       "      <td>...</td>\n",
       "      <td>...</td>\n",
       "      <td>...</td>\n",
       "      <td>...</td>\n",
       "      <td>...</td>\n",
       "      <td>...</td>\n",
       "      <td>...</td>\n",
       "      <td>...</td>\n",
       "    </tr>\n",
       "    <tr>\n",
       "      <th>134570</th>\n",
       "      <td>jul312217564rt32</td>\n",
       "      <td>17564</td>\n",
       "      <td>2022-07-31</td>\n",
       "      <td>2022-07-31</td>\n",
       "      <td>2022-08-03</td>\n",
       "      <td>4</td>\n",
       "      <td>rt3</td>\n",
       "      <td>journey</td>\n",
       "      <td>0.0</td>\n",
       "      <td>cancelled</td>\n",
       "      <td>24480</td>\n",
       "      <td>9792</td>\n",
       "    </tr>\n",
       "    <tr>\n",
       "      <th>134573</th>\n",
       "      <td>jul312217564rt35</td>\n",
       "      <td>17564</td>\n",
       "      <td>2022-07-31</td>\n",
       "      <td>2022-07-31</td>\n",
       "      <td>2022-08-01</td>\n",
       "      <td>2</td>\n",
       "      <td>rt3</td>\n",
       "      <td>direct online</td>\n",
       "      <td>0.0</td>\n",
       "      <td>no show</td>\n",
       "      <td>20400</td>\n",
       "      <td>20400</td>\n",
       "    </tr>\n",
       "    <tr>\n",
       "      <th>134583</th>\n",
       "      <td>jul312217564rt44</td>\n",
       "      <td>17564</td>\n",
       "      <td>2022-07-31</td>\n",
       "      <td>2022-07-31</td>\n",
       "      <td>2022-08-01</td>\n",
       "      <td>1</td>\n",
       "      <td>rt4</td>\n",
       "      <td>others</td>\n",
       "      <td>0.0</td>\n",
       "      <td>cancelled</td>\n",
       "      <td>32300</td>\n",
       "      <td>12920</td>\n",
       "    </tr>\n",
       "    <tr>\n",
       "      <th>134587</th>\n",
       "      <td>jul312217564rt48</td>\n",
       "      <td>17564</td>\n",
       "      <td>2022-07-30</td>\n",
       "      <td>2022-07-31</td>\n",
       "      <td>2022-08-02</td>\n",
       "      <td>1</td>\n",
       "      <td>rt4</td>\n",
       "      <td>tripster</td>\n",
       "      <td>0.0</td>\n",
       "      <td>cancelled</td>\n",
       "      <td>32300</td>\n",
       "      <td>12920</td>\n",
       "    </tr>\n",
       "    <tr>\n",
       "      <th>134589</th>\n",
       "      <td>jul312217564rt410</td>\n",
       "      <td>17564</td>\n",
       "      <td>2022-07-31</td>\n",
       "      <td>2022-07-31</td>\n",
       "      <td>2022-08-01</td>\n",
       "      <td>2</td>\n",
       "      <td>rt4</td>\n",
       "      <td>makeyourtrip</td>\n",
       "      <td>0.0</td>\n",
       "      <td>cancelled</td>\n",
       "      <td>32300</td>\n",
       "      <td>12920</td>\n",
       "    </tr>\n",
       "  </tbody>\n",
       "</table>\n",
       "<p>40179 rows × 12 columns</p>\n",
       "</div>"
      ],
      "text/plain": [
       "               booking_id  property_id booking_date check_in_date  \\\n",
       "1        may012216558rt12        16558   2022-04-30    2022-05-01   \n",
       "3        may012216558rt14        16558   2022-04-28    2022-05-01   \n",
       "6        may012216558rt17        16558   2022-04-28    2022-05-01   \n",
       "7        may012216558rt18        16558   2022-04-26    2022-05-01   \n",
       "13      may012216558rt114        16558   2022-04-30    2022-05-01   \n",
       "...                   ...          ...          ...           ...   \n",
       "134570   jul312217564rt32        17564   2022-07-31    2022-07-31   \n",
       "134573   jul312217564rt35        17564   2022-07-31    2022-07-31   \n",
       "134583   jul312217564rt44        17564   2022-07-31    2022-07-31   \n",
       "134587   jul312217564rt48        17564   2022-07-30    2022-07-31   \n",
       "134589  jul312217564rt410        17564   2022-07-31    2022-07-31   \n",
       "\n",
       "       check_out_date  no_guests room_category booking_platform  \\\n",
       "1          2022-05-02          2           rt1           others   \n",
       "3          2022-05-02          2           rt1           others   \n",
       "6          2022-05-06          2           rt1           others   \n",
       "7          2022-05-03          2           rt1          logtrip   \n",
       "13         2022-05-05          1           rt1          logtrip   \n",
       "...               ...        ...           ...              ...   \n",
       "134570     2022-08-03          4           rt3          journey   \n",
       "134573     2022-08-01          2           rt3    direct online   \n",
       "134583     2022-08-01          1           rt4           others   \n",
       "134587     2022-08-02          1           rt4         tripster   \n",
       "134589     2022-08-01          2           rt4     makeyourtrip   \n",
       "\n",
       "        ratings_given booking_status  revenue_generated  revenue_realized  \n",
       "1                 0.0      cancelled               9100              3640  \n",
       "3                 0.0      cancelled               9100              3640  \n",
       "6                 0.0      cancelled               9100              3640  \n",
       "7                 0.0        no show               9100              9100  \n",
       "13                0.0      cancelled               9100              3640  \n",
       "...               ...            ...                ...               ...  \n",
       "134570            0.0      cancelled              24480              9792  \n",
       "134573            0.0        no show              20400             20400  \n",
       "134583            0.0      cancelled              32300             12920  \n",
       "134587            0.0      cancelled              32300             12920  \n",
       "134589            0.0      cancelled              32300             12920  \n",
       "\n",
       "[40179 rows x 12 columns]"
      ]
     },
     "execution_count": 209,
     "metadata": {},
     "output_type": "execute_result"
    }
   ],
   "source": [
    "# check null values in column after processing\n",
    "null_cancelled_no_show\n",
    "fact_bookings.loc[null_cancelled_no_show, ]"
   ]
  },
  {
   "cell_type": "markdown",
   "metadata": {},
   "source": [
    "**NOTE:**\n",
    "PART OF CHECKED OUT"
   ]
  },
  {
   "cell_type": "code",
   "execution_count": 210,
   "metadata": {},
   "outputs": [
    {
     "data": {
      "text/html": [
       "<div>\n",
       "<style scoped>\n",
       "    .dataframe tbody tr th:only-of-type {\n",
       "        vertical-align: middle;\n",
       "    }\n",
       "\n",
       "    .dataframe tbody tr th {\n",
       "        vertical-align: top;\n",
       "    }\n",
       "\n",
       "    .dataframe thead th {\n",
       "        text-align: right;\n",
       "    }\n",
       "</style>\n",
       "<table border=\"1\" class=\"dataframe\">\n",
       "  <thead>\n",
       "    <tr style=\"text-align: right;\">\n",
       "      <th></th>\n",
       "      <th>booking_id</th>\n",
       "      <th>property_id</th>\n",
       "      <th>booking_date</th>\n",
       "      <th>check_in_date</th>\n",
       "      <th>check_out_date</th>\n",
       "      <th>no_guests</th>\n",
       "      <th>room_category</th>\n",
       "      <th>booking_platform</th>\n",
       "      <th>ratings_given</th>\n",
       "      <th>booking_status</th>\n",
       "      <th>revenue_generated</th>\n",
       "      <th>revenue_realized</th>\n",
       "    </tr>\n",
       "  </thead>\n",
       "  <tbody>\n",
       "    <tr>\n",
       "      <th>8</th>\n",
       "      <td>may012216558rt19</td>\n",
       "      <td>16558</td>\n",
       "      <td>2022-04-30</td>\n",
       "      <td>2022-05-01</td>\n",
       "      <td>2022-05-02</td>\n",
       "      <td>2</td>\n",
       "      <td>rt1</td>\n",
       "      <td>tripster</td>\n",
       "      <td>NaN</td>\n",
       "      <td>checked out</td>\n",
       "      <td>9100</td>\n",
       "      <td>9100</td>\n",
       "    </tr>\n",
       "    <tr>\n",
       "      <th>14</th>\n",
       "      <td>may012216558rt115</td>\n",
       "      <td>16558</td>\n",
       "      <td>2022-04-29</td>\n",
       "      <td>2022-05-01</td>\n",
       "      <td>2022-05-02</td>\n",
       "      <td>2</td>\n",
       "      <td>rt1</td>\n",
       "      <td>others</td>\n",
       "      <td>NaN</td>\n",
       "      <td>checked out</td>\n",
       "      <td>9100</td>\n",
       "      <td>9100</td>\n",
       "    </tr>\n",
       "    <tr>\n",
       "      <th>15</th>\n",
       "      <td>may012216558rt116</td>\n",
       "      <td>16558</td>\n",
       "      <td>2022-04-27</td>\n",
       "      <td>2022-05-01</td>\n",
       "      <td>2022-05-03</td>\n",
       "      <td>4</td>\n",
       "      <td>rt1</td>\n",
       "      <td>journey</td>\n",
       "      <td>NaN</td>\n",
       "      <td>checked out</td>\n",
       "      <td>10920</td>\n",
       "      <td>10920</td>\n",
       "    </tr>\n",
       "    <tr>\n",
       "      <th>16</th>\n",
       "      <td>may012216558rt117</td>\n",
       "      <td>16558</td>\n",
       "      <td>2022-04-29</td>\n",
       "      <td>2022-05-01</td>\n",
       "      <td>2022-05-02</td>\n",
       "      <td>3</td>\n",
       "      <td>rt1</td>\n",
       "      <td>direct offline</td>\n",
       "      <td>NaN</td>\n",
       "      <td>checked out</td>\n",
       "      <td>10010</td>\n",
       "      <td>10010</td>\n",
       "    </tr>\n",
       "    <tr>\n",
       "      <th>17</th>\n",
       "      <td>may012216558rt118</td>\n",
       "      <td>16558</td>\n",
       "      <td>2022-04-27</td>\n",
       "      <td>2022-05-01</td>\n",
       "      <td>2022-05-02</td>\n",
       "      <td>2</td>\n",
       "      <td>rt1</td>\n",
       "      <td>others</td>\n",
       "      <td>NaN</td>\n",
       "      <td>checked out</td>\n",
       "      <td>9100</td>\n",
       "      <td>9100</td>\n",
       "    </tr>\n",
       "    <tr>\n",
       "      <th>...</th>\n",
       "      <td>...</td>\n",
       "      <td>...</td>\n",
       "      <td>...</td>\n",
       "      <td>...</td>\n",
       "      <td>...</td>\n",
       "      <td>...</td>\n",
       "      <td>...</td>\n",
       "      <td>...</td>\n",
       "      <td>...</td>\n",
       "      <td>...</td>\n",
       "      <td>...</td>\n",
       "      <td>...</td>\n",
       "    </tr>\n",
       "    <tr>\n",
       "      <th>134571</th>\n",
       "      <td>jul312217564rt33</td>\n",
       "      <td>17564</td>\n",
       "      <td>2022-07-30</td>\n",
       "      <td>2022-07-31</td>\n",
       "      <td>2022-08-04</td>\n",
       "      <td>3</td>\n",
       "      <td>rt3</td>\n",
       "      <td>direct online</td>\n",
       "      <td>NaN</td>\n",
       "      <td>checked out</td>\n",
       "      <td>22440</td>\n",
       "      <td>22440</td>\n",
       "    </tr>\n",
       "    <tr>\n",
       "      <th>134574</th>\n",
       "      <td>jul312217564rt36</td>\n",
       "      <td>17564</td>\n",
       "      <td>2022-07-31</td>\n",
       "      <td>2022-07-31</td>\n",
       "      <td>2022-08-01</td>\n",
       "      <td>1</td>\n",
       "      <td>rt3</td>\n",
       "      <td>others</td>\n",
       "      <td>NaN</td>\n",
       "      <td>checked out</td>\n",
       "      <td>20400</td>\n",
       "      <td>20400</td>\n",
       "    </tr>\n",
       "    <tr>\n",
       "      <th>134576</th>\n",
       "      <td>jul312217564rt38</td>\n",
       "      <td>17564</td>\n",
       "      <td>2022-07-30</td>\n",
       "      <td>2022-07-31</td>\n",
       "      <td>2022-08-04</td>\n",
       "      <td>1</td>\n",
       "      <td>rt3</td>\n",
       "      <td>others</td>\n",
       "      <td>NaN</td>\n",
       "      <td>checked out</td>\n",
       "      <td>20400</td>\n",
       "      <td>20400</td>\n",
       "    </tr>\n",
       "    <tr>\n",
       "      <th>134579</th>\n",
       "      <td>jul312217564rt311</td>\n",
       "      <td>17564</td>\n",
       "      <td>2022-07-30</td>\n",
       "      <td>2022-07-31</td>\n",
       "      <td>2022-08-02</td>\n",
       "      <td>2</td>\n",
       "      <td>rt3</td>\n",
       "      <td>others</td>\n",
       "      <td>NaN</td>\n",
       "      <td>checked out</td>\n",
       "      <td>20400</td>\n",
       "      <td>20400</td>\n",
       "    </tr>\n",
       "    <tr>\n",
       "      <th>134580</th>\n",
       "      <td>jul312217564rt41</td>\n",
       "      <td>17564</td>\n",
       "      <td>2022-07-31</td>\n",
       "      <td>2022-07-31</td>\n",
       "      <td>2022-08-02</td>\n",
       "      <td>1</td>\n",
       "      <td>rt4</td>\n",
       "      <td>direct online</td>\n",
       "      <td>NaN</td>\n",
       "      <td>checked out</td>\n",
       "      <td>32300</td>\n",
       "      <td>32300</td>\n",
       "    </tr>\n",
       "  </tbody>\n",
       "</table>\n",
       "<p>37728 rows × 12 columns</p>\n",
       "</div>"
      ],
      "text/plain": [
       "               booking_id  property_id booking_date check_in_date  \\\n",
       "8        may012216558rt19        16558   2022-04-30    2022-05-01   \n",
       "14      may012216558rt115        16558   2022-04-29    2022-05-01   \n",
       "15      may012216558rt116        16558   2022-04-27    2022-05-01   \n",
       "16      may012216558rt117        16558   2022-04-29    2022-05-01   \n",
       "17      may012216558rt118        16558   2022-04-27    2022-05-01   \n",
       "...                   ...          ...          ...           ...   \n",
       "134571   jul312217564rt33        17564   2022-07-30    2022-07-31   \n",
       "134574   jul312217564rt36        17564   2022-07-31    2022-07-31   \n",
       "134576   jul312217564rt38        17564   2022-07-30    2022-07-31   \n",
       "134579  jul312217564rt311        17564   2022-07-30    2022-07-31   \n",
       "134580   jul312217564rt41        17564   2022-07-31    2022-07-31   \n",
       "\n",
       "       check_out_date  no_guests room_category booking_platform  \\\n",
       "8          2022-05-02          2           rt1         tripster   \n",
       "14         2022-05-02          2           rt1           others   \n",
       "15         2022-05-03          4           rt1          journey   \n",
       "16         2022-05-02          3           rt1   direct offline   \n",
       "17         2022-05-02          2           rt1           others   \n",
       "...               ...        ...           ...              ...   \n",
       "134571     2022-08-04          3           rt3    direct online   \n",
       "134574     2022-08-01          1           rt3           others   \n",
       "134576     2022-08-04          1           rt3           others   \n",
       "134579     2022-08-02          2           rt3           others   \n",
       "134580     2022-08-02          1           rt4    direct online   \n",
       "\n",
       "        ratings_given booking_status  revenue_generated  revenue_realized  \n",
       "8                 NaN    checked out               9100              9100  \n",
       "14                NaN    checked out               9100              9100  \n",
       "15                NaN    checked out              10920             10920  \n",
       "16                NaN    checked out              10010             10010  \n",
       "17                NaN    checked out               9100              9100  \n",
       "...               ...            ...                ...               ...  \n",
       "134571            NaN    checked out              22440             22440  \n",
       "134574            NaN    checked out              20400             20400  \n",
       "134576            NaN    checked out              20400             20400  \n",
       "134579            NaN    checked out              20400             20400  \n",
       "134580            NaN    checked out              32300             32300  \n",
       "\n",
       "[37728 rows x 12 columns]"
      ]
     },
     "execution_count": 210,
     "metadata": {},
     "output_type": "execute_result"
    }
   ],
   "source": [
    "# check null values in ratings_given columns that have booking status is \"checked out\"\n",
    "null_checked_out = fact_bookings.index[\n",
    "    (fact_bookings['ratings_given'].isnull()) &\n",
    "    (fact_bookings['booking_status']=='checked out')\n",
    "                                       ].to_list()\n",
    "\n",
    "# display null values\n",
    "null_checked_out\n",
    "fact_bookings.loc[null_checked_out, ]"
   ]
  },
  {
   "cell_type": "code",
   "execution_count": 211,
   "metadata": {},
   "outputs": [],
   "source": [
    "# calculating the average value of column \"ratings_given\" based on each \"property_id\" and \"room_category\"\n",
    "mean_checked_out = fact_bookings[\n",
    "    (fact_bookings['booking_status']=='checked out') &\n",
    "    (fact_bookings['ratings_given'].notnull())\n",
    "    ].groupby(['property_id','room_category']).agg(mean=('ratings_given','mean')).reset_index()\n",
    "\n",
    "# Loop through each row in the fact_bookings DataFrame\n",
    "for index, row in fact_bookings.iterrows():\n",
    "    # Check if ratings_given is null and booking_status is 'checked out'\n",
    "    if pd.isnull(row['ratings_given']) and row['booking_status'] == 'checked out':\n",
    "        # Extract the property_id and room_category from the current row\n",
    "        property_id = row['property_id']\n",
    "        room_category = row['room_category']\n",
    "        \n",
    "        # Search for the mean rating for the specific property_id and room_category\n",
    "        # in the mean_checked_out DataFrame (which contains the average ratings)\n",
    "        mean_value = mean_checked_out[\n",
    "            (mean_checked_out['property_id'] == property_id) & \n",
    "            (mean_checked_out['room_category'] == room_category)\n",
    "        ]['mean']\n",
    "        \n",
    "        # If a mean value is found, fill the null value in ratings_given with the rounded mean\n",
    "        if not mean_value.empty:\n",
    "            # Round the mean value to the nearest integer\n",
    "            rounded_value = round(mean_value.values[0])\n",
    "            # Update the ratings_given value for the current row in fact_bookings DataFrame\n",
    "            fact_bookings.at[index, 'ratings_given'] = rounded_value"
   ]
  },
  {
   "cell_type": "code",
   "execution_count": 212,
   "metadata": {},
   "outputs": [
    {
     "data": {
      "text/html": [
       "<div>\n",
       "<style scoped>\n",
       "    .dataframe tbody tr th:only-of-type {\n",
       "        vertical-align: middle;\n",
       "    }\n",
       "\n",
       "    .dataframe tbody tr th {\n",
       "        vertical-align: top;\n",
       "    }\n",
       "\n",
       "    .dataframe thead th {\n",
       "        text-align: right;\n",
       "    }\n",
       "</style>\n",
       "<table border=\"1\" class=\"dataframe\">\n",
       "  <thead>\n",
       "    <tr style=\"text-align: right;\">\n",
       "      <th></th>\n",
       "      <th>booking_id</th>\n",
       "      <th>property_id</th>\n",
       "      <th>booking_date</th>\n",
       "      <th>check_in_date</th>\n",
       "      <th>check_out_date</th>\n",
       "      <th>no_guests</th>\n",
       "      <th>room_category</th>\n",
       "      <th>booking_platform</th>\n",
       "      <th>ratings_given</th>\n",
       "      <th>booking_status</th>\n",
       "      <th>revenue_generated</th>\n",
       "      <th>revenue_realized</th>\n",
       "    </tr>\n",
       "  </thead>\n",
       "  <tbody>\n",
       "    <tr>\n",
       "      <th>8</th>\n",
       "      <td>may012216558rt19</td>\n",
       "      <td>16558</td>\n",
       "      <td>2022-04-30</td>\n",
       "      <td>2022-05-01</td>\n",
       "      <td>2022-05-02</td>\n",
       "      <td>2</td>\n",
       "      <td>rt1</td>\n",
       "      <td>tripster</td>\n",
       "      <td>4.0</td>\n",
       "      <td>checked out</td>\n",
       "      <td>9100</td>\n",
       "      <td>9100</td>\n",
       "    </tr>\n",
       "    <tr>\n",
       "      <th>14</th>\n",
       "      <td>may012216558rt115</td>\n",
       "      <td>16558</td>\n",
       "      <td>2022-04-29</td>\n",
       "      <td>2022-05-01</td>\n",
       "      <td>2022-05-02</td>\n",
       "      <td>2</td>\n",
       "      <td>rt1</td>\n",
       "      <td>others</td>\n",
       "      <td>4.0</td>\n",
       "      <td>checked out</td>\n",
       "      <td>9100</td>\n",
       "      <td>9100</td>\n",
       "    </tr>\n",
       "    <tr>\n",
       "      <th>15</th>\n",
       "      <td>may012216558rt116</td>\n",
       "      <td>16558</td>\n",
       "      <td>2022-04-27</td>\n",
       "      <td>2022-05-01</td>\n",
       "      <td>2022-05-03</td>\n",
       "      <td>4</td>\n",
       "      <td>rt1</td>\n",
       "      <td>journey</td>\n",
       "      <td>4.0</td>\n",
       "      <td>checked out</td>\n",
       "      <td>10920</td>\n",
       "      <td>10920</td>\n",
       "    </tr>\n",
       "    <tr>\n",
       "      <th>16</th>\n",
       "      <td>may012216558rt117</td>\n",
       "      <td>16558</td>\n",
       "      <td>2022-04-29</td>\n",
       "      <td>2022-05-01</td>\n",
       "      <td>2022-05-02</td>\n",
       "      <td>3</td>\n",
       "      <td>rt1</td>\n",
       "      <td>direct offline</td>\n",
       "      <td>4.0</td>\n",
       "      <td>checked out</td>\n",
       "      <td>10010</td>\n",
       "      <td>10010</td>\n",
       "    </tr>\n",
       "    <tr>\n",
       "      <th>17</th>\n",
       "      <td>may012216558rt118</td>\n",
       "      <td>16558</td>\n",
       "      <td>2022-04-27</td>\n",
       "      <td>2022-05-01</td>\n",
       "      <td>2022-05-02</td>\n",
       "      <td>2</td>\n",
       "      <td>rt1</td>\n",
       "      <td>others</td>\n",
       "      <td>4.0</td>\n",
       "      <td>checked out</td>\n",
       "      <td>9100</td>\n",
       "      <td>9100</td>\n",
       "    </tr>\n",
       "    <tr>\n",
       "      <th>...</th>\n",
       "      <td>...</td>\n",
       "      <td>...</td>\n",
       "      <td>...</td>\n",
       "      <td>...</td>\n",
       "      <td>...</td>\n",
       "      <td>...</td>\n",
       "      <td>...</td>\n",
       "      <td>...</td>\n",
       "      <td>...</td>\n",
       "      <td>...</td>\n",
       "      <td>...</td>\n",
       "      <td>...</td>\n",
       "    </tr>\n",
       "    <tr>\n",
       "      <th>134571</th>\n",
       "      <td>jul312217564rt33</td>\n",
       "      <td>17564</td>\n",
       "      <td>2022-07-30</td>\n",
       "      <td>2022-07-31</td>\n",
       "      <td>2022-08-04</td>\n",
       "      <td>3</td>\n",
       "      <td>rt3</td>\n",
       "      <td>direct online</td>\n",
       "      <td>2.0</td>\n",
       "      <td>checked out</td>\n",
       "      <td>22440</td>\n",
       "      <td>22440</td>\n",
       "    </tr>\n",
       "    <tr>\n",
       "      <th>134574</th>\n",
       "      <td>jul312217564rt36</td>\n",
       "      <td>17564</td>\n",
       "      <td>2022-07-31</td>\n",
       "      <td>2022-07-31</td>\n",
       "      <td>2022-08-01</td>\n",
       "      <td>1</td>\n",
       "      <td>rt3</td>\n",
       "      <td>others</td>\n",
       "      <td>2.0</td>\n",
       "      <td>checked out</td>\n",
       "      <td>20400</td>\n",
       "      <td>20400</td>\n",
       "    </tr>\n",
       "    <tr>\n",
       "      <th>134576</th>\n",
       "      <td>jul312217564rt38</td>\n",
       "      <td>17564</td>\n",
       "      <td>2022-07-30</td>\n",
       "      <td>2022-07-31</td>\n",
       "      <td>2022-08-04</td>\n",
       "      <td>1</td>\n",
       "      <td>rt3</td>\n",
       "      <td>others</td>\n",
       "      <td>2.0</td>\n",
       "      <td>checked out</td>\n",
       "      <td>20400</td>\n",
       "      <td>20400</td>\n",
       "    </tr>\n",
       "    <tr>\n",
       "      <th>134579</th>\n",
       "      <td>jul312217564rt311</td>\n",
       "      <td>17564</td>\n",
       "      <td>2022-07-30</td>\n",
       "      <td>2022-07-31</td>\n",
       "      <td>2022-08-02</td>\n",
       "      <td>2</td>\n",
       "      <td>rt3</td>\n",
       "      <td>others</td>\n",
       "      <td>2.0</td>\n",
       "      <td>checked out</td>\n",
       "      <td>20400</td>\n",
       "      <td>20400</td>\n",
       "    </tr>\n",
       "    <tr>\n",
       "      <th>134580</th>\n",
       "      <td>jul312217564rt41</td>\n",
       "      <td>17564</td>\n",
       "      <td>2022-07-31</td>\n",
       "      <td>2022-07-31</td>\n",
       "      <td>2022-08-02</td>\n",
       "      <td>1</td>\n",
       "      <td>rt4</td>\n",
       "      <td>direct online</td>\n",
       "      <td>2.0</td>\n",
       "      <td>checked out</td>\n",
       "      <td>32300</td>\n",
       "      <td>32300</td>\n",
       "    </tr>\n",
       "  </tbody>\n",
       "</table>\n",
       "<p>37728 rows × 12 columns</p>\n",
       "</div>"
      ],
      "text/plain": [
       "               booking_id  property_id booking_date check_in_date  \\\n",
       "8        may012216558rt19        16558   2022-04-30    2022-05-01   \n",
       "14      may012216558rt115        16558   2022-04-29    2022-05-01   \n",
       "15      may012216558rt116        16558   2022-04-27    2022-05-01   \n",
       "16      may012216558rt117        16558   2022-04-29    2022-05-01   \n",
       "17      may012216558rt118        16558   2022-04-27    2022-05-01   \n",
       "...                   ...          ...          ...           ...   \n",
       "134571   jul312217564rt33        17564   2022-07-30    2022-07-31   \n",
       "134574   jul312217564rt36        17564   2022-07-31    2022-07-31   \n",
       "134576   jul312217564rt38        17564   2022-07-30    2022-07-31   \n",
       "134579  jul312217564rt311        17564   2022-07-30    2022-07-31   \n",
       "134580   jul312217564rt41        17564   2022-07-31    2022-07-31   \n",
       "\n",
       "       check_out_date  no_guests room_category booking_platform  \\\n",
       "8          2022-05-02          2           rt1         tripster   \n",
       "14         2022-05-02          2           rt1           others   \n",
       "15         2022-05-03          4           rt1          journey   \n",
       "16         2022-05-02          3           rt1   direct offline   \n",
       "17         2022-05-02          2           rt1           others   \n",
       "...               ...        ...           ...              ...   \n",
       "134571     2022-08-04          3           rt3    direct online   \n",
       "134574     2022-08-01          1           rt3           others   \n",
       "134576     2022-08-04          1           rt3           others   \n",
       "134579     2022-08-02          2           rt3           others   \n",
       "134580     2022-08-02          1           rt4    direct online   \n",
       "\n",
       "        ratings_given booking_status  revenue_generated  revenue_realized  \n",
       "8                 4.0    checked out               9100              9100  \n",
       "14                4.0    checked out               9100              9100  \n",
       "15                4.0    checked out              10920             10920  \n",
       "16                4.0    checked out              10010             10010  \n",
       "17                4.0    checked out               9100              9100  \n",
       "...               ...            ...                ...               ...  \n",
       "134571            2.0    checked out              22440             22440  \n",
       "134574            2.0    checked out              20400             20400  \n",
       "134576            2.0    checked out              20400             20400  \n",
       "134579            2.0    checked out              20400             20400  \n",
       "134580            2.0    checked out              32300             32300  \n",
       "\n",
       "[37728 rows x 12 columns]"
      ]
     },
     "execution_count": 212,
     "metadata": {},
     "output_type": "execute_result"
    }
   ],
   "source": [
    "# display null values\n",
    "null_checked_out\n",
    "fact_bookings.loc[null_checked_out, ]"
   ]
  },
  {
   "cell_type": "markdown",
   "metadata": {},
   "source": [
    "#### Check Duplicate Values"
   ]
  },
  {
   "cell_type": "code",
   "execution_count": 213,
   "metadata": {},
   "outputs": [
    {
     "data": {
      "text/plain": [
       "0"
      ]
     },
     "execution_count": 213,
     "metadata": {},
     "output_type": "execute_result"
    }
   ],
   "source": [
    "# check for duplicates values\n",
    "fact_bookings.duplicated().sum()"
   ]
  },
  {
   "cell_type": "markdown",
   "metadata": {},
   "source": [
    "**Comment:**\n",
    "No duplicate values found in the columns, all entries are unique."
   ]
  },
  {
   "cell_type": "markdown",
   "metadata": {},
   "source": [
    "#### Check Unique Values"
   ]
  },
  {
   "cell_type": "code",
   "execution_count": 214,
   "metadata": {},
   "outputs": [
    {
     "data": {
      "text/plain": [
       "booking_id           134590\n",
       "property_id              25\n",
       "booking_date            116\n",
       "check_in_date            92\n",
       "check_out_date           97\n",
       "no_guests                 6\n",
       "room_category             4\n",
       "booking_platform          7\n",
       "ratings_given             6\n",
       "booking_status            3\n",
       "revenue_generated        62\n",
       "revenue_realized        124\n",
       "dtype: int64"
      ]
     },
     "execution_count": 214,
     "metadata": {},
     "output_type": "execute_result"
    }
   ],
   "source": [
    "# check for unique values\n",
    "fact_bookings.nunique()"
   ]
  },
  {
   "cell_type": "code",
   "execution_count": 215,
   "metadata": {},
   "outputs": [
    {
     "name": "stdout",
     "output_type": "stream",
     "text": [
      "The start booking date in fact_bookings df is 2022-04-07 00:00:00\n",
      "The end booking date in fact_bookings df is 2022-07-31 00:00:00\n",
      "No missing dates!\n"
     ]
    }
   ],
   "source": [
    "# Define the start and end date range\n",
    "fact_booking_min_date = fact_bookings['booking_date'].min()\n",
    "fact_booking_max_date = fact_bookings['booking_date'].max()\n",
    "\n",
    "print(f\"The start booking date in fact_bookings df is {fact_booking_min_date}\")\n",
    "print(f\"The end booking date in fact_bookings df is {fact_booking_max_date}\")\n",
    "\n",
    "\n",
    "# Create date range standards from min to max date\n",
    "fact_booking_date_range = pd.date_range(start=fact_booking_min_date, end=fact_booking_max_date)\n",
    "\n",
    "# find the missing date\n",
    "fact_booking_missing_dates = set(fact_booking_date_range) - set(fact_bookings['booking_date'])\n",
    "\n",
    "# Kết quả\n",
    "if fact_booking_missing_dates:\n",
    "    print(f\"Missing dates: {sorted(fact_booking_missing_dates)}\")\n",
    "else:\n",
    "    print(\"No missing dates!\")"
   ]
  },
  {
   "cell_type": "code",
   "execution_count": 216,
   "metadata": {},
   "outputs": [
    {
     "name": "stdout",
     "output_type": "stream",
     "text": [
      "The start check in date in fact_bookings df is 2022-05-01 00:00:00\n",
      "The end check in date in fact_bookings df is 2022-07-31 00:00:00\n",
      "No missing dates!\n"
     ]
    }
   ],
   "source": [
    "# Define the start and end date range\n",
    "fact_check_in_min_date = fact_bookings['check_in_date'].min()\n",
    "fact_check_in_max_date = fact_bookings['check_in_date'].max()\n",
    "\n",
    "print(f\"The start check in date in fact_bookings df is {fact_check_in_min_date}\")\n",
    "print(f\"The end check in date in fact_bookings df is {fact_check_in_max_date}\")\n",
    "\n",
    "\n",
    "# Create date range standards from min to max date\n",
    "fact_check_in_date_range = pd.date_range(start=fact_check_in_min_date, end=fact_check_in_max_date)\n",
    "\n",
    "# find the missing date\n",
    "fact_check_in_missing_dates = set(fact_check_in_date_range) - set(fact_bookings['check_in_date'])\n",
    "\n",
    "# Kết quả\n",
    "if fact_check_in_missing_dates:\n",
    "    print(f\"Missing dates: {sorted(fact_check_in_missing_dates)}\")\n",
    "else:\n",
    "    print(\"No missing dates!\")"
   ]
  },
  {
   "cell_type": "code",
   "execution_count": 217,
   "metadata": {},
   "outputs": [
    {
     "name": "stdout",
     "output_type": "stream",
     "text": [
      "The start check out date in fact_bookings df is 2022-05-01 00:00:00\n",
      "The end check out date in fact_bookings df is 2022-07-31 00:00:00\n",
      "No missing dates!\n"
     ]
    }
   ],
   "source": [
    "# Define the start and end date range\n",
    "fact_check_out_min_date = fact_bookings['check_in_date'].min()\n",
    "fact_check_out_max_date = fact_bookings['check_in_date'].max()\n",
    "\n",
    "print(f\"The start check out date in fact_bookings df is {fact_check_out_min_date}\")\n",
    "print(f\"The end check out date in fact_bookings df is {fact_check_out_max_date}\")\n",
    "\n",
    "\n",
    "# Create date range standards from min to max date\n",
    "fact_check_out_date_range = pd.date_range(start=fact_check_out_min_date, end=fact_check_out_max_date)\n",
    "\n",
    "# find the missing date\n",
    "fact_check_out_missing_dates = set(fact_check_out_date_range) - set(fact_bookings['check_in_date'])\n",
    "\n",
    "# Kết quả\n",
    "if fact_check_out_missing_dates:\n",
    "    print(f\"Missing dates: {sorted(fact_check_out_missing_dates)}\")\n",
    "else:\n",
    "    print(\"No missing dates!\")"
   ]
  },
  {
   "cell_type": "code",
   "execution_count": 218,
   "metadata": {},
   "outputs": [
    {
     "name": "stdout",
     "output_type": "stream",
     "text": [
      "The number of unique values in the column is 6\n",
      "[3 2 4 1 6 5]\n"
     ]
    }
   ],
   "source": [
    "# check unique values in the column\n",
    "print(f\"The number of unique values in the column is {fact_bookings['no_guests'].unique().shape[0]}\")\n",
    "print(f\"{fact_bookings['no_guests'].unique()}\")"
   ]
  },
  {
   "cell_type": "code",
   "execution_count": 219,
   "metadata": {},
   "outputs": [
    {
     "name": "stdout",
     "output_type": "stream",
     "text": [
      "The number of unique values in the column is 7\n",
      "['direct online' 'others' 'logtrip' 'tripster' 'makeyourtrip' 'journey'\n",
      " 'direct offline']\n"
     ]
    }
   ],
   "source": [
    "# check unique values in the column\n",
    "print(f\"The number of unique values in the column is {fact_bookings['booking_platform'].unique().shape[0]}\")\n",
    "print(f\"{fact_bookings['booking_platform'].unique()}\")"
   ]
  },
  {
   "cell_type": "code",
   "execution_count": 220,
   "metadata": {},
   "outputs": [
    {
     "name": "stdout",
     "output_type": "stream",
     "text": [
      "The number of unique values in the column is 6\n",
      "[1. 0. 5. 4. 3. 2.]\n"
     ]
    }
   ],
   "source": [
    "# check unique values in the column\n",
    "print(f\"The number of unique values in the column is {fact_bookings['ratings_given'].unique().shape[0]}\")\n",
    "print(f\"{fact_bookings['ratings_given'].unique()}\")"
   ]
  },
  {
   "cell_type": "code",
   "execution_count": 221,
   "metadata": {},
   "outputs": [
    {
     "name": "stdout",
     "output_type": "stream",
     "text": [
      "The number of unique values in the column is 3\n",
      "['checked out' 'cancelled' 'no show']\n"
     ]
    }
   ],
   "source": [
    "# check unique values in the column\n",
    "print(f\"The number of unique values in the column is {fact_bookings['booking_status'].unique().shape[0]}\")\n",
    "print(f\"{fact_bookings['booking_status'].unique()}\")"
   ]
  },
  {
   "cell_type": "markdown",
   "metadata": {},
   "source": [
    "#### Check Foreign Key Columns"
   ]
  },
  {
   "cell_type": "code",
   "execution_count": 222,
   "metadata": {},
   "outputs": [
    {
     "name": "stdout",
     "output_type": "stream",
     "text": [
      "Total property in fact_aggregated_bookings: 134590\n",
      "The number of unique property in fact_aggregated_bookings: 25\n",
      "Total property in dim_hotels: 25\n",
      "The number of unique property in dim_hotels: 25\n",
      "------------------------------------------------------------\n",
      "Number of unique property IDs only in fact_bookings: 0\n",
      "set()\n",
      "------------------------------------------------------------\n",
      "Number of unique property IDs only in dim_hotels: 0\n",
      "set()\n"
     ]
    }
   ],
   "source": [
    "# Validate Data Completeness\n",
    "## Compare the number of property between the tables\n",
    "print(f\"Total property in fact_aggregated_bookings: {fact_bookings['property_id'].count()}\")\n",
    "print(f\"The number of unique property in fact_aggregated_bookings: {fact_bookings['property_id'].nunique()}\")\n",
    "\n",
    "print(f\"Total property in dim_hotels: {dim_hotels['property_id'].count()}\")\n",
    "print(f\"The number of unique property in dim_hotels: {dim_hotels['property_id'].nunique()}\")\n",
    "\n",
    "print(\"--\"*30)\n",
    "\n",
    "# Find property_id Present in One Table but Not in the Other\n",
    "# property_id in fact_bookings but not in dim_hotels\n",
    "property_only_fact_bookings = set(fact_bookings['property_id']) - set(dim_hotels['property_id'])\n",
    "print(f\"Number of unique property IDs only in fact_bookings: {len(property_only_fact_bookings)}\")\n",
    "print(f\"{property_only_fact_bookings}\")\n",
    "\n",
    "print(\"--\"*30)\n",
    "\n",
    "# property_id in dim_hotels but not in fact_aggregated_bookings\n",
    "property_only_dim_hotels = set(dim_hotels['property_id']) - set(fact_bookings['property_id'])\n",
    "print(f\"Number of unique property IDs only in dim_hotels: {len(property_only_dim_hotels)}\")\n",
    "print(f\"{property_only_dim_hotels}\")"
   ]
  },
  {
   "cell_type": "code",
   "execution_count": 223,
   "metadata": {},
   "outputs": [
    {
     "name": "stdout",
     "output_type": "stream",
     "text": [
      "Total room in fact_bookings: 134590\n",
      "The number of unique room in fact_bookings: 4\n",
      "------------------------------------------------------------\n",
      "Total room in dim_rooms: 4\n",
      "The number of unique room in dim_rooms: 4\n",
      "------------------------------------------------------------\n",
      "Number of unique room category only in fact_bookings: 0\n",
      "set()\n",
      "------------------------------------------------------------\n",
      "Number of unique room IDs only in dim_rooms: 0\n",
      "set()\n"
     ]
    }
   ],
   "source": [
    "# Validate Data Completeness\n",
    "## Compare the number of room between the tables\n",
    "print(f\"Total room in fact_bookings: {fact_bookings['room_category'].count()}\")\n",
    "print(f\"The number of unique room in fact_bookings: {fact_bookings['room_category'].nunique()}\")\n",
    "\n",
    "print(\"--\"*30)\n",
    "\n",
    "print(f\"Total room in dim_rooms: {dim_rooms['room_id'].count()}\")\n",
    "print(f\"The number of unique room in dim_rooms: {dim_rooms['room_id'].nunique()}\")\n",
    "\n",
    "print(\"--\"*30)\n",
    "\n",
    "# Find room_category (or room_id) Present in One Table but Not in the Other\n",
    "# room_category in fact_bookings but not in dim_rooms\n",
    "room_only_fact_bookings = set(fact_bookings['room_category']) - set(dim_rooms['room_id'])\n",
    "print(f\"Number of unique room category only in fact_bookings: {len(room_only_fact_bookings)}\")\n",
    "print(f\"{room_only_fact_bookings}\")\n",
    "\n",
    "print(\"--\"*30)\n",
    "\n",
    "# room_id in dim_rooms but not in fact_aggregated_bookings\n",
    "room_only_dim_rooms = set(dim_rooms['room_id']) - set(fact_bookings['room_category'])\n",
    "print(f\"Number of unique room IDs only in dim_rooms: {len(room_only_dim_rooms)}\")\n",
    "print(f\"{room_only_dim_rooms}\")"
   ]
  },
  {
   "cell_type": "markdown",
   "metadata": {},
   "source": [
    "#### Outlier Detection"
   ]
  },
  {
   "cell_type": "markdown",
   "metadata": {},
   "source": [
    "##### \"revenue_generated\" Column"
   ]
  },
  {
   "cell_type": "code",
   "execution_count": 224,
   "metadata": {},
   "outputs": [
    {
     "data": {
      "image/png": "[encoded data removed]",
      "text/plain": [
       "<Figure size 1600x600 with 2 Axes>"
      ]
     },
     "metadata": {},
     "output_type": "display_data"
    },
    {
     "name": "stdout",
     "output_type": "stream",
     "text": [
      "The Skew of Sold Quantity Data is: 1.38\n"
     ]
    }
   ],
   "source": [
    "# Create a BoxPlot and HistPlot to visualize distribution of 'ev_sold' and detect any outliers\n",
    "# set the size of chart\n",
    "plt.figure(figsize=(16,6))\n",
    "# first subplot by box plot\n",
    "plt.subplot(1,2,1)\n",
    "plt.grid()\n",
    "sns.boxplot(data=fact_bookings, x='revenue_generated', color='#DC5F00')\n",
    "plt.title(\"Distribution by BoxPlot\")\n",
    "# second subplot by hist plot\n",
    "plt.subplot(1,2,2)\n",
    "plt.grid()\n",
    "sns.histplot(data=fact_bookings, x='revenue_generated', color='#DC5F00')\n",
    "plt.title(\"Distribution by HistPlot\")\n",
    "# Display the chart\n",
    "plt.show()\n",
    "# Check the skewness of data in the \"ev_sold\" column\n",
    "print(f\"The Skew of Sold Quantity Data is: {round(fact_bookings['revenue_generated'].skew(), 2)}\")"
   ]
  },
  {
   "cell_type": "markdown",
   "metadata": {},
   "source": [
    "**Comment:**\n",
    "The data shows a skew of 1.38, indicating a slightly skewed but acceptable distribution. So the data is considered suitable for further analysis."
   ]
  },
  {
   "cell_type": "code",
   "execution_count": 225,
   "metadata": {},
   "outputs": [
    {
     "name": "stdout",
     "output_type": "stream",
     "text": [
      "lower bound is -2250.0\n",
      "upper bound is 30150.0\n",
      "total row is 134590\n",
      "outlier row is 6284\n",
      "percentage of revenue realized that are outliers is 4.67%\n"
     ]
    }
   ],
   "source": [
    "# check the outliers, find out the upper bound and lower bound of the \"successful_bookings\" column\n",
    "bounds_revenue_generated = check_outlier(fact_bookings, 'revenue_generated')\n",
    "# print out the required information\n",
    "print(f\"lower bound is {bounds_revenue_generated['lower_bound'].values[0]}\")\n",
    "print(f\"upper bound is {bounds_revenue_generated['upper_bound'].values[0]}\")\n",
    "print(f\"total row is {bounds_revenue_generated['total_row'].values[0]}\")\n",
    "print(f\"outlier row is {bounds_revenue_generated['outlier_row'].values[0]}\")\n",
    "print(f\"percentage of revenue realized that are outliers is {bounds_revenue_generated['outliers_pct'].values[0]}%\")"
   ]
  },
  {
   "cell_type": "code",
   "execution_count": 226,
   "metadata": {},
   "outputs": [],
   "source": [
    "# filter rows with revenue_generated greater than upper bound of revenue generated\n",
    "outliers_rev_generated = fact_bookings[fact_bookings['revenue_generated']>bounds_revenue_generated['upper_bound'].values[0]]\n",
    "# Merge outliers_rev_generated with dim_hotels table to get more property details\n",
    "outliers_property_rev_generated= outliers_rev_generated.merge(dim_hotels, how='left', on='property_id', validate='many_to_one')\n",
    "# merge outliers_property_successful_bookings with dim_rooms tables to get more room details\n",
    "outliers_full_rev_generated = pd.merge(\n",
    "                                        outliers_property_rev_generated,\n",
    "                                        dim_rooms,\n",
    "                                        left_on='room_category',\n",
    "                                        right_on='room_id',\n",
    "                                        validate='many_to_one'\n",
    ").drop(columns=['room_id','room_category'])\n",
    "# Extract the week number from the 'check_in_date' column and format it as \"w_week_number\"\n",
    "outliers_full_rev_generated['week_no'] = outliers_full_rev_generated['booking_date'].dt.isocalendar().week.apply(lambda x: f\"w_{x}\")\n",
    "# Extract the day type from the 'check_in_date' column\n",
    "outliers_full_rev_generated['day_type'] = outliers_full_rev_generated['booking_date'].dt.dayofweek.apply(lambda x: 'weekend' if x >= 5 else 'weekdays')"
   ]
  },
  {
   "cell_type": "markdown",
   "metadata": {},
   "source": [
    "**Notice:**\n",
    "BY CITY"
   ]
  },
  {
   "cell_type": "code",
   "execution_count": 227,
   "metadata": {},
   "outputs": [
    {
     "name": "stdout",
     "output_type": "stream",
     "text": [
      "The number of revenue_generated Outliers for city: mumbai is  5242\n",
      "The number of revenue_generated Outliers for city: delhi is  345\n",
      "The number of revenue_generated Outliers for city: bangalore is  697\n"
     ]
    }
   ],
   "source": [
    "# count the outlier sold quantity values in each division\n",
    "for i in outliers_full_rev_generated['city'].unique():\n",
    "    print(\"The number of revenue_generated Outliers for city:\", i, \"is \",\n",
    "          str(outliers_full_rev_generated[outliers_full_rev_generated['city']==i]['city'].count())\n",
    "          )"
   ]
  },
  {
   "cell_type": "markdown",
   "metadata": {},
   "source": [
    "**Notice:**\n",
    "BY CATEGORY"
   ]
  },
  {
   "cell_type": "code",
   "execution_count": 228,
   "metadata": {},
   "outputs": [
    {
     "name": "stdout",
     "output_type": "stream",
     "text": [
      "The number of revenue_generated Outliers for category: luxury is  3418\n",
      "The number of revenue_generated Outliers for category: business is  2866\n"
     ]
    }
   ],
   "source": [
    "for i in outliers_full_rev_generated['category'].unique():\n",
    "    print(\"The number of revenue_generated Outliers for category:\", i, \"is \",\n",
    "          str(outliers_full_rev_generated[outliers_full_rev_generated['category']==i]['category'].count())\n",
    "          )"
   ]
  },
  {
   "cell_type": "markdown",
   "metadata": {},
   "source": [
    "**Notice:**\n",
    "BY PROPERTY NAME"
   ]
  },
  {
   "cell_type": "code",
   "execution_count": 229,
   "metadata": {},
   "outputs": [
    {
     "name": "stdout",
     "output_type": "stream",
     "text": [
      "The number of revenue_generated Outliers for property name: atliq exotica is  2000\n",
      "The number of revenue_generated Outliers for property name: atliq city is  839\n",
      "The number of revenue_generated Outliers for property name: atliq blu is  465\n",
      "The number of revenue_generated Outliers for property name: atliq bay is  544\n",
      "The number of revenue_generated Outliers for property name: atliq palace is  1338\n",
      "The number of revenue_generated Outliers for property name: atliq grands is  409\n",
      "The number of revenue_generated Outliers for property name: atliq seasons is  689\n"
     ]
    }
   ],
   "source": [
    "for i in outliers_full_rev_generated['property_name'].unique():\n",
    "    print(\"The number of revenue_generated Outliers for property name:\", i, \"is \",\n",
    "          str(outliers_full_rev_generated[outliers_full_rev_generated['property_name']==i]['property_name'].count())\n",
    "          )"
   ]
  },
  {
   "cell_type": "markdown",
   "metadata": {},
   "source": [
    "**Notice:**\n",
    "BY ROOM CLASS"
   ]
  },
  {
   "cell_type": "code",
   "execution_count": 230,
   "metadata": {},
   "outputs": [
    {
     "name": "stdout",
     "output_type": "stream",
     "text": [
      "The number of revenue_generated Outliers for property name: presidential is  6284\n"
     ]
    }
   ],
   "source": [
    "for i in outliers_full_rev_generated['room_class'].unique():\n",
    "    print(\"The number of revenue_generated Outliers for property name:\", i, \"is \",\n",
    "          str(outliers_full_rev_generated[outliers_full_rev_generated['room_class']==i]['room_class'].count())\n",
    "          )"
   ]
  },
  {
   "cell_type": "markdown",
   "metadata": {},
   "source": [
    "**Notice:**\n",
    "BY PROPERTY OVERVIEW"
   ]
  },
  {
   "cell_type": "code",
   "execution_count": 231,
   "metadata": {},
   "outputs": [
    {
     "data": {
      "text/html": [
       "<div>\n",
       "<style scoped>\n",
       "    .dataframe tbody tr th:only-of-type {\n",
       "        vertical-align: middle;\n",
       "    }\n",
       "\n",
       "    .dataframe tbody tr th {\n",
       "        vertical-align: top;\n",
       "    }\n",
       "\n",
       "    .dataframe thead th {\n",
       "        text-align: right;\n",
       "    }\n",
       "</style>\n",
       "<table border=\"1\" class=\"dataframe\">\n",
       "  <thead>\n",
       "    <tr style=\"text-align: right;\">\n",
       "      <th></th>\n",
       "      <th>city</th>\n",
       "      <th>category</th>\n",
       "      <th>property_name</th>\n",
       "      <th>room_class</th>\n",
       "      <th>count</th>\n",
       "    </tr>\n",
       "  </thead>\n",
       "  <tbody>\n",
       "    <tr>\n",
       "      <th>0</th>\n",
       "      <td>bangalore</td>\n",
       "      <td>business</td>\n",
       "      <td>atliq city</td>\n",
       "      <td>presidential</td>\n",
       "      <td>176</td>\n",
       "    </tr>\n",
       "    <tr>\n",
       "      <th>1</th>\n",
       "      <td>bangalore</td>\n",
       "      <td>business</td>\n",
       "      <td>atliq palace</td>\n",
       "      <td>presidential</td>\n",
       "      <td>46</td>\n",
       "    </tr>\n",
       "    <tr>\n",
       "      <th>2</th>\n",
       "      <td>bangalore</td>\n",
       "      <td>luxury</td>\n",
       "      <td>atliq bay</td>\n",
       "      <td>presidential</td>\n",
       "      <td>239</td>\n",
       "    </tr>\n",
       "    <tr>\n",
       "      <th>3</th>\n",
       "      <td>bangalore</td>\n",
       "      <td>luxury</td>\n",
       "      <td>atliq blu</td>\n",
       "      <td>presidential</td>\n",
       "      <td>101</td>\n",
       "    </tr>\n",
       "    <tr>\n",
       "      <th>4</th>\n",
       "      <td>bangalore</td>\n",
       "      <td>luxury</td>\n",
       "      <td>atliq exotica</td>\n",
       "      <td>presidential</td>\n",
       "      <td>52</td>\n",
       "    </tr>\n",
       "    <tr>\n",
       "      <th>5</th>\n",
       "      <td>bangalore</td>\n",
       "      <td>luxury</td>\n",
       "      <td>atliq grands</td>\n",
       "      <td>presidential</td>\n",
       "      <td>83</td>\n",
       "    </tr>\n",
       "    <tr>\n",
       "      <th>6</th>\n",
       "      <td>delhi</td>\n",
       "      <td>business</td>\n",
       "      <td>atliq city</td>\n",
       "      <td>presidential</td>\n",
       "      <td>43</td>\n",
       "    </tr>\n",
       "    <tr>\n",
       "      <th>7</th>\n",
       "      <td>delhi</td>\n",
       "      <td>business</td>\n",
       "      <td>atliq palace</td>\n",
       "      <td>presidential</td>\n",
       "      <td>152</td>\n",
       "    </tr>\n",
       "    <tr>\n",
       "      <th>8</th>\n",
       "      <td>delhi</td>\n",
       "      <td>luxury</td>\n",
       "      <td>atliq bay</td>\n",
       "      <td>presidential</td>\n",
       "      <td>42</td>\n",
       "    </tr>\n",
       "    <tr>\n",
       "      <th>9</th>\n",
       "      <td>delhi</td>\n",
       "      <td>luxury</td>\n",
       "      <td>atliq blu</td>\n",
       "      <td>presidential</td>\n",
       "      <td>86</td>\n",
       "    </tr>\n",
       "    <tr>\n",
       "      <th>10</th>\n",
       "      <td>delhi</td>\n",
       "      <td>luxury</td>\n",
       "      <td>atliq grands</td>\n",
       "      <td>presidential</td>\n",
       "      <td>22</td>\n",
       "    </tr>\n",
       "    <tr>\n",
       "      <th>11</th>\n",
       "      <td>mumbai</td>\n",
       "      <td>business</td>\n",
       "      <td>atliq city</td>\n",
       "      <td>presidential</td>\n",
       "      <td>620</td>\n",
       "    </tr>\n",
       "    <tr>\n",
       "      <th>12</th>\n",
       "      <td>mumbai</td>\n",
       "      <td>business</td>\n",
       "      <td>atliq palace</td>\n",
       "      <td>presidential</td>\n",
       "      <td>1140</td>\n",
       "    </tr>\n",
       "    <tr>\n",
       "      <th>13</th>\n",
       "      <td>mumbai</td>\n",
       "      <td>business</td>\n",
       "      <td>atliq seasons</td>\n",
       "      <td>presidential</td>\n",
       "      <td>689</td>\n",
       "    </tr>\n",
       "    <tr>\n",
       "      <th>14</th>\n",
       "      <td>mumbai</td>\n",
       "      <td>luxury</td>\n",
       "      <td>atliq bay</td>\n",
       "      <td>presidential</td>\n",
       "      <td>263</td>\n",
       "    </tr>\n",
       "    <tr>\n",
       "      <th>15</th>\n",
       "      <td>mumbai</td>\n",
       "      <td>luxury</td>\n",
       "      <td>atliq blu</td>\n",
       "      <td>presidential</td>\n",
       "      <td>278</td>\n",
       "    </tr>\n",
       "    <tr>\n",
       "      <th>16</th>\n",
       "      <td>mumbai</td>\n",
       "      <td>luxury</td>\n",
       "      <td>atliq exotica</td>\n",
       "      <td>presidential</td>\n",
       "      <td>1948</td>\n",
       "    </tr>\n",
       "    <tr>\n",
       "      <th>17</th>\n",
       "      <td>mumbai</td>\n",
       "      <td>luxury</td>\n",
       "      <td>atliq grands</td>\n",
       "      <td>presidential</td>\n",
       "      <td>304</td>\n",
       "    </tr>\n",
       "  </tbody>\n",
       "</table>\n",
       "</div>"
      ],
      "text/plain": [
       "         city  category  property_name    room_class  count\n",
       "0   bangalore  business     atliq city  presidential    176\n",
       "1   bangalore  business   atliq palace  presidential     46\n",
       "2   bangalore    luxury      atliq bay  presidential    239\n",
       "3   bangalore    luxury      atliq blu  presidential    101\n",
       "4   bangalore    luxury  atliq exotica  presidential     52\n",
       "5   bangalore    luxury   atliq grands  presidential     83\n",
       "6       delhi  business     atliq city  presidential     43\n",
       "7       delhi  business   atliq palace  presidential    152\n",
       "8       delhi    luxury      atliq bay  presidential     42\n",
       "9       delhi    luxury      atliq blu  presidential     86\n",
       "10      delhi    luxury   atliq grands  presidential     22\n",
       "11     mumbai  business     atliq city  presidential    620\n",
       "12     mumbai  business   atliq palace  presidential   1140\n",
       "13     mumbai  business  atliq seasons  presidential    689\n",
       "14     mumbai    luxury      atliq bay  presidential    263\n",
       "15     mumbai    luxury      atliq blu  presidential    278\n",
       "16     mumbai    luxury  atliq exotica  presidential   1948\n",
       "17     mumbai    luxury   atliq grands  presidential    304"
      ]
     },
     "metadata": {},
     "output_type": "display_data"
    }
   ],
   "source": [
    "display(outliers_full_rev_generated.groupby(['city','category','property_name','room_class']).agg(count=('property_id','count')).reset_index())"
   ]
  },
  {
   "cell_type": "markdown",
   "metadata": {},
   "source": [
    "**Note:**\n",
    "BY NO GUESTS"
   ]
  },
  {
   "cell_type": "code",
   "execution_count": 232,
   "metadata": {},
   "outputs": [
    {
     "name": "stdout",
     "output_type": "stream",
     "text": [
      "The number of  revenue_generated outliers for no guests: 4 is  724\n",
      "The number of  revenue_generated outliers for no guests: 2 is  2190\n",
      "The number of  revenue_generated outliers for no guests: 6 is  340\n",
      "The number of  revenue_generated outliers for no guests: 3 is  854\n",
      "The number of  revenue_generated outliers for no guests: 5 is  312\n",
      "The number of  revenue_generated outliers for no guests: 1 is  1864\n"
     ]
    }
   ],
   "source": [
    "for i in outliers_full_rev_generated['no_guests'].unique():\n",
    "    print(\"The number of  revenue_generated outliers for no guests:\", i,\"is \",\n",
    "          str(outliers_full_rev_generated[outliers_full_rev_generated['no_guests']==i]['no_guests'].count())\n",
    "          )"
   ]
  },
  {
   "cell_type": "markdown",
   "metadata": {},
   "source": [
    "**Note:**\n",
    "BY PLATFORM"
   ]
  },
  {
   "cell_type": "code",
   "execution_count": 233,
   "metadata": {},
   "outputs": [
    {
     "name": "stdout",
     "output_type": "stream",
     "text": [
      "The number of revenue_generated outliers for bookings platform: others is 2541\n",
      "The number of revenue_generated outliers for bookings platform: direct offline is 329\n",
      "The number of revenue_generated outliers for bookings platform: tripster is 491\n",
      "The number of revenue_generated outliers for bookings platform: makeyourtrip is 1250\n",
      "The number of revenue_generated outliers for bookings platform: logtrip is 681\n",
      "The number of revenue_generated outliers for bookings platform: direct online is 609\n",
      "The number of revenue_generated outliers for bookings platform: journey is 383\n"
     ]
    }
   ],
   "source": [
    "for i in outliers_full_rev_generated['booking_platform'].unique():\n",
    "    print(\"The number of revenue_generated outliers for bookings platform:\", i, \"is\",\n",
    "          str(outliers_full_rev_generated[outliers_full_rev_generated['booking_platform']==i]['booking_platform'].count())\n",
    "          )"
   ]
  },
  {
   "cell_type": "markdown",
   "metadata": {},
   "source": [
    "**Note:**\n",
    "BY RATING GIVEN"
   ]
  },
  {
   "cell_type": "code",
   "execution_count": 234,
   "metadata": {},
   "outputs": [
    {
     "name": "stdout",
     "output_type": "stream",
     "text": [
      "The number of revenue generated outliers for ratings given: 4.0 is 1650\n",
      "The number of revenue generated outliers for ratings given: 0.0 is 1826\n",
      "The number of revenue generated outliers for ratings given: 3.0 is 934\n",
      "The number of revenue generated outliers for ratings given: 5.0 is 1055\n",
      "The number of revenue generated outliers for ratings given: 2.0 is 626\n",
      "The number of revenue generated outliers for ratings given: 1.0 is 193\n"
     ]
    }
   ],
   "source": [
    "for i in outliers_full_rev_generated['ratings_given'].unique():\n",
    "    print(\"The number of revenue generated outliers for ratings given:\",i ,\"is\",\n",
    "          str(outliers_full_rev_generated[outliers_full_rev_generated['ratings_given']==i]['ratings_given'].count())\n",
    "          )"
   ]
  },
  {
   "cell_type": "markdown",
   "metadata": {},
   "source": [
    "**Notice:**\n",
    "BY DAY TYPE"
   ]
  },
  {
   "cell_type": "code",
   "execution_count": 235,
   "metadata": {},
   "outputs": [
    {
     "name": "stdout",
     "output_type": "stream",
     "text": [
      "The number of successful_bookings Outliers for day type: weekdays is  4381\n",
      "The number of successful_bookings Outliers for day type: weekend is  1903\n"
     ]
    }
   ],
   "source": [
    "for i in outliers_full_rev_generated['day_type'].unique():\n",
    "    print(\"The number of successful_bookings Outliers for day type:\", i, \"is \",\n",
    "          str(outliers_full_rev_generated[outliers_full_rev_generated['day_type']==i]['day_type'].count())\n",
    "          )"
   ]
  },
  {
   "cell_type": "markdown",
   "metadata": {},
   "source": [
    "**Notice:**\n",
    "BY WEEK NO"
   ]
  },
  {
   "cell_type": "code",
   "execution_count": 236,
   "metadata": {},
   "outputs": [
    {
     "data": {
      "image/png": "[encoded data removed]",
      "text/plain": [
       "<Figure size 1000x600 with 1 Axes>"
      ]
     },
     "metadata": {},
     "output_type": "display_data"
    }
   ],
   "source": [
    "# number of outliers groupby week_no\n",
    "data_for_present = outliers_full_rev_generated.groupby('week_no').agg(\n",
    "    count=('property_id', 'count')\n",
    ").reset_index()\n",
    "\n",
    "# set figure size\n",
    "plt.figure(figsize=(10, 6))\n",
    "\n",
    "# plot line chart\n",
    "sns.lineplot(data=data_for_present, x='week_no', y='count', color='#DC5F00', linestyle='dashed', marker='o')\n",
    "\n",
    "# optimize\n",
    "plt.title(\"Number of Outliers by Week\", fontsize=16)\n",
    "plt.xlabel(\"Week Number\", fontsize=12)\n",
    "plt.ylabel(\"Number of Outliers\", fontsize=12)\n",
    "plt.ylim(0, data_for_present['count'].max()*1.2) # increase the y limit to have more space for annotations\n",
    "\n",
    "# Add Annotate\n",
    "for x, y in zip(data_for_present['week_no'], data_for_present['count']):\n",
    "    plt.text(x, y + 1, f\"{y}\",\n",
    "            ha='center', va='bottom', fontsize=10,\n",
    "             )\n",
    "\n",
    "# adjust layout\n",
    "plt.tight_layout()\n",
    "\n",
    "# show the plot\n",
    "plt.show()"
   ]
  },
  {
   "cell_type": "markdown",
   "metadata": {},
   "source": [
    "##### \"revenue_realized\" Column"
   ]
  },
  {
   "cell_type": "code",
   "execution_count": 237,
   "metadata": {},
   "outputs": [
    {
     "data": {
      "image/png": "[encoded data removed]",
      "text/plain": [
       "<Figure size 1600x600 with 2 Axes>"
      ]
     },
     "metadata": {},
     "output_type": "display_data"
    },
    {
     "name": "stdout",
     "output_type": "stream",
     "text": [
      "The Skew of Sold Quantity Data is: 1.19\n"
     ]
    }
   ],
   "source": [
    "# Create a BoxPlot and HistPlot to visualize distribution of 'ev_sold' and detect any outliers\n",
    "# set the size of chart\n",
    "plt.figure(figsize=(16,6))\n",
    "# first subplot by box plot\n",
    "plt.subplot(1,2,1)\n",
    "plt.grid()\n",
    "sns.boxplot(data=fact_bookings, x='revenue_realized', color='#DC5F00')\n",
    "plt.title(\"Distribution by BoxPlot\")\n",
    "# second subplot by hist plot\n",
    "plt.subplot(1,2,2)\n",
    "plt.grid()\n",
    "sns.histplot(data=fact_bookings, x='revenue_realized', color='#DC5F00')\n",
    "plt.title(\"Distribution by HistPlot\")\n",
    "# Display the chart\n",
    "plt.show()\n",
    "# Check the skewness of data in the \"ev_sold\" column\n",
    "print(f\"The Skew of Sold Quantity Data is: {round(fact_bookings['revenue_realized'].skew(), 2)}\")"
   ]
  },
  {
   "cell_type": "markdown",
   "metadata": {},
   "source": [
    "**Comment:**\n",
    "The data shows a skew of 1.19, indicating a slightly skewed but acceptable distribution. So the data is considered suitable for further analysis."
   ]
  },
  {
   "cell_type": "code",
   "execution_count": 238,
   "metadata": {},
   "outputs": [
    {
     "name": "stdout",
     "output_type": "stream",
     "text": [
      "lower bound is -3950.0\n",
      "upper bound is 26850.0\n",
      "total row is 134590\n",
      "outlier row is 6845\n",
      "percentage of revenue realized that are outliers is 5.09%\n"
     ]
    }
   ],
   "source": [
    "# check the outliers, find out the upper bound and lower bound of the \"successful_bookings\" column\n",
    "bounds_revenue_realized = check_outlier(fact_bookings, 'revenue_realized')\n",
    "# print out the required information\n",
    "print(f\"lower bound is {bounds_revenue_realized['lower_bound'].values[0]}\")\n",
    "print(f\"upper bound is {bounds_revenue_realized['upper_bound'].values[0]}\")\n",
    "print(f\"total row is {bounds_revenue_realized['total_row'].values[0]}\")\n",
    "print(f\"outlier row is {bounds_revenue_realized['outlier_row'].values[0]}\")\n",
    "print(f\"percentage of revenue realized that are outliers is {bounds_revenue_realized['outliers_pct'].values[0]}%\")"
   ]
  },
  {
   "cell_type": "code",
   "execution_count": 239,
   "metadata": {},
   "outputs": [],
   "source": [
    "# filter rows with revenue_generated greater than upper bound of revenue generated\n",
    "outliers_rev_realized = fact_bookings[fact_bookings['revenue_realized']>bounds_revenue_realized['upper_bound'].values[0]]\n",
    "# Merge outliers_rev_generated with dim_hotels table to get more property details\n",
    "outliers_property_rev_realized = outliers_rev_realized.merge(dim_hotels, how='left', on='property_id', validate='many_to_one')\n",
    "# merge outliers_property_successful_bookings with dim_rooms tables to get more room details\n",
    "outliers_full_rev_realized = pd.merge(\n",
    "                                        outliers_property_rev_realized,\n",
    "                                        dim_rooms,\n",
    "                                        left_on='room_category',\n",
    "                                        right_on='room_id',\n",
    "                                        validate='many_to_one'\n",
    ").drop(columns=['room_id','room_category'])\n",
    "# Extract the week number from the 'check_in_date' column and format it as \"w_week_number\"\n",
    "outliers_full_rev_realized['week_no'] = outliers_full_rev_realized['booking_date'].dt.isocalendar().week.apply(lambda x: f\"w_{x}\")\n",
    "# Extract the day type from the 'check_in_date' column\n",
    "outliers_full_rev_realized['day_type'] = outliers_full_rev_realized['booking_date'].dt.dayofweek.apply(lambda x: 'weekend' if x >= 5 else 'weekdays')"
   ]
  },
  {
   "cell_type": "markdown",
   "metadata": {},
   "source": [
    "**Notice:**\n",
    "BY CITY"
   ]
  },
  {
   "cell_type": "code",
   "execution_count": 240,
   "metadata": {},
   "outputs": [
    {
     "name": "stdout",
     "output_type": "stream",
     "text": [
      "The number of revenue_realized Outliers for city: mumbai is  4206\n",
      "The number of revenue_realized Outliers for city: delhi is  446\n",
      "The number of revenue_realized Outliers for city: bangalore is  2193\n"
     ]
    }
   ],
   "source": [
    "# count the outlier sold quantity values in each division\n",
    "for i in outliers_full_rev_realized['city'].unique():\n",
    "    print(\"The number of revenue_realized Outliers for city:\", i, \"is \",\n",
    "          str(outliers_full_rev_realized[outliers_full_rev_realized['city']==i]['city'].count())\n",
    "          )"
   ]
  },
  {
   "cell_type": "markdown",
   "metadata": {},
   "source": [
    "**Notice:**\n",
    "BY CATEGORY"
   ]
  },
  {
   "cell_type": "code",
   "execution_count": 241,
   "metadata": {},
   "outputs": [
    {
     "name": "stdout",
     "output_type": "stream",
     "text": [
      "The number of revenue_realized Outliers for category: luxury is  3779\n",
      "The number of revenue_realized Outliers for category: business is  3066\n"
     ]
    }
   ],
   "source": [
    "for i in outliers_full_rev_realized['category'].unique():\n",
    "    print(\"The number of revenue_realized Outliers for category:\", i, \"is \",\n",
    "          str(outliers_full_rev_realized[outliers_full_rev_realized['category']==i]['category'].count())\n",
    "          )"
   ]
  },
  {
   "cell_type": "markdown",
   "metadata": {},
   "source": [
    "**Notice:**\n",
    "BY PROPERTY NAME"
   ]
  },
  {
   "cell_type": "code",
   "execution_count": 242,
   "metadata": {},
   "outputs": [
    {
     "name": "stdout",
     "output_type": "stream",
     "text": [
      "The number of revenue_realized Outliers for property name: atliq exotica is  1688\n",
      "The number of revenue_realized Outliers for property name: atliq grands is  525\n",
      "The number of revenue_realized Outliers for property name: atliq blu is  598\n",
      "The number of revenue_realized Outliers for property name: atliq palace is  1270\n",
      "The number of revenue_realized Outliers for property name: atliq bay is  968\n",
      "The number of revenue_realized Outliers for property name: atliq seasons is  551\n",
      "The number of revenue_realized Outliers for property name: atliq city is  1245\n"
     ]
    }
   ],
   "source": [
    "for i in outliers_full_rev_realized['property_name'].unique():\n",
    "    print(\"The number of revenue_realized Outliers for property name:\", i, \"is \",\n",
    "          str(outliers_full_rev_realized[outliers_full_rev_realized['property_name']==i]['property_name'].count())\n",
    "          )"
   ]
  },
  {
   "cell_type": "markdown",
   "metadata": {},
   "source": [
    "**Notice:**\n",
    "BY ROOM CLASS"
   ]
  },
  {
   "cell_type": "code",
   "execution_count": 243,
   "metadata": {},
   "outputs": [
    {
     "name": "stdout",
     "output_type": "stream",
     "text": [
      "The number of revenue_realized Outliers for property name: premium is  208\n",
      "The number of revenue_realized Outliers for property name: presidential is  6637\n"
     ]
    }
   ],
   "source": [
    "for i in outliers_full_rev_realized['room_class'].unique():\n",
    "    print(\"The number of revenue_realized Outliers for property name:\", i, \"is \",\n",
    "          str(outliers_full_rev_realized[outliers_full_rev_realized['room_class']==i]['room_class'].count())\n",
    "          )"
   ]
  },
  {
   "cell_type": "markdown",
   "metadata": {},
   "source": [
    "**Notice:**\n",
    "BY PROPERTY OVERVIEW"
   ]
  },
  {
   "cell_type": "code",
   "execution_count": 244,
   "metadata": {},
   "outputs": [
    {
     "data": {
      "text/html": [
       "<div>\n",
       "<style scoped>\n",
       "    .dataframe tbody tr th:only-of-type {\n",
       "        vertical-align: middle;\n",
       "    }\n",
       "\n",
       "    .dataframe tbody tr th {\n",
       "        vertical-align: top;\n",
       "    }\n",
       "\n",
       "    .dataframe thead th {\n",
       "        text-align: right;\n",
       "    }\n",
       "</style>\n",
       "<table border=\"1\" class=\"dataframe\">\n",
       "  <thead>\n",
       "    <tr style=\"text-align: right;\">\n",
       "      <th></th>\n",
       "      <th>city</th>\n",
       "      <th>category</th>\n",
       "      <th>property_name</th>\n",
       "      <th>room_class</th>\n",
       "      <th>count</th>\n",
       "    </tr>\n",
       "  </thead>\n",
       "  <tbody>\n",
       "    <tr>\n",
       "      <th>0</th>\n",
       "      <td>bangalore</td>\n",
       "      <td>business</td>\n",
       "      <td>atliq city</td>\n",
       "      <td>presidential</td>\n",
       "      <td>711</td>\n",
       "    </tr>\n",
       "    <tr>\n",
       "      <th>1</th>\n",
       "      <td>bangalore</td>\n",
       "      <td>business</td>\n",
       "      <td>atliq palace</td>\n",
       "      <td>presidential</td>\n",
       "      <td>225</td>\n",
       "    </tr>\n",
       "    <tr>\n",
       "      <th>2</th>\n",
       "      <td>bangalore</td>\n",
       "      <td>luxury</td>\n",
       "      <td>atliq bay</td>\n",
       "      <td>presidential</td>\n",
       "      <td>653</td>\n",
       "    </tr>\n",
       "    <tr>\n",
       "      <th>3</th>\n",
       "      <td>bangalore</td>\n",
       "      <td>luxury</td>\n",
       "      <td>atliq blu</td>\n",
       "      <td>presidential</td>\n",
       "      <td>247</td>\n",
       "    </tr>\n",
       "    <tr>\n",
       "      <th>4</th>\n",
       "      <td>bangalore</td>\n",
       "      <td>luxury</td>\n",
       "      <td>atliq exotica</td>\n",
       "      <td>presidential</td>\n",
       "      <td>120</td>\n",
       "    </tr>\n",
       "    <tr>\n",
       "      <th>5</th>\n",
       "      <td>bangalore</td>\n",
       "      <td>luxury</td>\n",
       "      <td>atliq grands</td>\n",
       "      <td>presidential</td>\n",
       "      <td>237</td>\n",
       "    </tr>\n",
       "    <tr>\n",
       "      <th>6</th>\n",
       "      <td>delhi</td>\n",
       "      <td>business</td>\n",
       "      <td>atliq city</td>\n",
       "      <td>presidential</td>\n",
       "      <td>53</td>\n",
       "    </tr>\n",
       "    <tr>\n",
       "      <th>7</th>\n",
       "      <td>delhi</td>\n",
       "      <td>business</td>\n",
       "      <td>atliq palace</td>\n",
       "      <td>presidential</td>\n",
       "      <td>150</td>\n",
       "    </tr>\n",
       "    <tr>\n",
       "      <th>8</th>\n",
       "      <td>delhi</td>\n",
       "      <td>luxury</td>\n",
       "      <td>atliq bay</td>\n",
       "      <td>presidential</td>\n",
       "      <td>82</td>\n",
       "    </tr>\n",
       "    <tr>\n",
       "      <th>9</th>\n",
       "      <td>delhi</td>\n",
       "      <td>luxury</td>\n",
       "      <td>atliq blu</td>\n",
       "      <td>presidential</td>\n",
       "      <td>117</td>\n",
       "    </tr>\n",
       "    <tr>\n",
       "      <th>10</th>\n",
       "      <td>delhi</td>\n",
       "      <td>luxury</td>\n",
       "      <td>atliq grands</td>\n",
       "      <td>presidential</td>\n",
       "      <td>44</td>\n",
       "    </tr>\n",
       "    <tr>\n",
       "      <th>11</th>\n",
       "      <td>mumbai</td>\n",
       "      <td>business</td>\n",
       "      <td>atliq city</td>\n",
       "      <td>premium</td>\n",
       "      <td>21</td>\n",
       "    </tr>\n",
       "    <tr>\n",
       "      <th>12</th>\n",
       "      <td>mumbai</td>\n",
       "      <td>business</td>\n",
       "      <td>atliq city</td>\n",
       "      <td>presidential</td>\n",
       "      <td>460</td>\n",
       "    </tr>\n",
       "    <tr>\n",
       "      <th>13</th>\n",
       "      <td>mumbai</td>\n",
       "      <td>business</td>\n",
       "      <td>atliq palace</td>\n",
       "      <td>premium</td>\n",
       "      <td>15</td>\n",
       "    </tr>\n",
       "    <tr>\n",
       "      <th>14</th>\n",
       "      <td>mumbai</td>\n",
       "      <td>business</td>\n",
       "      <td>atliq palace</td>\n",
       "      <td>presidential</td>\n",
       "      <td>880</td>\n",
       "    </tr>\n",
       "    <tr>\n",
       "      <th>15</th>\n",
       "      <td>mumbai</td>\n",
       "      <td>business</td>\n",
       "      <td>atliq seasons</td>\n",
       "      <td>premium</td>\n",
       "      <td>24</td>\n",
       "    </tr>\n",
       "    <tr>\n",
       "      <th>16</th>\n",
       "      <td>mumbai</td>\n",
       "      <td>business</td>\n",
       "      <td>atliq seasons</td>\n",
       "      <td>presidential</td>\n",
       "      <td>527</td>\n",
       "    </tr>\n",
       "    <tr>\n",
       "      <th>17</th>\n",
       "      <td>mumbai</td>\n",
       "      <td>luxury</td>\n",
       "      <td>atliq bay</td>\n",
       "      <td>premium</td>\n",
       "      <td>28</td>\n",
       "    </tr>\n",
       "    <tr>\n",
       "      <th>18</th>\n",
       "      <td>mumbai</td>\n",
       "      <td>luxury</td>\n",
       "      <td>atliq bay</td>\n",
       "      <td>presidential</td>\n",
       "      <td>205</td>\n",
       "    </tr>\n",
       "    <tr>\n",
       "      <th>19</th>\n",
       "      <td>mumbai</td>\n",
       "      <td>luxury</td>\n",
       "      <td>atliq blu</td>\n",
       "      <td>premium</td>\n",
       "      <td>29</td>\n",
       "    </tr>\n",
       "    <tr>\n",
       "      <th>20</th>\n",
       "      <td>mumbai</td>\n",
       "      <td>luxury</td>\n",
       "      <td>atliq blu</td>\n",
       "      <td>presidential</td>\n",
       "      <td>205</td>\n",
       "    </tr>\n",
       "    <tr>\n",
       "      <th>21</th>\n",
       "      <td>mumbai</td>\n",
       "      <td>luxury</td>\n",
       "      <td>atliq exotica</td>\n",
       "      <td>premium</td>\n",
       "      <td>76</td>\n",
       "    </tr>\n",
       "    <tr>\n",
       "      <th>22</th>\n",
       "      <td>mumbai</td>\n",
       "      <td>luxury</td>\n",
       "      <td>atliq exotica</td>\n",
       "      <td>presidential</td>\n",
       "      <td>1492</td>\n",
       "    </tr>\n",
       "    <tr>\n",
       "      <th>23</th>\n",
       "      <td>mumbai</td>\n",
       "      <td>luxury</td>\n",
       "      <td>atliq grands</td>\n",
       "      <td>premium</td>\n",
       "      <td>15</td>\n",
       "    </tr>\n",
       "    <tr>\n",
       "      <th>24</th>\n",
       "      <td>mumbai</td>\n",
       "      <td>luxury</td>\n",
       "      <td>atliq grands</td>\n",
       "      <td>presidential</td>\n",
       "      <td>229</td>\n",
       "    </tr>\n",
       "  </tbody>\n",
       "</table>\n",
       "</div>"
      ],
      "text/plain": [
       "         city  category  property_name    room_class  count\n",
       "0   bangalore  business     atliq city  presidential    711\n",
       "1   bangalore  business   atliq palace  presidential    225\n",
       "2   bangalore    luxury      atliq bay  presidential    653\n",
       "3   bangalore    luxury      atliq blu  presidential    247\n",
       "4   bangalore    luxury  atliq exotica  presidential    120\n",
       "5   bangalore    luxury   atliq grands  presidential    237\n",
       "6       delhi  business     atliq city  presidential     53\n",
       "7       delhi  business   atliq palace  presidential    150\n",
       "8       delhi    luxury      atliq bay  presidential     82\n",
       "9       delhi    luxury      atliq blu  presidential    117\n",
       "10      delhi    luxury   atliq grands  presidential     44\n",
       "11     mumbai  business     atliq city       premium     21\n",
       "12     mumbai  business     atliq city  presidential    460\n",
       "13     mumbai  business   atliq palace       premium     15\n",
       "14     mumbai  business   atliq palace  presidential    880\n",
       "15     mumbai  business  atliq seasons       premium     24\n",
       "16     mumbai  business  atliq seasons  presidential    527\n",
       "17     mumbai    luxury      atliq bay       premium     28\n",
       "18     mumbai    luxury      atliq bay  presidential    205\n",
       "19     mumbai    luxury      atliq blu       premium     29\n",
       "20     mumbai    luxury      atliq blu  presidential    205\n",
       "21     mumbai    luxury  atliq exotica       premium     76\n",
       "22     mumbai    luxury  atliq exotica  presidential   1492\n",
       "23     mumbai    luxury   atliq grands       premium     15\n",
       "24     mumbai    luxury   atliq grands  presidential    229"
      ]
     },
     "metadata": {},
     "output_type": "display_data"
    }
   ],
   "source": [
    "display(outliers_full_rev_realized.groupby(['city','category','property_name','room_class']).agg(count=('property_id','count')).reset_index())"
   ]
  },
  {
   "cell_type": "markdown",
   "metadata": {},
   "source": [
    "**Note:**\n",
    "BY NO GUESTS"
   ]
  },
  {
   "cell_type": "code",
   "execution_count": 245,
   "metadata": {},
   "outputs": [
    {
     "name": "stdout",
     "output_type": "stream",
     "text": [
      "The number of  revenue_realized outliers for no guests: 6 is  468\n",
      "The number of  revenue_realized outliers for no guests: 4 is  537\n",
      "The number of  revenue_realized outliers for no guests: 2 is  2582\n",
      "The number of  revenue_realized outliers for no guests: 3 is  846\n",
      "The number of  revenue_realized outliers for no guests: 5 is  225\n",
      "The number of  revenue_realized outliers for no guests: 1 is  2187\n"
     ]
    }
   ],
   "source": [
    "for i in outliers_full_rev_realized['no_guests'].unique():\n",
    "    print(\"The number of  revenue_realized outliers for no guests:\", i,\"is \",\n",
    "          str(outliers_full_rev_realized[outliers_full_rev_realized['no_guests']==i]['no_guests'].count())\n",
    "          )"
   ]
  },
  {
   "cell_type": "markdown",
   "metadata": {},
   "source": [
    "**Note:**\n",
    "BY PLATFORM"
   ]
  },
  {
   "cell_type": "code",
   "execution_count": 246,
   "metadata": {},
   "outputs": [
    {
     "name": "stdout",
     "output_type": "stream",
     "text": [
      "The number of revenue_realized outliers for bookings platform: direct online is 671\n",
      "The number of revenue_realized outliers for bookings platform: logtrip is 739\n",
      "The number of revenue_realized outliers for bookings platform: others is 2844\n",
      "The number of revenue_realized outliers for bookings platform: makeyourtrip is 1331\n",
      "The number of revenue_realized outliers for bookings platform: tripster is 506\n",
      "The number of revenue_realized outliers for bookings platform: direct offline is 358\n",
      "The number of revenue_realized outliers for bookings platform: journey is 396\n"
     ]
    }
   ],
   "source": [
    "for i in outliers_full_rev_realized['booking_platform'].unique():\n",
    "    print(\"The number of revenue_realized outliers for bookings platform:\", i, \"is\",\n",
    "          str(outliers_full_rev_realized[outliers_full_rev_realized['booking_platform']==i]['booking_platform'].count())\n",
    "          )"
   ]
  },
  {
   "cell_type": "markdown",
   "metadata": {},
   "source": [
    "**Note:**\n",
    "BY RATING GIVEN"
   ]
  },
  {
   "cell_type": "code",
   "execution_count": 247,
   "metadata": {},
   "outputs": [
    {
     "name": "stdout",
     "output_type": "stream",
     "text": [
      "The number of revenue_realized outliers for ratings given: 4.0 is 2341\n",
      "The number of revenue_realized outliers for ratings given: 3.0 is 1447\n",
      "The number of revenue_realized outliers for ratings given: 5.0 is 1514\n",
      "The number of revenue_realized outliers for ratings given: 1.0 is 267\n",
      "The number of revenue_realized outliers for ratings given: 2.0 is 824\n",
      "The number of revenue_realized outliers for ratings given: 0.0 is 452\n"
     ]
    }
   ],
   "source": [
    "for i in outliers_full_rev_realized['ratings_given'].unique():\n",
    "    print(\"The number of revenue_realized outliers for ratings given:\",i ,\"is\",\n",
    "          str(outliers_full_rev_realized[outliers_full_rev_realized['ratings_given']==i]['ratings_given'].count())\n",
    "          )"
   ]
  },
  {
   "cell_type": "markdown",
   "metadata": {},
   "source": [
    "**Notice:**\n",
    "BY DAY TYPE"
   ]
  },
  {
   "cell_type": "code",
   "execution_count": 248,
   "metadata": {},
   "outputs": [
    {
     "name": "stdout",
     "output_type": "stream",
     "text": [
      "The number of revenue_realized Outliers for day type: weekdays is  4804\n",
      "The number of revenue_realized Outliers for day type: weekend is  2041\n"
     ]
    }
   ],
   "source": [
    "for i in outliers_full_rev_realized['day_type'].unique():\n",
    "    print(\"The number of revenue_realized Outliers for day type:\", i, \"is \",\n",
    "          str(outliers_full_rev_realized[outliers_full_rev_realized['day_type']==i]['day_type'].count())\n",
    "          )"
   ]
  },
  {
   "cell_type": "markdown",
   "metadata": {},
   "source": [
    "**Notice:**\n",
    "BY CITY"
   ]
  },
  {
   "cell_type": "markdown",
   "metadata": {},
   "source": [
    "**Notice:**\n",
    "BY WEEK NO"
   ]
  },
  {
   "cell_type": "code",
   "execution_count": 249,
   "metadata": {},
   "outputs": [
    {
     "data": {
      "image/png": "[encoded data removed]",
      "text/plain": [
       "<Figure size 1000x600 with 1 Axes>"
      ]
     },
     "metadata": {},
     "output_type": "display_data"
    }
   ],
   "source": [
    "# number of outliers groupby week_no\n",
    "data_for_present = outliers_full_rev_realized.groupby('week_no').agg(\n",
    "    count=('property_id', 'count')\n",
    ").reset_index()\n",
    "\n",
    "# set figure size\n",
    "plt.figure(figsize=(10, 6))\n",
    "\n",
    "# plot line chart\n",
    "sns.lineplot(data=data_for_present, x='week_no', y='count', color='#DC5F00', linestyle='dashed', marker='o')\n",
    "\n",
    "# optimize\n",
    "plt.title(\"Number of Outliers by Week\", fontsize=16)\n",
    "plt.xlabel(\"Week Number\", fontsize=12)\n",
    "plt.ylabel(\"Number of Outliers\", fontsize=12)\n",
    "plt.ylim(0, data_for_present['count'].max()*1.2) # increase the y limit to have more space for annotations\n",
    "\n",
    "# Add Annotate\n",
    "for x, y in zip(data_for_present['week_no'], data_for_present['count']):\n",
    "    plt.text(x, y + 1, f\"{y}\",\n",
    "            ha='center', va='bottom', fontsize=10,\n",
    "             )\n",
    "\n",
    "# adjust layout\n",
    "plt.tight_layout()\n",
    "\n",
    "# show the plot\n",
    "plt.show()"
   ]
  },
  {
   "cell_type": "markdown",
   "metadata": {},
   "source": [
    "#### Data Validity Check: Revenue Generated and Revenue Realized"
   ]
  },
  {
   "cell_type": "code",
   "execution_count": 250,
   "metadata": {},
   "outputs": [
    {
     "name": "stdout",
     "output_type": "stream",
     "text": [
      "Empty DataFrame\n",
      "Columns: [booking_id, property_id, booking_date, check_in_date, check_out_date, no_guests, room_category, booking_platform, ratings_given, booking_status, revenue_generated, revenue_realized]\n",
      "Index: []\n",
      "Status: No invalid rows!\n"
     ]
    }
   ],
   "source": [
    "# check logical\n",
    "revenue_invalid_rows = fact_bookings[fact_bookings['revenue_generated']< fact_bookings['revenue_realized']]\n",
    "\n",
    "# display invalid row\n",
    "print(revenue_invalid_rows)\n",
    "\n",
    "# display overview\n",
    "if not revenue_invalid_rows.empty:\n",
    "    print(f\"Status: {len(revenue_invalid_rows)} rows that have number of revenue generated greater than revenue realized\")\n",
    "else:\n",
    "    print(\"Status: No invalid rows!\")"
   ]
  },
  {
   "cell_type": "markdown",
   "metadata": {},
   "source": [
    "#### Data Validity Check: Booking Date and Check in Date"
   ]
  },
  {
   "cell_type": "code",
   "execution_count": 251,
   "metadata": {},
   "outputs": [
    {
     "name": "stdout",
     "output_type": "stream",
     "text": [
      "Empty DataFrame\n",
      "Columns: [booking_id, property_id, booking_date, check_in_date, check_out_date, no_guests, room_category, booking_platform, ratings_given, booking_status, revenue_generated, revenue_realized]\n",
      "Index: []\n",
      "Status: No invalid rows!\n"
     ]
    }
   ],
   "source": [
    "# check logical\n",
    "book_check_in_invalid_rows = fact_bookings[fact_bookings['booking_date'] > fact_bookings['check_in_date']]\n",
    "\n",
    "# display invalid row\n",
    "print(book_check_in_invalid_rows)\n",
    "\n",
    "# display overview\n",
    "if not book_check_in_invalid_rows.empty:\n",
    "    print(f\"Status: {len(book_check_in_invalid_rows)} rows that have booking date greater than check date\")\n",
    "else:\n",
    "    print(\"Status: No invalid rows!\")"
   ]
  },
  {
   "cell_type": "markdown",
   "metadata": {},
   "source": [
    "#### Data Validity Check: Check in Date and Check out Date"
   ]
  },
  {
   "cell_type": "code",
   "execution_count": 252,
   "metadata": {},
   "outputs": [
    {
     "name": "stdout",
     "output_type": "stream",
     "text": [
      "Empty DataFrame\n",
      "Columns: [booking_id, property_id, booking_date, check_in_date, check_out_date, no_guests, room_category, booking_platform, ratings_given, booking_status, revenue_generated, revenue_realized]\n",
      "Index: []\n",
      "Status: No invalid rows!\n"
     ]
    }
   ],
   "source": [
    "# check logical\n",
    "check_in_out_invalid_rows = fact_bookings[fact_bookings['check_in_date'] > fact_bookings['check_out_date']]\n",
    "\n",
    "# display invalid row\n",
    "print(check_in_out_invalid_rows)\n",
    "\n",
    "# display overview\n",
    "if not check_in_out_invalid_rows.empty:\n",
    "    print(f\"Status: {len(check_in_out_invalid_rows)} rows that have check in date greater than check out date\")\n",
    "else:\n",
    "    print(\"Status: No invalid rows!\")"
   ]
  },
  {
   "cell_type": "markdown",
   "metadata": {},
   "source": [
    "#### Sort Data\n",
    "After cleaning your data, sorting is essential for easier analysis."
   ]
  },
  {
   "cell_type": "code",
   "execution_count": 253,
   "metadata": {},
   "outputs": [],
   "source": [
    "# Sort the DataFrame by the specified column\n",
    "fact_bookings = fact_bookings.sort_values(by=['booking_date','booking_id','check_in_date'], ascending=True).reset_index(drop=True)"
   ]
  },
  {
   "cell_type": "markdown",
   "metadata": {},
   "source": [
    "### \"dim_date\" DataFrame\n",
    "**Key Details**: This dataset contains the dates at daily, monthly level and week numbers of the year. There are 92 rows, 4 columns, and these variables: \n",
    "\n",
    "Variable    |   Description| \n",
    "-----|-----|\n",
    "date|This column represents the dates present in May, June and July.\n",
    "mmm yy|This column represents the date in the format of mmm yy (month_name year)\n",
    "week no|This column represents the unique week number for that particular date\n",
    "day_type|This column represents whether the given day is Weekend or Weekday."
   ]
  },
  {
   "cell_type": "markdown",
   "metadata": {},
   "source": [
    "#### Gather Basic Information About The Data"
   ]
  },
  {
   "cell_type": "code",
   "execution_count": 254,
   "metadata": {},
   "outputs": [
    {
     "name": "stdout",
     "output_type": "stream",
     "text": [
      "<class 'pandas.core.frame.DataFrame'>\n",
      "RangeIndex: 92 entries, 0 to 91\n",
      "Data columns (total 4 columns):\n",
      " #   Column    Non-Null Count  Dtype \n",
      "---  ------    --------------  ----- \n",
      " 0   date      92 non-null     object\n",
      " 1   mmm yy    92 non-null     object\n",
      " 2   week no   92 non-null     object\n",
      " 3   day_type  92 non-null     object\n",
      "dtypes: object(4)\n",
      "memory usage: 3.0+ KB\n"
     ]
    }
   ],
   "source": [
    "# gather basic information about the data\n",
    "dim_date.info()"
   ]
  },
  {
   "cell_type": "code",
   "execution_count": 255,
   "metadata": {},
   "outputs": [
    {
     "data": {
      "text/html": [
       "<div>\n",
       "<style scoped>\n",
       "    .dataframe tbody tr th:only-of-type {\n",
       "        vertical-align: middle;\n",
       "    }\n",
       "\n",
       "    .dataframe tbody tr th {\n",
       "        vertical-align: top;\n",
       "    }\n",
       "\n",
       "    .dataframe thead th {\n",
       "        text-align: right;\n",
       "    }\n",
       "</style>\n",
       "<table border=\"1\" class=\"dataframe\">\n",
       "  <thead>\n",
       "    <tr style=\"text-align: right;\">\n",
       "      <th></th>\n",
       "      <th>date</th>\n",
       "      <th>mmm yy</th>\n",
       "      <th>week no</th>\n",
       "      <th>day_type</th>\n",
       "    </tr>\n",
       "  </thead>\n",
       "  <tbody>\n",
       "    <tr>\n",
       "      <th>0</th>\n",
       "      <td>01-May-22</td>\n",
       "      <td>May 22</td>\n",
       "      <td>W 19</td>\n",
       "      <td>weekend</td>\n",
       "    </tr>\n",
       "  </tbody>\n",
       "</table>\n",
       "</div>"
      ],
      "text/plain": [
       "        date  mmm yy week no day_type\n",
       "0  01-May-22  May 22    W 19  weekend"
      ]
     },
     "execution_count": 255,
     "metadata": {},
     "output_type": "execute_result"
    }
   ],
   "source": [
    "# top record\n",
    "dim_date.head(1)"
   ]
  },
  {
   "cell_type": "code",
   "execution_count": 256,
   "metadata": {},
   "outputs": [
    {
     "data": {
      "text/html": [
       "<div>\n",
       "<style scoped>\n",
       "    .dataframe tbody tr th:only-of-type {\n",
       "        vertical-align: middle;\n",
       "    }\n",
       "\n",
       "    .dataframe tbody tr th {\n",
       "        vertical-align: top;\n",
       "    }\n",
       "\n",
       "    .dataframe thead th {\n",
       "        text-align: right;\n",
       "    }\n",
       "</style>\n",
       "<table border=\"1\" class=\"dataframe\">\n",
       "  <thead>\n",
       "    <tr style=\"text-align: right;\">\n",
       "      <th></th>\n",
       "      <th>date</th>\n",
       "      <th>mmm yy</th>\n",
       "      <th>week no</th>\n",
       "      <th>day_type</th>\n",
       "    </tr>\n",
       "  </thead>\n",
       "  <tbody>\n",
       "    <tr>\n",
       "      <th>91</th>\n",
       "      <td>31-Jul-22</td>\n",
       "      <td>Jul 22</td>\n",
       "      <td>W 32</td>\n",
       "      <td>weekend</td>\n",
       "    </tr>\n",
       "  </tbody>\n",
       "</table>\n",
       "</div>"
      ],
      "text/plain": [
       "         date  mmm yy week no day_type\n",
       "91  31-Jul-22  Jul 22    W 32  weekend"
      ]
     },
     "execution_count": 256,
     "metadata": {},
     "output_type": "execute_result"
    }
   ],
   "source": [
    "# last record\n",
    "dim_date.tail(1)"
   ]
  },
  {
   "cell_type": "markdown",
   "metadata": {},
   "source": [
    "#### Rename Columns"
   ]
  },
  {
   "cell_type": "code",
   "execution_count": 257,
   "metadata": {},
   "outputs": [
    {
     "data": {
      "text/plain": [
       "Index(['date', 'mmm yy', 'week no', 'day_type'], dtype='object')"
      ]
     },
     "execution_count": 257,
     "metadata": {},
     "output_type": "execute_result"
    }
   ],
   "source": [
    "# display all columns name\n",
    "dim_date.columns"
   ]
  },
  {
   "cell_type": "code",
   "execution_count": 258,
   "metadata": {},
   "outputs": [
    {
     "data": {
      "text/plain": [
       "Index(['date', 'mmm_yy', 'week_no', 'day_type'], dtype='object')"
      ]
     },
     "execution_count": 258,
     "metadata": {},
     "output_type": "execute_result"
    }
   ],
   "source": [
    "# Rename columns as needed\n",
    "dim_date.rename(columns={\n",
    "    'mmm yy':'mmm_yy',\n",
    "    'week no':'week_no'\n",
    "}, inplace=True)\n",
    "# Display all column names after the update\n",
    "dim_date.columns"
   ]
  },
  {
   "cell_type": "markdown",
   "metadata": {},
   "source": [
    "#### Gather Descriptive Statistics About The Data"
   ]
  },
  {
   "cell_type": "code",
   "execution_count": 259,
   "metadata": {},
   "outputs": [
    {
     "data": {
      "text/html": [
       "<div>\n",
       "<style scoped>\n",
       "    .dataframe tbody tr th:only-of-type {\n",
       "        vertical-align: middle;\n",
       "    }\n",
       "\n",
       "    .dataframe tbody tr th {\n",
       "        vertical-align: top;\n",
       "    }\n",
       "\n",
       "    .dataframe thead th {\n",
       "        text-align: right;\n",
       "    }\n",
       "</style>\n",
       "<table border=\"1\" class=\"dataframe\">\n",
       "  <thead>\n",
       "    <tr style=\"text-align: right;\">\n",
       "      <th></th>\n",
       "      <th>count</th>\n",
       "      <th>unique</th>\n",
       "      <th>top</th>\n",
       "      <th>freq</th>\n",
       "    </tr>\n",
       "  </thead>\n",
       "  <tbody>\n",
       "    <tr>\n",
       "      <th>date</th>\n",
       "      <td>92</td>\n",
       "      <td>92</td>\n",
       "      <td>01-May-22</td>\n",
       "      <td>1</td>\n",
       "    </tr>\n",
       "    <tr>\n",
       "      <th>mmm_yy</th>\n",
       "      <td>92</td>\n",
       "      <td>3</td>\n",
       "      <td>May 22</td>\n",
       "      <td>31</td>\n",
       "    </tr>\n",
       "    <tr>\n",
       "      <th>week_no</th>\n",
       "      <td>92</td>\n",
       "      <td>14</td>\n",
       "      <td>W 19</td>\n",
       "      <td>7</td>\n",
       "    </tr>\n",
       "    <tr>\n",
       "      <th>day_type</th>\n",
       "      <td>92</td>\n",
       "      <td>2</td>\n",
       "      <td>weekeday</td>\n",
       "      <td>65</td>\n",
       "    </tr>\n",
       "  </tbody>\n",
       "</table>\n",
       "</div>"
      ],
      "text/plain": [
       "         count unique        top freq\n",
       "date        92     92  01-May-22    1\n",
       "mmm_yy      92      3     May 22   31\n",
       "week_no     92     14       W 19    7\n",
       "day_type    92      2   weekeday   65"
      ]
     },
     "execution_count": 259,
     "metadata": {},
     "output_type": "execute_result"
    }
   ],
   "source": [
    "# gather descriptive statistics about the data\n",
    "dim_date.describe().T"
   ]
  },
  {
   "cell_type": "markdown",
   "metadata": {},
   "source": [
    "#### Check Data Types"
   ]
  },
  {
   "cell_type": "code",
   "execution_count": 260,
   "metadata": {},
   "outputs": [
    {
     "data": {
      "text/plain": [
       "date        object\n",
       "mmm_yy      object\n",
       "week_no     object\n",
       "day_type    object\n",
       "dtype: object"
      ]
     },
     "execution_count": 260,
     "metadata": {},
     "output_type": "execute_result"
    }
   ],
   "source": [
    "# check for datatypes\n",
    "dim_date.dtypes"
   ]
  },
  {
   "cell_type": "code",
   "execution_count": 261,
   "metadata": {},
   "outputs": [
    {
     "name": "stderr",
     "output_type": "stream",
     "text": [
      "C:\\Users\\PC\\AppData\\Local\\Temp\\ipykernel_14476\\2818080668.py:2: UserWarning: Could not infer format, so each element will be parsed individually, falling back to `dateutil`. To ensure parsing is consistent and as-expected, please specify a format.\n",
      "  dim_date['date'] = pd.to_datetime(dim_date['date'])\n"
     ]
    }
   ],
   "source": [
    "# transform object data types to date\n",
    "dim_date['date'] = pd.to_datetime(dim_date['date'])"
   ]
  },
  {
   "cell_type": "markdown",
   "metadata": {},
   "source": [
    "#### Clean Text Data"
   ]
  },
  {
   "cell_type": "code",
   "execution_count": 262,
   "metadata": {},
   "outputs": [],
   "source": [
    "# list of text columns to clean\n",
    "date_text_list = dim_date.select_dtypes(include='object').columns.tolist()\n",
    "\n",
    "# remove spaces at the beginning and end of the string\n",
    "dim_date[date_text_list] = dim_date[date_text_list].apply(lambda x: x.str.strip())\n",
    "\n",
    "# convert text to lowercase\n",
    "dim_date[date_text_list] = dim_date[date_text_list].apply(lambda x: x.str.lower())\n",
    "\n",
    "# Replace spaces in 'week_no' with hyphens for consistency\n",
    "dim_date['mmm_yy'] = dim_date['mmm_yy'].str.replace(' ', '_')\n",
    "\n",
    "# Replace spaces in 'week_no' with hyphens for consistency\n",
    "dim_date['week_no'] = dim_date['week_no'].str.replace(' ', '_')"
   ]
  },
  {
   "cell_type": "markdown",
   "metadata": {},
   "source": [
    "#### Check Missing Values"
   ]
  },
  {
   "cell_type": "code",
   "execution_count": 263,
   "metadata": {},
   "outputs": [
    {
     "data": {
      "text/plain": [
       "date        0\n",
       "mmm_yy      0\n",
       "week_no     0\n",
       "day_type    0\n",
       "dtype: int64"
      ]
     },
     "execution_count": 263,
     "metadata": {},
     "output_type": "execute_result"
    }
   ],
   "source": [
    "# Check for missing values\n",
    "dim_date.isnull().sum()"
   ]
  },
  {
   "cell_type": "markdown",
   "metadata": {},
   "source": [
    "#### Check Duplicate Values"
   ]
  },
  {
   "cell_type": "code",
   "execution_count": 264,
   "metadata": {},
   "outputs": [
    {
     "data": {
      "text/plain": [
       "0"
      ]
     },
     "execution_count": 264,
     "metadata": {},
     "output_type": "execute_result"
    }
   ],
   "source": [
    "# check for duplicated values\n",
    "dim_date.duplicated().sum()"
   ]
  },
  {
   "cell_type": "markdown",
   "metadata": {},
   "source": [
    "**Comment:**\n",
    "No duplicate values found in the column, all entries are unique."
   ]
  },
  {
   "cell_type": "markdown",
   "metadata": {},
   "source": [
    "#### Check Unique Values"
   ]
  },
  {
   "cell_type": "code",
   "execution_count": 265,
   "metadata": {},
   "outputs": [
    {
     "data": {
      "text/plain": [
       "date        92\n",
       "mmm_yy       3\n",
       "week_no     14\n",
       "day_type     2\n",
       "dtype: int64"
      ]
     },
     "execution_count": 265,
     "metadata": {},
     "output_type": "execute_result"
    }
   ],
   "source": [
    "# Check for unique values\n",
    "dim_date.nunique()"
   ]
  },
  {
   "cell_type": "code",
   "execution_count": 266,
   "metadata": {},
   "outputs": [
    {
     "name": "stdout",
     "output_type": "stream",
     "text": [
      "The start date in dim_date df is 2022-05-01 00:00:00\n",
      "The end date in dim_date df is 2022-07-31 00:00:00\n",
      "No missing dates!\n"
     ]
    }
   ],
   "source": [
    "# Define the start and end date range\n",
    "dim_min_date = dim_date['date'].min()\n",
    "dim_max_date = dim_date['date'].max()\n",
    "\n",
    "print(f\"The start date in dim_date df is {dim_min_date}\")\n",
    "print(f\"The end date in dim_date df is {dim_max_date}\")\n",
    "\n",
    "\n",
    "# Create date range standards from min to max date\n",
    "dim_date_range = pd.date_range(start=dim_min_date, end=dim_max_date)\n",
    "\n",
    "# find the missing date\n",
    "dim_date_missing_dates = set(dim_date_range) - set(dim_date['date'])\n",
    "\n",
    "# Kết quả\n",
    "if dim_date_missing_dates:\n",
    "    print(f\"Missing dates: {sorted(dim_date_missing_dates)}\")\n",
    "else:\n",
    "    print(\"No missing dates!\")"
   ]
  },
  {
   "cell_type": "code",
   "execution_count": 267,
   "metadata": {},
   "outputs": [
    {
     "name": "stdout",
     "output_type": "stream",
     "text": [
      "the start check in date in fact_aggregated_bookings df is 2022-05-01 00:00:00\n",
      "the end check in date in fact_aggregated_bookings df is 2022-07-31 00:00:00\n",
      "Missing check in date: []\n"
     ]
    }
   ],
   "source": [
    "# Define the start and end date range\n",
    "print(f\"the start check in date in fact_aggregated_bookings df is {fact_aggregated_bookings['check_in_date'].min()}\")\n",
    "print(f\"the end check in date in fact_aggregated_bookings df is {fact_aggregated_bookings['check_in_date'].max()}\")\n",
    "\n",
    "# Find the missing dates\n",
    "aggregated_check_in_missing_dates = set(fact_aggregated_bookings['check_in_date'].unique()) - set(dim_date['date'].unique())\n",
    "\n",
    "# Print the results\n",
    "print(f\"Missing check in date: {sorted(aggregated_check_in_missing_dates)}\")"
   ]
  },
  {
   "cell_type": "code",
   "execution_count": 268,
   "metadata": {},
   "outputs": [
    {
     "name": "stdout",
     "output_type": "stream",
     "text": [
      "The start booking date in fact_bookings df is 2022-04-07 00:00:00\n",
      "The end booking date in fact_bookings df is 2022-07-31 00:00:00\n",
      "----------------------------------------------------------------------------------------------------\n",
      "Missing bookings date: [Timestamp('2022-04-07 00:00:00'), Timestamp('2022-04-08 00:00:00'), Timestamp('2022-04-09 00:00:00'), Timestamp('2022-04-10 00:00:00'), Timestamp('2022-04-11 00:00:00'), Timestamp('2022-04-12 00:00:00'), Timestamp('2022-04-13 00:00:00'), Timestamp('2022-04-14 00:00:00'), Timestamp('2022-04-15 00:00:00'), Timestamp('2022-04-16 00:00:00'), Timestamp('2022-04-17 00:00:00'), Timestamp('2022-04-18 00:00:00'), Timestamp('2022-04-19 00:00:00'), Timestamp('2022-04-20 00:00:00'), Timestamp('2022-04-21 00:00:00'), Timestamp('2022-04-22 00:00:00'), Timestamp('2022-04-23 00:00:00'), Timestamp('2022-04-24 00:00:00'), Timestamp('2022-04-25 00:00:00'), Timestamp('2022-04-26 00:00:00'), Timestamp('2022-04-27 00:00:00'), Timestamp('2022-04-28 00:00:00'), Timestamp('2022-04-29 00:00:00'), Timestamp('2022-04-30 00:00:00')]\n"
     ]
    }
   ],
   "source": [
    "# Define the start and end date range\n",
    "print(f\"The start booking date in fact_bookings df is {fact_bookings['booking_date'].min()}\")\n",
    "print(f\"The end booking date in fact_bookings df is {fact_bookings['booking_date'].max()}\")\n",
    "\n",
    "# Find the missing dates\n",
    "missing_booking_dates = set(fact_bookings['booking_date'].unique()) - set(dim_date['date'].unique())\n",
    "\n",
    "print(\"--\"*50)\n",
    "\n",
    "# Print the results\n",
    "print(f\"Missing bookings date: {sorted(missing_booking_dates)}\")"
   ]
  },
  {
   "cell_type": "code",
   "execution_count": 269,
   "metadata": {},
   "outputs": [],
   "source": [
    "# convert missing date to DataFrame\n",
    "missing_booking_dates_df = pd.DataFrame({'date': list(missing_booking_dates)})\n",
    "\n",
    "# merge dim_date with missing_booking_dates_df\n",
    "dim_date = pd.concat([dim_date, missing_booking_dates_df]).drop_duplicates(subset=['date']).reset_index(drop=True)"
   ]
  },
  {
   "cell_type": "code",
   "execution_count": 270,
   "metadata": {},
   "outputs": [
    {
     "name": "stdout",
     "output_type": "stream",
     "text": [
      "the start check in date in fact_bookings df is 2022-05-01 00:00:00\n",
      "the end check in date in fact_bookings df is 2022-07-31 00:00:00\n",
      "----------------------------------------------------------------------------------------------------\n",
      "Missing check in date: []\n"
     ]
    }
   ],
   "source": [
    "# Define the start and end date range\n",
    "print(f\"the start check in date in fact_bookings df is {fact_bookings['check_in_date'].min()}\")\n",
    "print(f\"the end check in date in fact_bookings df is {fact_bookings['check_in_date'].max()}\")\n",
    "\n",
    "# Find the missing dates\n",
    "missing_check_in_dates = set(fact_bookings['check_in_date'].unique()) - set(dim_date['date'].unique())\n",
    "\n",
    "print(\"--\"*50)\n",
    "\n",
    "# Print the results\n",
    "print(f\"Missing check in date: {sorted(missing_check_in_dates)}\")"
   ]
  },
  {
   "cell_type": "code",
   "execution_count": 271,
   "metadata": {},
   "outputs": [
    {
     "name": "stdout",
     "output_type": "stream",
     "text": [
      "the start check out date fact_bookings df is 2022-05-02 00:00:00\n",
      "the end check out date fact_bookings df is 2022-08-06 00:00:00\n",
      "----------------------------------------------------------------------------------------------------\n",
      "Missing check out date: [Timestamp('2022-08-01 00:00:00'), Timestamp('2022-08-02 00:00:00'), Timestamp('2022-08-03 00:00:00'), Timestamp('2022-08-04 00:00:00'), Timestamp('2022-08-05 00:00:00'), Timestamp('2022-08-06 00:00:00')]\n"
     ]
    }
   ],
   "source": [
    "# Define the start and end date range\n",
    "print(f\"the start check out date fact_bookings df is {fact_bookings['check_out_date'].min()}\")\n",
    "print(f\"the end check out date fact_bookings df is {fact_bookings['check_out_date'].max()}\")\n",
    "\n",
    "# Find the missing dates\n",
    "missing_check_out_dates = set(fact_bookings['check_out_date'].unique()) - set(dim_date['date'].unique())\n",
    "\n",
    "print(\"--\"*50)\n",
    "\n",
    "# Print the results\n",
    "print(f\"Missing check out date: {sorted(missing_check_out_dates)}\")"
   ]
  },
  {
   "cell_type": "code",
   "execution_count": 272,
   "metadata": {},
   "outputs": [],
   "source": [
    "# convert missing date to DataFrame\n",
    "missing_check_out_dates_df = pd.DataFrame({'date': list(missing_check_out_dates)})\n",
    "\n",
    "# merge dim_date with missing_out_dates_df\n",
    "dim_date = pd.concat([dim_date, missing_check_out_dates_df]).drop_duplicates(subset=['date']).reset_index(drop=True)"
   ]
  },
  {
   "cell_type": "code",
   "execution_count": 273,
   "metadata": {},
   "outputs": [
    {
     "name": "stdout",
     "output_type": "stream",
     "text": [
      "The percentage of null values in the columns is: 24.59%\n"
     ]
    }
   ],
   "source": [
    "# check the percentage of missing values\n",
    "print(f\"The percentage of null values in the columns is: {dim_date['mmm_yy'].isnull().sum() / dim_date.shape[0] * 100 :.2f}%\")"
   ]
  },
  {
   "cell_type": "code",
   "execution_count": 274,
   "metadata": {},
   "outputs": [
    {
     "data": {
      "text/html": [
       "<div>\n",
       "<style scoped>\n",
       "    .dataframe tbody tr th:only-of-type {\n",
       "        vertical-align: middle;\n",
       "    }\n",
       "\n",
       "    .dataframe tbody tr th {\n",
       "        vertical-align: top;\n",
       "    }\n",
       "\n",
       "    .dataframe thead th {\n",
       "        text-align: right;\n",
       "    }\n",
       "</style>\n",
       "<table border=\"1\" class=\"dataframe\">\n",
       "  <thead>\n",
       "    <tr style=\"text-align: right;\">\n",
       "      <th></th>\n",
       "      <th>date</th>\n",
       "      <th>mmm_yy</th>\n",
       "      <th>week_no</th>\n",
       "      <th>day_type</th>\n",
       "    </tr>\n",
       "  </thead>\n",
       "  <tbody>\n",
       "    <tr>\n",
       "      <th>92</th>\n",
       "      <td>2022-04-22</td>\n",
       "      <td>NaN</td>\n",
       "      <td>NaN</td>\n",
       "      <td>NaN</td>\n",
       "    </tr>\n",
       "    <tr>\n",
       "      <th>93</th>\n",
       "      <td>2022-04-29</td>\n",
       "      <td>NaN</td>\n",
       "      <td>NaN</td>\n",
       "      <td>NaN</td>\n",
       "    </tr>\n",
       "    <tr>\n",
       "      <th>94</th>\n",
       "      <td>2022-04-21</td>\n",
       "      <td>NaN</td>\n",
       "      <td>NaN</td>\n",
       "      <td>NaN</td>\n",
       "    </tr>\n",
       "    <tr>\n",
       "      <th>95</th>\n",
       "      <td>2022-04-24</td>\n",
       "      <td>NaN</td>\n",
       "      <td>NaN</td>\n",
       "      <td>NaN</td>\n",
       "    </tr>\n",
       "    <tr>\n",
       "      <th>96</th>\n",
       "      <td>2022-04-25</td>\n",
       "      <td>NaN</td>\n",
       "      <td>NaN</td>\n",
       "      <td>NaN</td>\n",
       "    </tr>\n",
       "    <tr>\n",
       "      <th>97</th>\n",
       "      <td>2022-04-13</td>\n",
       "      <td>NaN</td>\n",
       "      <td>NaN</td>\n",
       "      <td>NaN</td>\n",
       "    </tr>\n",
       "    <tr>\n",
       "      <th>98</th>\n",
       "      <td>2022-04-23</td>\n",
       "      <td>NaN</td>\n",
       "      <td>NaN</td>\n",
       "      <td>NaN</td>\n",
       "    </tr>\n",
       "    <tr>\n",
       "      <th>99</th>\n",
       "      <td>2022-04-15</td>\n",
       "      <td>NaN</td>\n",
       "      <td>NaN</td>\n",
       "      <td>NaN</td>\n",
       "    </tr>\n",
       "    <tr>\n",
       "      <th>100</th>\n",
       "      <td>2022-04-09</td>\n",
       "      <td>NaN</td>\n",
       "      <td>NaN</td>\n",
       "      <td>NaN</td>\n",
       "    </tr>\n",
       "    <tr>\n",
       "      <th>101</th>\n",
       "      <td>2022-04-10</td>\n",
       "      <td>NaN</td>\n",
       "      <td>NaN</td>\n",
       "      <td>NaN</td>\n",
       "    </tr>\n",
       "    <tr>\n",
       "      <th>102</th>\n",
       "      <td>2022-04-27</td>\n",
       "      <td>NaN</td>\n",
       "      <td>NaN</td>\n",
       "      <td>NaN</td>\n",
       "    </tr>\n",
       "    <tr>\n",
       "      <th>103</th>\n",
       "      <td>2022-04-28</td>\n",
       "      <td>NaN</td>\n",
       "      <td>NaN</td>\n",
       "      <td>NaN</td>\n",
       "    </tr>\n",
       "    <tr>\n",
       "      <th>104</th>\n",
       "      <td>2022-04-12</td>\n",
       "      <td>NaN</td>\n",
       "      <td>NaN</td>\n",
       "      <td>NaN</td>\n",
       "    </tr>\n",
       "    <tr>\n",
       "      <th>105</th>\n",
       "      <td>2022-04-18</td>\n",
       "      <td>NaN</td>\n",
       "      <td>NaN</td>\n",
       "      <td>NaN</td>\n",
       "    </tr>\n",
       "    <tr>\n",
       "      <th>106</th>\n",
       "      <td>2022-04-20</td>\n",
       "      <td>NaN</td>\n",
       "      <td>NaN</td>\n",
       "      <td>NaN</td>\n",
       "    </tr>\n",
       "    <tr>\n",
       "      <th>107</th>\n",
       "      <td>2022-04-17</td>\n",
       "      <td>NaN</td>\n",
       "      <td>NaN</td>\n",
       "      <td>NaN</td>\n",
       "    </tr>\n",
       "    <tr>\n",
       "      <th>108</th>\n",
       "      <td>2022-04-08</td>\n",
       "      <td>NaN</td>\n",
       "      <td>NaN</td>\n",
       "      <td>NaN</td>\n",
       "    </tr>\n",
       "    <tr>\n",
       "      <th>109</th>\n",
       "      <td>2022-04-30</td>\n",
       "      <td>NaN</td>\n",
       "      <td>NaN</td>\n",
       "      <td>NaN</td>\n",
       "    </tr>\n",
       "    <tr>\n",
       "      <th>110</th>\n",
       "      <td>2022-04-16</td>\n",
       "      <td>NaN</td>\n",
       "      <td>NaN</td>\n",
       "      <td>NaN</td>\n",
       "    </tr>\n",
       "    <tr>\n",
       "      <th>111</th>\n",
       "      <td>2022-04-11</td>\n",
       "      <td>NaN</td>\n",
       "      <td>NaN</td>\n",
       "      <td>NaN</td>\n",
       "    </tr>\n",
       "    <tr>\n",
       "      <th>112</th>\n",
       "      <td>2022-04-14</td>\n",
       "      <td>NaN</td>\n",
       "      <td>NaN</td>\n",
       "      <td>NaN</td>\n",
       "    </tr>\n",
       "    <tr>\n",
       "      <th>113</th>\n",
       "      <td>2022-04-26</td>\n",
       "      <td>NaN</td>\n",
       "      <td>NaN</td>\n",
       "      <td>NaN</td>\n",
       "    </tr>\n",
       "    <tr>\n",
       "      <th>114</th>\n",
       "      <td>2022-04-19</td>\n",
       "      <td>NaN</td>\n",
       "      <td>NaN</td>\n",
       "      <td>NaN</td>\n",
       "    </tr>\n",
       "    <tr>\n",
       "      <th>115</th>\n",
       "      <td>2022-04-07</td>\n",
       "      <td>NaN</td>\n",
       "      <td>NaN</td>\n",
       "      <td>NaN</td>\n",
       "    </tr>\n",
       "    <tr>\n",
       "      <th>116</th>\n",
       "      <td>2022-08-01</td>\n",
       "      <td>NaN</td>\n",
       "      <td>NaN</td>\n",
       "      <td>NaN</td>\n",
       "    </tr>\n",
       "    <tr>\n",
       "      <th>117</th>\n",
       "      <td>2022-08-04</td>\n",
       "      <td>NaN</td>\n",
       "      <td>NaN</td>\n",
       "      <td>NaN</td>\n",
       "    </tr>\n",
       "    <tr>\n",
       "      <th>118</th>\n",
       "      <td>2022-08-05</td>\n",
       "      <td>NaN</td>\n",
       "      <td>NaN</td>\n",
       "      <td>NaN</td>\n",
       "    </tr>\n",
       "    <tr>\n",
       "      <th>119</th>\n",
       "      <td>2022-08-03</td>\n",
       "      <td>NaN</td>\n",
       "      <td>NaN</td>\n",
       "      <td>NaN</td>\n",
       "    </tr>\n",
       "    <tr>\n",
       "      <th>120</th>\n",
       "      <td>2022-08-02</td>\n",
       "      <td>NaN</td>\n",
       "      <td>NaN</td>\n",
       "      <td>NaN</td>\n",
       "    </tr>\n",
       "    <tr>\n",
       "      <th>121</th>\n",
       "      <td>2022-08-06</td>\n",
       "      <td>NaN</td>\n",
       "      <td>NaN</td>\n",
       "      <td>NaN</td>\n",
       "    </tr>\n",
       "  </tbody>\n",
       "</table>\n",
       "</div>"
      ],
      "text/plain": [
       "          date mmm_yy week_no day_type\n",
       "92  2022-04-22    NaN     NaN      NaN\n",
       "93  2022-04-29    NaN     NaN      NaN\n",
       "94  2022-04-21    NaN     NaN      NaN\n",
       "95  2022-04-24    NaN     NaN      NaN\n",
       "96  2022-04-25    NaN     NaN      NaN\n",
       "97  2022-04-13    NaN     NaN      NaN\n",
       "98  2022-04-23    NaN     NaN      NaN\n",
       "99  2022-04-15    NaN     NaN      NaN\n",
       "100 2022-04-09    NaN     NaN      NaN\n",
       "101 2022-04-10    NaN     NaN      NaN\n",
       "102 2022-04-27    NaN     NaN      NaN\n",
       "103 2022-04-28    NaN     NaN      NaN\n",
       "104 2022-04-12    NaN     NaN      NaN\n",
       "105 2022-04-18    NaN     NaN      NaN\n",
       "106 2022-04-20    NaN     NaN      NaN\n",
       "107 2022-04-17    NaN     NaN      NaN\n",
       "108 2022-04-08    NaN     NaN      NaN\n",
       "109 2022-04-30    NaN     NaN      NaN\n",
       "110 2022-04-16    NaN     NaN      NaN\n",
       "111 2022-04-11    NaN     NaN      NaN\n",
       "112 2022-04-14    NaN     NaN      NaN\n",
       "113 2022-04-26    NaN     NaN      NaN\n",
       "114 2022-04-19    NaN     NaN      NaN\n",
       "115 2022-04-07    NaN     NaN      NaN\n",
       "116 2022-08-01    NaN     NaN      NaN\n",
       "117 2022-08-04    NaN     NaN      NaN\n",
       "118 2022-08-05    NaN     NaN      NaN\n",
       "119 2022-08-03    NaN     NaN      NaN\n",
       "120 2022-08-02    NaN     NaN      NaN\n",
       "121 2022-08-06    NaN     NaN      NaN"
      ]
     },
     "execution_count": 274,
     "metadata": {},
     "output_type": "execute_result"
    }
   ],
   "source": [
    "# check null values in the columns that have booking status is in \"cancelled\" or \"no show\"\n",
    "null_dim_date = dim_date.index[\n",
    "    (dim_date['mmm_yy'].isnull()) &\n",
    "    (dim_date['week_no'].isnull()) &\n",
    "    (dim_date['day_type'].isnull())\n",
    "                                ].to_list()\n",
    "# display null values\n",
    "null_dim_date\n",
    "dim_date.loc[null_dim_date, ]"
   ]
  },
  {
   "cell_type": "code",
   "execution_count": 275,
   "metadata": {},
   "outputs": [],
   "source": [
    "# Fill missing values for 'mmm_yy' column using 'date' column\n",
    "dim_date['mmm_yy'] = dim_date['mmm_yy'].fillna(dim_date['date'].dt.strftime('%b_%y'))\n",
    "\n",
    "# Fill missing values for 'week_no' column using 'date' column\n",
    "dim_date['week_no'] = dim_date['week_no'].fillna('w_' + dim_date['date'].dt.isocalendar().week.astype(str))\n",
    "\n",
    "# Fill missing values for 'day_type' column based on 'date'\n",
    "dim_date['day_type'] = dim_date['day_type'].fillna(dim_date['date'].dt.dayofweek.apply(lambda x: 'weekend' if x >= 5 else 'weekdays'))"
   ]
  },
  {
   "cell_type": "code",
   "execution_count": 276,
   "metadata": {},
   "outputs": [
    {
     "data": {
      "text/html": [
       "<div>\n",
       "<style scoped>\n",
       "    .dataframe tbody tr th:only-of-type {\n",
       "        vertical-align: middle;\n",
       "    }\n",
       "\n",
       "    .dataframe tbody tr th {\n",
       "        vertical-align: top;\n",
       "    }\n",
       "\n",
       "    .dataframe thead th {\n",
       "        text-align: right;\n",
       "    }\n",
       "</style>\n",
       "<table border=\"1\" class=\"dataframe\">\n",
       "  <thead>\n",
       "    <tr style=\"text-align: right;\">\n",
       "      <th></th>\n",
       "      <th>date</th>\n",
       "      <th>mmm_yy</th>\n",
       "      <th>week_no</th>\n",
       "      <th>day_type</th>\n",
       "    </tr>\n",
       "  </thead>\n",
       "  <tbody>\n",
       "    <tr>\n",
       "      <th>92</th>\n",
       "      <td>2022-04-22</td>\n",
       "      <td>Apr_22</td>\n",
       "      <td>w_16</td>\n",
       "      <td>weekdays</td>\n",
       "    </tr>\n",
       "    <tr>\n",
       "      <th>93</th>\n",
       "      <td>2022-04-29</td>\n",
       "      <td>Apr_22</td>\n",
       "      <td>w_17</td>\n",
       "      <td>weekdays</td>\n",
       "    </tr>\n",
       "    <tr>\n",
       "      <th>94</th>\n",
       "      <td>2022-04-21</td>\n",
       "      <td>Apr_22</td>\n",
       "      <td>w_16</td>\n",
       "      <td>weekdays</td>\n",
       "    </tr>\n",
       "    <tr>\n",
       "      <th>95</th>\n",
       "      <td>2022-04-24</td>\n",
       "      <td>Apr_22</td>\n",
       "      <td>w_16</td>\n",
       "      <td>weekend</td>\n",
       "    </tr>\n",
       "    <tr>\n",
       "      <th>96</th>\n",
       "      <td>2022-04-25</td>\n",
       "      <td>Apr_22</td>\n",
       "      <td>w_17</td>\n",
       "      <td>weekdays</td>\n",
       "    </tr>\n",
       "    <tr>\n",
       "      <th>97</th>\n",
       "      <td>2022-04-13</td>\n",
       "      <td>Apr_22</td>\n",
       "      <td>w_15</td>\n",
       "      <td>weekdays</td>\n",
       "    </tr>\n",
       "    <tr>\n",
       "      <th>98</th>\n",
       "      <td>2022-04-23</td>\n",
       "      <td>Apr_22</td>\n",
       "      <td>w_16</td>\n",
       "      <td>weekend</td>\n",
       "    </tr>\n",
       "    <tr>\n",
       "      <th>99</th>\n",
       "      <td>2022-04-15</td>\n",
       "      <td>Apr_22</td>\n",
       "      <td>w_15</td>\n",
       "      <td>weekdays</td>\n",
       "    </tr>\n",
       "    <tr>\n",
       "      <th>100</th>\n",
       "      <td>2022-04-09</td>\n",
       "      <td>Apr_22</td>\n",
       "      <td>w_14</td>\n",
       "      <td>weekend</td>\n",
       "    </tr>\n",
       "    <tr>\n",
       "      <th>101</th>\n",
       "      <td>2022-04-10</td>\n",
       "      <td>Apr_22</td>\n",
       "      <td>w_14</td>\n",
       "      <td>weekend</td>\n",
       "    </tr>\n",
       "    <tr>\n",
       "      <th>102</th>\n",
       "      <td>2022-04-27</td>\n",
       "      <td>Apr_22</td>\n",
       "      <td>w_17</td>\n",
       "      <td>weekdays</td>\n",
       "    </tr>\n",
       "    <tr>\n",
       "      <th>103</th>\n",
       "      <td>2022-04-28</td>\n",
       "      <td>Apr_22</td>\n",
       "      <td>w_17</td>\n",
       "      <td>weekdays</td>\n",
       "    </tr>\n",
       "    <tr>\n",
       "      <th>104</th>\n",
       "      <td>2022-04-12</td>\n",
       "      <td>Apr_22</td>\n",
       "      <td>w_15</td>\n",
       "      <td>weekdays</td>\n",
       "    </tr>\n",
       "    <tr>\n",
       "      <th>105</th>\n",
       "      <td>2022-04-18</td>\n",
       "      <td>Apr_22</td>\n",
       "      <td>w_16</td>\n",
       "      <td>weekdays</td>\n",
       "    </tr>\n",
       "    <tr>\n",
       "      <th>106</th>\n",
       "      <td>2022-04-20</td>\n",
       "      <td>Apr_22</td>\n",
       "      <td>w_16</td>\n",
       "      <td>weekdays</td>\n",
       "    </tr>\n",
       "    <tr>\n",
       "      <th>107</th>\n",
       "      <td>2022-04-17</td>\n",
       "      <td>Apr_22</td>\n",
       "      <td>w_15</td>\n",
       "      <td>weekend</td>\n",
       "    </tr>\n",
       "    <tr>\n",
       "      <th>108</th>\n",
       "      <td>2022-04-08</td>\n",
       "      <td>Apr_22</td>\n",
       "      <td>w_14</td>\n",
       "      <td>weekdays</td>\n",
       "    </tr>\n",
       "    <tr>\n",
       "      <th>109</th>\n",
       "      <td>2022-04-30</td>\n",
       "      <td>Apr_22</td>\n",
       "      <td>w_17</td>\n",
       "      <td>weekend</td>\n",
       "    </tr>\n",
       "    <tr>\n",
       "      <th>110</th>\n",
       "      <td>2022-04-16</td>\n",
       "      <td>Apr_22</td>\n",
       "      <td>w_15</td>\n",
       "      <td>weekend</td>\n",
       "    </tr>\n",
       "    <tr>\n",
       "      <th>111</th>\n",
       "      <td>2022-04-11</td>\n",
       "      <td>Apr_22</td>\n",
       "      <td>w_15</td>\n",
       "      <td>weekdays</td>\n",
       "    </tr>\n",
       "    <tr>\n",
       "      <th>112</th>\n",
       "      <td>2022-04-14</td>\n",
       "      <td>Apr_22</td>\n",
       "      <td>w_15</td>\n",
       "      <td>weekdays</td>\n",
       "    </tr>\n",
       "    <tr>\n",
       "      <th>113</th>\n",
       "      <td>2022-04-26</td>\n",
       "      <td>Apr_22</td>\n",
       "      <td>w_17</td>\n",
       "      <td>weekdays</td>\n",
       "    </tr>\n",
       "    <tr>\n",
       "      <th>114</th>\n",
       "      <td>2022-04-19</td>\n",
       "      <td>Apr_22</td>\n",
       "      <td>w_16</td>\n",
       "      <td>weekdays</td>\n",
       "    </tr>\n",
       "    <tr>\n",
       "      <th>115</th>\n",
       "      <td>2022-04-07</td>\n",
       "      <td>Apr_22</td>\n",
       "      <td>w_14</td>\n",
       "      <td>weekdays</td>\n",
       "    </tr>\n",
       "    <tr>\n",
       "      <th>116</th>\n",
       "      <td>2022-08-01</td>\n",
       "      <td>Aug_22</td>\n",
       "      <td>w_31</td>\n",
       "      <td>weekdays</td>\n",
       "    </tr>\n",
       "    <tr>\n",
       "      <th>117</th>\n",
       "      <td>2022-08-04</td>\n",
       "      <td>Aug_22</td>\n",
       "      <td>w_31</td>\n",
       "      <td>weekdays</td>\n",
       "    </tr>\n",
       "    <tr>\n",
       "      <th>118</th>\n",
       "      <td>2022-08-05</td>\n",
       "      <td>Aug_22</td>\n",
       "      <td>w_31</td>\n",
       "      <td>weekdays</td>\n",
       "    </tr>\n",
       "    <tr>\n",
       "      <th>119</th>\n",
       "      <td>2022-08-03</td>\n",
       "      <td>Aug_22</td>\n",
       "      <td>w_31</td>\n",
       "      <td>weekdays</td>\n",
       "    </tr>\n",
       "    <tr>\n",
       "      <th>120</th>\n",
       "      <td>2022-08-02</td>\n",
       "      <td>Aug_22</td>\n",
       "      <td>w_31</td>\n",
       "      <td>weekdays</td>\n",
       "    </tr>\n",
       "    <tr>\n",
       "      <th>121</th>\n",
       "      <td>2022-08-06</td>\n",
       "      <td>Aug_22</td>\n",
       "      <td>w_31</td>\n",
       "      <td>weekend</td>\n",
       "    </tr>\n",
       "  </tbody>\n",
       "</table>\n",
       "</div>"
      ],
      "text/plain": [
       "          date  mmm_yy week_no  day_type\n",
       "92  2022-04-22  Apr_22    w_16  weekdays\n",
       "93  2022-04-29  Apr_22    w_17  weekdays\n",
       "94  2022-04-21  Apr_22    w_16  weekdays\n",
       "95  2022-04-24  Apr_22    w_16   weekend\n",
       "96  2022-04-25  Apr_22    w_17  weekdays\n",
       "97  2022-04-13  Apr_22    w_15  weekdays\n",
       "98  2022-04-23  Apr_22    w_16   weekend\n",
       "99  2022-04-15  Apr_22    w_15  weekdays\n",
       "100 2022-04-09  Apr_22    w_14   weekend\n",
       "101 2022-04-10  Apr_22    w_14   weekend\n",
       "102 2022-04-27  Apr_22    w_17  weekdays\n",
       "103 2022-04-28  Apr_22    w_17  weekdays\n",
       "104 2022-04-12  Apr_22    w_15  weekdays\n",
       "105 2022-04-18  Apr_22    w_16  weekdays\n",
       "106 2022-04-20  Apr_22    w_16  weekdays\n",
       "107 2022-04-17  Apr_22    w_15   weekend\n",
       "108 2022-04-08  Apr_22    w_14  weekdays\n",
       "109 2022-04-30  Apr_22    w_17   weekend\n",
       "110 2022-04-16  Apr_22    w_15   weekend\n",
       "111 2022-04-11  Apr_22    w_15  weekdays\n",
       "112 2022-04-14  Apr_22    w_15  weekdays\n",
       "113 2022-04-26  Apr_22    w_17  weekdays\n",
       "114 2022-04-19  Apr_22    w_16  weekdays\n",
       "115 2022-04-07  Apr_22    w_14  weekdays\n",
       "116 2022-08-01  Aug_22    w_31  weekdays\n",
       "117 2022-08-04  Aug_22    w_31  weekdays\n",
       "118 2022-08-05  Aug_22    w_31  weekdays\n",
       "119 2022-08-03  Aug_22    w_31  weekdays\n",
       "120 2022-08-02  Aug_22    w_31  weekdays\n",
       "121 2022-08-06  Aug_22    w_31   weekend"
      ]
     },
     "execution_count": 276,
     "metadata": {},
     "output_type": "execute_result"
    }
   ],
   "source": [
    "# check results after processing\n",
    "null_dim_date\n",
    "dim_date.loc[null_dim_date, ]"
   ]
  },
  {
   "cell_type": "code",
   "execution_count": 277,
   "metadata": {},
   "outputs": [
    {
     "name": "stdout",
     "output_type": "stream",
     "text": [
      "The number of unique values in the column is 5\n",
      "['may_22' 'jun_22' 'jul_22' 'Apr_22' 'Aug_22']\n"
     ]
    }
   ],
   "source": [
    "# check unique values in the column\n",
    "print(f\"The number of unique values in the column is {dim_date['mmm_yy'].unique().shape[0]}\")\n",
    "print(f\"{dim_date['mmm_yy'].unique()}\")"
   ]
  },
  {
   "cell_type": "code",
   "execution_count": 278,
   "metadata": {},
   "outputs": [
    {
     "name": "stdout",
     "output_type": "stream",
     "text": [
      "The number of unique values in the column is 5\n",
      "['may_22' 'jun_22' 'jul_22' 'apr_22' 'aug_22']\n"
     ]
    }
   ],
   "source": [
    "# convert text to lowercase\n",
    "dim_date['mmm_yy'] = dim_date['mmm_yy'].apply(lambda x: x.lower())\n",
    "# check unique values in the column\n",
    "print(f\"The number of unique values in the column is {dim_date['mmm_yy'].unique().shape[0]}\")\n",
    "print(f\"{dim_date['mmm_yy'].unique()}\")"
   ]
  },
  {
   "cell_type": "code",
   "execution_count": 279,
   "metadata": {},
   "outputs": [
    {
     "name": "stdout",
     "output_type": "stream",
     "text": [
      "The number of unique values in the column is 18\n",
      "['w_19' 'w_20' 'w_21' 'w_22' 'w_23' 'w_24' 'w_25' 'w_26' 'w_27' 'w_28'\n",
      " 'w_29' 'w_30' 'w_31' 'w_32' 'w_16' 'w_17' 'w_15' 'w_14']\n"
     ]
    }
   ],
   "source": [
    "# check unique values in the column\n",
    "print(f\"The number of unique values in the column is {dim_date['week_no'].unique().shape[0]}\")\n",
    "print(f\"{dim_date['week_no'].unique()}\")"
   ]
  },
  {
   "cell_type": "code",
   "execution_count": 280,
   "metadata": {},
   "outputs": [
    {
     "name": "stdout",
     "output_type": "stream",
     "text": [
      "The number of unique values in the column is 3\n",
      "['weekend' 'weekeday' 'weekdays']\n"
     ]
    }
   ],
   "source": [
    "# check unique values in the column\n",
    "print(f\"The number of unique values in the column is {dim_date['day_type'].unique().shape[0]}\")\n",
    "print(f\"{dim_date['day_type'].unique()}\")"
   ]
  },
  {
   "cell_type": "code",
   "execution_count": 281,
   "metadata": {},
   "outputs": [],
   "source": [
    "# Replace non-valid values in 'day_type' with valid values\n",
    "dim_date['day_type'] = dim_date['day_type'].str.replace('weekeday', 'weekdays')"
   ]
  },
  {
   "cell_type": "markdown",
   "metadata": {},
   "source": [
    "#### Sort Data\n",
    "After cleaning your data, sorting is essential for easier analysis."
   ]
  },
  {
   "cell_type": "code",
   "execution_count": 282,
   "metadata": {},
   "outputs": [],
   "source": [
    "# Sort the DataFrame by the specified column\n",
    "dim_date = dim_date.sort_values(by=['date'], ascending=True).reset_index(drop=True)"
   ]
  },
  {
   "cell_type": "markdown",
   "metadata": {},
   "source": [
    "## Saving Cleaned Data"
   ]
  },
  {
   "cell_type": "code",
   "execution_count": 283,
   "metadata": {},
   "outputs": [],
   "source": [
    "# Import dim_hotels\n",
    "dim_hotels.to_csv(\"C:/Users/PC/Downloads/AtliQ_Grands_Hospitality_Revenue_Strategy_Project/data/processed/dim_hotels.csv\")\n",
    "# Import dim_rooms\n",
    "dim_rooms.to_csv(\"C:/Users/PC/Downloads/AtliQ_Grands_Hospitality_Revenue_Strategy_Project/data/processed/dim_rooms.csv\")\n",
    "# Import dim_date\n",
    "dim_date.to_csv(\"C:/Users/PC/Downloads/AtliQ_Grands_Hospitality_Revenue_Strategy_Project/data/processed/dim_date.csv\")\n",
    "# Import fact_order_lines\n",
    "fact_bookings.to_csv(\"C:/Users/PC/Downloads/AtliQ_Grands_Hospitality_Revenue_Strategy_Project/data/processed/fact_bookings.csv\")\n",
    "# Import fact_aggregated_bookings\n",
    "fact_aggregated_bookings.to_csv(\"C:/Users/PC/Downloads/AtliQ_Grands_Hospitality_Revenue_Strategy_Project/data/processed/fact_aggregated_bookings.csv\")"
   ]
  },
  {
   "cell_type": "markdown",
   "metadata": {},
   "source": [
    "# END!"
   ]
  }
 ],
 "metadata": {
  "kernelspec": {
   "display_name": "Python 3",
   "language": "python",
   "name": "python3"
  },
  "language_info": {
   "codemirror_mode": {
    "name": "ipython",
    "version": 3
   },
   "file_extension": ".py",
   "mimetype": "text/x-python",
   "name": "python",
   "nbconvert_exporter": "python",
   "pygments_lexer": "ipython3",
   "version": "3.11.4"
  }
 },
 "nbformat": 4,
 "nbformat_minor": 2
}
